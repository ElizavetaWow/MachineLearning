{
  "cells": [
    {
      "cell_type": "markdown",
      "metadata": {
        "id": "_gE94V3G1RCx"
      },
      "source": [
        "# 01. Знакомство с `torch.Tensor`\n",
        "\n",
        "V 0.1 04.02.2021"
      ]
    },
    {
      "cell_type": "markdown",
      "metadata": {
        "id": "TlWOXn0f1RC7"
      },
      "source": [
        "---"
      ]
    },
    {
      "cell_type": "markdown",
      "metadata": {
        "id": "lZfJ1FRM1RC8"
      },
      "source": [
        "При решении данных задач не подразумевается использования циклов или генераторов Python, если в задании не сказано обратного. Решение должно опираться на использование функционала библиотеки `torch`.\n",
        "\n",
        "[PyTorch documentation](https://pytorch.org/docs/stable/#pytorch-documentation)"
      ]
    },
    {
      "cell_type": "code",
      "execution_count": 138,
      "metadata": {
        "id": "b3AW8rF-1RC9"
      },
      "outputs": [],
      "source": [
        "import torch\n",
        "import numpy as np"
      ]
    },
    {
      "cell_type": "markdown",
      "metadata": {
        "id": "vow49PuE1RC9"
      },
      "source": [
        "## 1.1 Создание тензоров и выполнение базовых операций над ними\n",
        "\n",
        "[Документация по функциям для создания тензоров](https://pytorch.org/docs/stable/torch.html#creation-ops)\n",
        "\n",
        "[Документация по функциям для работы с индексами](https://pytorch.org/docs/stable/torch.html#indexing-slicing-joining-mutating-ops)"
      ]
    },
    {
      "cell_type": "markdown",
      "metadata": {
        "id": "wBIwO1SB1RC-"
      },
      "source": [
        "1.1.1 Создайте двумерный тензор размера (8, 8). Используя как можно меньше операций, добейтесь расстановки кодов \"шахматных фигур\".\n",
        "\n",
        "Ожидаемый результат:\n",
        "\n",
        "```\n",
        "[[-4., -3., -2., -6., -5., -2., -3., -4.],\n",
        " [-1., -1., -1., -1., -1., -1., -1., -1.],\n",
        " [0., 0., 0., 0., 0., 0., 0., 0.],\n",
        " [0., 0., 0., 0., 0., 0., 0., 0.],\n",
        " [0., 0., 0., 0., 0., 0., 0., 0.],\n",
        " [0., 0., 0., 0., 0., 0., 0., 0.],\n",
        " [1., 1., 1., 1., 1., 1., 1., 1.],\n",
        " [4., 3., 2., 6., 5., 2., 3., 4.]]\n",
        "\n",
        "```"
      ]
    },
    {
      "cell_type": "code",
      "source": [
        "tensor = torch.zeros(8, 8)\n",
        "tensor[7] = torch.tensor([4., 3., 2., 6., 5., 2., 3., 4.])\n",
        "tensor[6] = torch.ones(1, 8)\n",
        "tensor[0] = tensor[7]*(-1)\n",
        "tensor[1] = tensor[6]*(-1)\n",
        "tensor"
      ],
      "metadata": {
        "colab": {
          "base_uri": "https://localhost:8080/"
        },
        "id": "Ny9iWx0gDx6K",
        "outputId": "d2561486-f77f-4c30-af8f-221365dc97af"
      },
      "execution_count": 35,
      "outputs": [
        {
          "output_type": "execute_result",
          "data": {
            "text/plain": [
              "tensor([[-4., -3., -2., -6., -5., -2., -3., -4.],\n",
              "        [-1., -1., -1., -1., -1., -1., -1., -1.],\n",
              "        [ 0.,  0.,  0.,  0.,  0.,  0.,  0.,  0.],\n",
              "        [ 0.,  0.,  0.,  0.,  0.,  0.,  0.,  0.],\n",
              "        [ 0.,  0.,  0.,  0.,  0.,  0.,  0.,  0.],\n",
              "        [ 0.,  0.,  0.,  0.,  0.,  0.,  0.,  0.],\n",
              "        [ 1.,  1.,  1.,  1.,  1.,  1.,  1.,  1.],\n",
              "        [ 4.,  3.,  2.,  6.,  5.,  2.,  3.,  4.]])"
            ]
          },
          "metadata": {},
          "execution_count": 35
        }
      ]
    },
    {
      "cell_type": "markdown",
      "metadata": {
        "id": "20x5RE1V1RC_"
      },
      "source": [
        "1.1.2 Средствами `torch` рассчитать произведения четных чисел от 2 до 20 на ближайшие к ним бОльшие нечетные числа."
      ]
    },
    {
      "cell_type": "code",
      "source": [
        "torch.arange(2,22,2)*torch.arange(3,23,2)"
      ],
      "metadata": {
        "colab": {
          "base_uri": "https://localhost:8080/"
        },
        "id": "czZucXHgGQeZ",
        "outputId": "fc279c1b-7648-4dc9-8cf4-9658eaad6c1e"
      },
      "execution_count": 12,
      "outputs": [
        {
          "output_type": "execute_result",
          "data": {
            "text/plain": [
              "tensor([  6,  20,  42,  72, 110, 156, 210, 272, 342, 420])"
            ]
          },
          "metadata": {},
          "execution_count": 12
        }
      ]
    },
    {
      "cell_type": "markdown",
      "metadata": {
        "id": "N_-t5GRM1RC_"
      },
      "source": [
        "1.1.3 Создать тензор размера 11x7 вида: [[1, 2, 3, ..., 7], [11, 12, 13, ..., 17], [21, 22, 23, ..., 27], ..., [101, 102, 103, ..., 107]]"
      ]
    },
    {
      "cell_type": "code",
      "source": [
        "torch.arange(0,7).repeat(11, 1)+torch.transpose(torch.arange(1,110, 10).repeat(7, 1), 0, 1)"
      ],
      "metadata": {
        "colab": {
          "base_uri": "https://localhost:8080/"
        },
        "id": "TH4kcHVHGV-B",
        "outputId": "6262fecc-fcb1-48ba-fa60-cac6fe4d4c29"
      },
      "execution_count": 54,
      "outputs": [
        {
          "output_type": "execute_result",
          "data": {
            "text/plain": [
              "tensor([[  1,   2,   3,   4,   5,   6,   7],\n",
              "        [ 11,  12,  13,  14,  15,  16,  17],\n",
              "        [ 21,  22,  23,  24,  25,  26,  27],\n",
              "        [ 31,  32,  33,  34,  35,  36,  37],\n",
              "        [ 41,  42,  43,  44,  45,  46,  47],\n",
              "        [ 51,  52,  53,  54,  55,  56,  57],\n",
              "        [ 61,  62,  63,  64,  65,  66,  67],\n",
              "        [ 71,  72,  73,  74,  75,  76,  77],\n",
              "        [ 81,  82,  83,  84,  85,  86,  87],\n",
              "        [ 91,  92,  93,  94,  95,  96,  97],\n",
              "        [101, 102, 103, 104, 105, 106, 107]])"
            ]
          },
          "metadata": {},
          "execution_count": 54
        }
      ]
    },
    {
      "cell_type": "markdown",
      "metadata": {
        "id": "oxVeUiHR1RC_"
      },
      "source": [
        "1.1.4 Написать функцию, которая для целых значений `n` и `m` будет возвращать тензор размера `n`x`m`, заполненный текстурой размера 2x2, состоящей из следующих значений:\n",
        "\n",
        "```\n",
        "0 1\n",
        "\n",
        "2 3\n",
        "\n",
        "```\n",
        "\n",
        "Пример для n = 4 и m = 5:\n",
        "\n",
        "```\n",
        "0 1 0 1 0\n",
        "\n",
        "2 3 2 3 2\n",
        "\n",
        "0 1 0 1 0\n",
        "\n",
        "2 3 2 3 2\n",
        "```"
      ]
    },
    {
      "cell_type": "code",
      "source": [
        "def tekstura(n, m):\n",
        "  tec = torch.tensor([[0, 1], [2, 3]])\n",
        "  return tec.repeat(n//2+1, m//2+1)[:n, :m]\n",
        "\n",
        "tekstura(4, 5)"
      ],
      "metadata": {
        "colab": {
          "base_uri": "https://localhost:8080/"
        },
        "id": "vuaHWas8LStB",
        "outputId": "2b7d0877-cd1e-47e4-ce1f-3c3ebce4e84e"
      },
      "execution_count": 66,
      "outputs": [
        {
          "output_type": "execute_result",
          "data": {
            "text/plain": [
              "tensor([[0, 1, 0, 1, 0],\n",
              "        [2, 3, 2, 3, 2],\n",
              "        [0, 1, 0, 1, 0],\n",
              "        [2, 3, 2, 3, 2]])"
            ]
          },
          "metadata": {},
          "execution_count": 66
        }
      ]
    },
    {
      "cell_type": "markdown",
      "metadata": {
        "id": "WH9hxJse1RDA"
      },
      "source": [
        "1.1.5 Сгенерировать двумерный тензор `t` размерности (4, 7), состоящий из случайных действительных чисел, равномерно распределенных в дипазоне от 0 до 20. Нормализовать значения массива с помощью преобразования вида $ax+b$ так, что после нормализации максимальный элемент масива будет равен 1.0, минимальный 0.0"
      ]
    },
    {
      "cell_type": "markdown",
      "metadata": {
        "id": "vPqIeewXB-mM"
      },
      "source": [
        "[Random Sampling](https://pytorch.org/docs/stable/torch.html#random-sampling)\n",
        "\n",
        "[Distributions](https://pytorch.org/docs/stable/distributions.html)"
      ]
    },
    {
      "cell_type": "code",
      "source": [
        "t = torch.FloatTensor(4, 7).uniform_(0, 20)\n",
        "t = t-torch.min(t)\n",
        "t/torch.max(t)"
      ],
      "metadata": {
        "colab": {
          "base_uri": "https://localhost:8080/"
        },
        "id": "JPbxTCp8Pm3Q",
        "outputId": "03850a5d-0e9e-4e16-cb95-72ec8214a66c"
      },
      "execution_count": 76,
      "outputs": [
        {
          "output_type": "execute_result",
          "data": {
            "text/plain": [
              "tensor([[1.0000, 0.0000, 0.6890, 0.3247, 0.7811, 0.9749, 0.7499],\n",
              "        [0.7225, 0.4601, 0.7988, 0.9593, 0.2541, 0.3669, 0.2368],\n",
              "        [0.9852, 0.2270, 0.8485, 0.3183, 0.6418, 0.6871, 0.8727],\n",
              "        [0.1112, 0.4443, 0.6807, 0.4123, 0.0723, 0.3940, 0.1165]])"
            ]
          },
          "metadata": {},
          "execution_count": 76
        }
      ]
    },
    {
      "cell_type": "markdown",
      "metadata": {
        "id": "K_R6cwq11RDE"
      },
      "source": [
        "1.1.6 Задать два двумерных тензора `ar1` и `ar2` размерности (4, 7), состоящих из случайных целых чисел в пределах от 0 до 10. Построить двумерный тензор размерности (4, 7), каждый элемент которого представляет собой максимум из двух значений, находящихся на аналогичной позиции в тензорах `ar1`, `ar2`.\n",
        "\n",
        "[Reductions ops](https://pytorch.org/docs/stable/torch.html#reduction-ops)"
      ]
    },
    {
      "cell_type": "code",
      "source": [
        "ar1 = torch.randint(0, 11, [4, 7])\n",
        "ar2 = torch.randint(0, 11, [4, 7])\n",
        "print(ar1)\n",
        "print(ar2)\n",
        "torch.max(ar1, ar2)"
      ],
      "metadata": {
        "colab": {
          "base_uri": "https://localhost:8080/"
        },
        "id": "i7O41kE5SFMv",
        "outputId": "0646f80e-990f-457d-8981-cb5ebea1a15b"
      },
      "execution_count": 108,
      "outputs": [
        {
          "output_type": "stream",
          "name": "stdout",
          "text": [
            "tensor([[ 9,  7,  3,  1,  7,  5,  3],\n",
            "        [ 2,  9,  5,  7,  5,  1,  8],\n",
            "        [ 2,  3,  5,  3,  8,  7,  5],\n",
            "        [10,  8,  4,  0, 10, 10,  1]])\n",
            "tensor([[ 1,  9,  8, 10,  3, 10, 10],\n",
            "        [ 4, 10,  7,  3,  5,  6, 10],\n",
            "        [ 0,  8,  9,  1,  5,  3,  5],\n",
            "        [ 0,  4,  0,  6,  0,  9,  9]])\n"
          ]
        },
        {
          "output_type": "execute_result",
          "data": {
            "text/plain": [
              "tensor([[ 9,  9,  8, 10,  7, 10, 10],\n",
              "        [ 4, 10,  7,  7,  5,  6, 10],\n",
              "        [ 2,  8,  9,  3,  8,  7,  5],\n",
              "        [10,  8,  4,  6, 10, 10,  9]])"
            ]
          },
          "metadata": {},
          "execution_count": 108
        }
      ]
    },
    {
      "cell_type": "markdown",
      "metadata": {
        "id": "x6zmMhyKBPWQ"
      },
      "source": [
        "1.1.7 Создать тензор из 20 случайных целых чисел от 0 до 100. Получить второе сверху значение в тензоре. Определить индекс этого значения."
      ]
    },
    {
      "cell_type": "code",
      "source": [
        "ar = torch.randint(0, 101, [20])\n",
        "print(ar)\n",
        "torch.topk(ar, 2).indices[1]"
      ],
      "metadata": {
        "colab": {
          "base_uri": "https://localhost:8080/"
        },
        "id": "BXappCh0Vlxq",
        "outputId": "b99eafd3-52c6-4df4-ddd2-0abda709304b"
      },
      "execution_count": 119,
      "outputs": [
        {
          "output_type": "stream",
          "name": "stdout",
          "text": [
            "tensor([63,  3, 86, 24, 17, 11, 80, 94, 72, 99, 34, 26, 71, 80, 30, 74, 66, 40,\n",
            "        73, 29])\n"
          ]
        },
        {
          "output_type": "execute_result",
          "data": {
            "text/plain": [
              "tensor(7)"
            ]
          },
          "metadata": {},
          "execution_count": 119
        }
      ]
    },
    {
      "cell_type": "markdown",
      "metadata": {
        "id": "Xshsy8fD1RDE"
      },
      "source": [
        "## 1.2 Распространение"
      ]
    },
    {
      "cell_type": "markdown",
      "metadata": {
        "id": "jlP22HAJCo28"
      },
      "source": [
        "[Numpy broadcasting](https://numpy.org/devdocs/user/theory.broadcasting.html)\n",
        "\n",
        "[Torch broadcasting](https://pytorch.org/docs/stable/notes/broadcasting.html)"
      ]
    },
    {
      "cell_type": "markdown",
      "metadata": {
        "id": "uRD6-8Gd1RDF"
      },
      "source": [
        "1.2.1 Создать тензор 11x7 вида: `[[1, 2, 3, ..., 7], [11, 12, 13, ..., 17], [21, 22, 23, ..., 27], ..., [101, 102, 103, ..., 107]]`. При решении задачи применить технику распространения."
      ]
    },
    {
      "cell_type": "code",
      "source": [
        "torch.arange(1,8)+torch.arange(0,110, 10)[:, np.newaxis]\n"
      ],
      "metadata": {
        "colab": {
          "base_uri": "https://localhost:8080/"
        },
        "id": "XjsVTWAtXve5",
        "outputId": "a59ca30c-ea9a-4442-a3b8-15b289280f66"
      },
      "execution_count": 139,
      "outputs": [
        {
          "output_type": "execute_result",
          "data": {
            "text/plain": [
              "tensor([[  1,   2,   3,   4,   5,   6,   7],\n",
              "        [ 11,  12,  13,  14,  15,  16,  17],\n",
              "        [ 21,  22,  23,  24,  25,  26,  27],\n",
              "        [ 31,  32,  33,  34,  35,  36,  37],\n",
              "        [ 41,  42,  43,  44,  45,  46,  47],\n",
              "        [ 51,  52,  53,  54,  55,  56,  57],\n",
              "        [ 61,  62,  63,  64,  65,  66,  67],\n",
              "        [ 71,  72,  73,  74,  75,  76,  77],\n",
              "        [ 81,  82,  83,  84,  85,  86,  87],\n",
              "        [ 91,  92,  93,  94,  95,  96,  97],\n",
              "        [101, 102, 103, 104, 105, 106, 107]])"
            ]
          },
          "metadata": {},
          "execution_count": 139
        }
      ]
    },
    {
      "cell_type": "markdown",
      "metadata": {
        "id": "iSY9Iday1RDF"
      },
      "source": [
        "1.2.2 Вычесть одномерный тензор `b_1d` из двухмерного тензора `a_2d`, так, чтобы каждый элемент одномерного тензора вычитался из всех элементов соответствующих строк двумерного тензора.\n",
        "\n",
        "_Пример:_\n",
        "\n",
        "Для входа:\n",
        "```python\n",
        "a_2d = torch.tensor([[3,3,3],[4,4,4],[5,5,5]])\n",
        "b_1d = torch.tensor([1,2,3])\n",
        "```\n",
        "\n",
        "Ожидается резульат:\n",
        "\n",
        "```python\n",
        "[[2 2 2]\n",
        " [2 2 2]\n",
        " [2 2 2]]\n",
        "```"
      ]
    },
    {
      "cell_type": "code",
      "source": [
        "a_2d = torch.tensor([[3,3,3],[4,4,4],[5,5,5]])\n",
        "b_1d = torch.tensor([1,2,3])\n",
        "a_2d-b_1d[:, np.newaxis]"
      ],
      "metadata": {
        "colab": {
          "base_uri": "https://localhost:8080/"
        },
        "id": "Su3LjFNuY1Gw",
        "outputId": "f19f0199-c45b-4e6b-dd84-6bcb233cf2f5"
      },
      "execution_count": 141,
      "outputs": [
        {
          "output_type": "execute_result",
          "data": {
            "text/plain": [
              "tensor([[2, 2, 2],\n",
              "        [2, 2, 2],\n",
              "        [2, 2, 2]])"
            ]
          },
          "metadata": {},
          "execution_count": 141
        }
      ]
    },
    {
      "cell_type": "markdown",
      "metadata": {
        "id": "dFTvPsY91RDF"
      },
      "source": [
        "## 1.3 Индексы, маскирование и прихотливое индексирование\n",
        "\n",
        "[Документация по функциям для работы с индексами](https://pytorch.org/docs/stable/torch.html#indexing-slicing-joining-mutating-ops)"
      ]
    },
    {
      "cell_type": "markdown",
      "metadata": {
        "id": "McYtDYhH1RDG"
      },
      "source": [
        "1.3.1 Получить индексы, для которых элементы тензоров `a` и `b` совпадают.\n",
        "\n",
        "_Пример:_\n",
        "\n",
        "Для входа:\n",
        "```python\n",
        "a = torch.tensor([1,2,3,2,3,4,3,4,5,6])\n",
        "b = torch.tensor([7,2,10,2,7,4,9,4,9,8])\n",
        "```\n",
        "\n",
        "Ожидается резульат:\n",
        "\n",
        "```python\n",
        "tensor([1, 3, 5, 7])\n",
        "```"
      ]
    },
    {
      "cell_type": "code",
      "source": [
        "a = torch.tensor([1,2,3,2,3,4,3,4,5,6])\n",
        "b = torch.tensor([7,2,10,2,7,4,9,4,9,8])\n",
        "torch.argwhere(a==b).flatten()"
      ],
      "metadata": {
        "colab": {
          "base_uri": "https://localhost:8080/"
        },
        "id": "QUZBaERPcMp6",
        "outputId": "d98a9bf5-75ca-4588-853b-73cef04fbda3"
      },
      "execution_count": 151,
      "outputs": [
        {
          "output_type": "execute_result",
          "data": {
            "text/plain": [
              "tensor([1, 3, 5, 7])"
            ]
          },
          "metadata": {},
          "execution_count": 151
        }
      ]
    },
    {
      "cell_type": "markdown",
      "metadata": {
        "id": "MnBq3nfy1RDG"
      },
      "source": [
        "1.3.2 Инвертировать порядок элементов в двумерном тензоре `torch.arange(9).view(3,3)`.\n",
        "\n",
        "Ожидаемый результат:\n",
        "\n",
        "\n",
        "```python\n",
        "tensor([[8, 7, 6],\n",
        "       [5, 4, 3],\n",
        "       [2, 1, 0]])\n",
        "```"
      ]
    },
    {
      "cell_type": "code",
      "source": [
        "torch.flip(torch.arange(9).view(3,3), [0, 1])\n"
      ],
      "metadata": {
        "colab": {
          "base_uri": "https://localhost:8080/"
        },
        "id": "MzH4pfJQdSe_",
        "outputId": "34bb35b2-4331-4038-9eb5-6464e5486e29"
      },
      "execution_count": 156,
      "outputs": [
        {
          "output_type": "execute_result",
          "data": {
            "text/plain": [
              "tensor([[8, 7, 6],\n",
              "        [5, 4, 3],\n",
              "        [2, 1, 0]])"
            ]
          },
          "metadata": {},
          "execution_count": 156
        }
      ]
    },
    {
      "cell_type": "markdown",
      "metadata": {
        "id": "tANsLnOC1RDH"
      },
      "source": [
        "1.3.3 Из входного тензора a получить только элементы, находящиеся в диапазоне от 5 до 10.\n",
        "\n",
        "_Пример:_\n",
        "\n",
        "Для входа:\n",
        "```python\n",
        "a = torch.tensor([2, 6, 1, 9, 10, 3, 27])\n",
        "```\n",
        "\n",
        "Ожидается результат:\n",
        "\n",
        "```python\n",
        "tensor([6, 9, 10])\n",
        "```"
      ]
    },
    {
      "cell_type": "code",
      "source": [
        "a = torch.tensor([2, 6, 1, 9, 10, 3, 27])\n",
        "a[(a>=5) & (a<=10)]"
      ],
      "metadata": {
        "colab": {
          "base_uri": "https://localhost:8080/"
        },
        "id": "PLzuZrNed3fA",
        "outputId": "7cac0475-ef1a-4d10-a858-9ca218216e2b"
      },
      "execution_count": 164,
      "outputs": [
        {
          "output_type": "execute_result",
          "data": {
            "text/plain": [
              "tensor([ 6,  9, 10])"
            ]
          },
          "metadata": {},
          "execution_count": 164
        }
      ]
    },
    {
      "cell_type": "markdown",
      "metadata": {
        "id": "3vlK0gV21RDH"
      },
      "source": [
        "1.3.4 Поменять местами столбец 1 и 2 тензора `torch.arange(9).reshape(3,3)`"
      ]
    },
    {
      "cell_type": "code",
      "source": [
        "a = torch.arange(9).reshape(3,3)\n",
        "print(a)\n",
        "s1 = a[:,0].clone()\n",
        "a[:,0] = a[:,1]\n",
        "a[:,1] = s1\n",
        "a"
      ],
      "metadata": {
        "colab": {
          "base_uri": "https://localhost:8080/"
        },
        "id": "eaPBmEfRepOI",
        "outputId": "3ab0b5b5-67b0-4f61-e248-8403adc237db"
      },
      "execution_count": 175,
      "outputs": [
        {
          "output_type": "stream",
          "name": "stdout",
          "text": [
            "tensor([[0, 1, 2],\n",
            "        [3, 4, 5],\n",
            "        [6, 7, 8]])\n"
          ]
        },
        {
          "output_type": "execute_result",
          "data": {
            "text/plain": [
              "tensor([[1, 0, 2],\n",
              "        [4, 3, 5],\n",
              "        [7, 6, 8]])"
            ]
          },
          "metadata": {},
          "execution_count": 175
        }
      ]
    },
    {
      "cell_type": "markdown",
      "metadata": {
        "id": "cheFtWhU1RDH"
      },
      "source": [
        "1.3.5 Создать тензор 8 на 10 из случайных целых чисел из диапазона от 0 до 10 и найти в ней строку (ее индекс и вывести саму строку), в которой сумма значений минимальна."
      ]
    },
    {
      "cell_type": "code",
      "source": [
        "ar = torch.randint(0, 11, [8, 10])\n",
        "print(ar)\n",
        "ind = ar.sum(1).argmin()\n",
        "print(ind)\n",
        "print(ar[ind])"
      ],
      "metadata": {
        "colab": {
          "base_uri": "https://localhost:8080/"
        },
        "id": "QaZQwEaafsan",
        "outputId": "c3fe47c9-c54d-4c37-ea4e-21884e53bd13"
      },
      "execution_count": 188,
      "outputs": [
        {
          "output_type": "stream",
          "name": "stdout",
          "text": [
            "tensor([[ 1, 10,  8,  8,  4,  1,  5,  4,  3,  9],\n",
            "        [ 1,  4,  3,  8,  5,  6,  9,  1,  1,  5],\n",
            "        [10,  5,  6,  6,  3,  4, 10,  7,  0,  0],\n",
            "        [ 4,  7,  9,  8,  6,  9,  0,  9,  5,  5],\n",
            "        [ 2,  2,  1,  5,  9,  0,  2,  3,  7,  6],\n",
            "        [ 4,  1,  3,  5, 10,  1,  4,  3,  8,  2],\n",
            "        [ 7,  1, 10,  0,  6,  5,  2,  1,  0,  8],\n",
            "        [ 7,  7,  0,  4,  1,  1,  4,  4, 10,  6]])\n",
            "tensor(4)\n",
            "tensor([2, 2, 1, 5, 9, 0, 2, 3, 7, 6])\n"
          ]
        }
      ]
    },
    {
      "cell_type": "markdown",
      "metadata": {
        "id": "grOCNU4XFE2B"
      },
      "source": [
        "1.3.6 Cоздать тензор из 20 случайных целых чисел от 0 до 100. Обрезать значения тензора (заменить значения, выходящие за диапазон, на крайние значения) снизу по значению 30, сверху по значению 70."
      ]
    },
    {
      "cell_type": "code",
      "source": [
        "ar = torch.randint(0, 101, [20])\n",
        "print(ar)\n",
        "ar[ar<30]=30\n",
        "ar[ar>70]=70\n",
        "ar"
      ],
      "metadata": {
        "colab": {
          "base_uri": "https://localhost:8080/"
        },
        "id": "qCAXA9NXgtrx",
        "outputId": "90c32f37-fd50-455e-ff91-009804215ab9"
      },
      "execution_count": 193,
      "outputs": [
        {
          "output_type": "stream",
          "name": "stdout",
          "text": [
            "tensor([ 0, 52, 55, 41, 19, 58, 82, 66, 63, 97, 67, 47, 65,  0, 12, 86,  5, 41,\n",
            "        35, 53])\n"
          ]
        },
        {
          "output_type": "execute_result",
          "data": {
            "text/plain": [
              "tensor([30, 52, 55, 41, 30, 58, 70, 66, 63, 70, 67, 47, 65, 30, 30, 70, 30, 41,\n",
              "        35, 53])"
            ]
          },
          "metadata": {},
          "execution_count": 193
        }
      ]
    },
    {
      "cell_type": "markdown",
      "metadata": {
        "id": "HNfQjY8P1RDI"
      },
      "source": [
        "1.3.7 Создать два тензора размера 30 на 3 из случайных целых чисел из диапазона от 0 до 10 и найти все значения первого тензора, которые больше соответсвующих (по расположению) значений второго тензора. Подсчитать сумму этих значений."
      ]
    },
    {
      "cell_type": "code",
      "source": [
        "ar1 = torch.randint(0, 11, [30, 3])\n",
        "ar2 = torch.randint(0, 11, [30, 3])\n",
        "ar1[ar1>ar2].sum()"
      ],
      "metadata": {
        "colab": {
          "base_uri": "https://localhost:8080/"
        },
        "id": "F6aUd6VDhLJ-",
        "outputId": "a296fe91-d1f0-47b9-f05c-774ba6bd6866"
      },
      "execution_count": 198,
      "outputs": [
        {
          "output_type": "execute_result",
          "data": {
            "text/plain": [
              "tensor(331)"
            ]
          },
          "metadata": {},
          "execution_count": 198
        }
      ]
    },
    {
      "cell_type": "markdown",
      "metadata": {
        "id": "doBCxYJA1RDI"
      },
      "source": [
        "1.3.8 При помощи прихотливого индексирования для двухмерного массива размерности (20, 20), состоящего из случайных целых чисел в пределах от 0 до 10 получить массив элементов находящихся на диагонали, проходящей над основной диагональю."
      ]
    },
    {
      "cell_type": "code",
      "source": [
        "ar1 = torch.randint(0, 11, [20, 20])\n",
        "print(ar1)\n",
        "ind = torch.arange(19)\n",
        "ar1[ind, ind+1]"
      ],
      "metadata": {
        "colab": {
          "base_uri": "https://localhost:8080/"
        },
        "id": "XXOKTUllhqVX",
        "outputId": "5ecb1d21-9b02-49cd-ff8e-7adc9a21235f"
      },
      "execution_count": 206,
      "outputs": [
        {
          "output_type": "stream",
          "name": "stdout",
          "text": [
            "tensor([[ 8,  6,  8,  2, 10,  3,  2,  5, 10, 10,  7,  0,  5,  4,  3,  7,  5, 10,\n",
            "          4,  3],\n",
            "        [ 7,  7,  7,  0, 10,  2,  4,  2,  7,  7,  3,  6,  2,  7, 10,  9,  3,  8,\n",
            "          9, 10],\n",
            "        [ 4, 10,  8,  8,  6,  7,  7,  2,  4,  3,  9,  7,  8,  6,  7,  2,  1,  4,\n",
            "          1,  4],\n",
            "        [ 3,  5,  0,  6,  0,  0,  8,  5,  1,  1,  2,  8,  5,  5,  3,  0,  1,  3,\n",
            "          9,  0],\n",
            "        [10, 10,  1,  5, 10,  3,  4,  8,  5,  6,  5,  7,  8,  5,  1,  3, 10,  7,\n",
            "          2,  3],\n",
            "        [ 2,  4,  1, 10,  5,  0, 10,  6,  9,  1,  2, 10,  9,  0,  2,  1,  4,  2,\n",
            "          0,  0],\n",
            "        [ 6,  1,  4,  6,  7,  2,  3, 10,  6, 10,  1,  1,  4, 10,  3,  0,  6,  1,\n",
            "          8,  3],\n",
            "        [ 5,  6,  1,  4,  4,  3,  8,  8,  3,  9,  9,  9,  4,  0,  9,  3,  9,  0,\n",
            "          6,  9],\n",
            "        [ 0,  0,  2,  3,  1,  2,  5,  9,  4,  5,  8,  7,  0,  9,  0,  2, 10,  2,\n",
            "          6,  6],\n",
            "        [ 9,  9,  4,  2, 10, 10,  0,  8,  6,  6,  6,  7,  6,  5, 10, 10,  6,  5,\n",
            "          2,  3],\n",
            "        [ 4,  5,  7,  9,  9,  4,  0,  1,  3,  2,  6,  4,  4, 10,  6,  8,  3,  2,\n",
            "         10,  0],\n",
            "        [ 9,  6,  0,  7,  2,  6,  7,  5,  9, 10,  5,  1,  8,  8,  9,  5, 10,  7,\n",
            "          1,  8],\n",
            "        [ 8,  8,  2,  7,  5,  6,  9,  1,  9,  5,  1,  7,  1,  8, 10,  8,  4,  8,\n",
            "          3,  6],\n",
            "        [ 1,  1,  2,  8,  6,  1,  8,  1,  8,  5,  5,  7,  4,  5,  0,  1,  3,  0,\n",
            "          9,  6],\n",
            "        [ 4,  7,  3,  8, 10,  3, 10,  8,  4,  3,  0,  9, 10,  5,  1,  4,  5,  8,\n",
            "          2,  1],\n",
            "        [ 8,  6,  2,  5,  1,  4, 10,  4,  2,  3,  7,  4,  9,  6,  4,  7,  3,  4,\n",
            "          7,  5],\n",
            "        [ 7,  7,  7,  6,  4,  9,  5, 10,  7,  4,  5,  3,  9,  2,  1,  0,  3,  0,\n",
            "          8, 10],\n",
            "        [ 4,  1,  6,  7,  9,  1,  8,  8,  7,  7,  5,  2,  4,  6,  0,  9,  0,  1,\n",
            "          2,  8],\n",
            "        [ 9,  8,  7,  5,  1,  3, 10,  8,  7,  6,  5,  3,  6,  5,  3,  9,  7,  7,\n",
            "          6,  8],\n",
            "        [10,  3,  3,  2, 10,  8,  9,  5,  8,  2,  7,  1,  1,  8,  8,  5,  0,  2,\n",
            "          5,  2]])\n"
          ]
        },
        {
          "output_type": "execute_result",
          "data": {
            "text/plain": [
              "tensor([ 6,  7,  8,  0,  3, 10, 10,  3,  5,  6,  4,  8,  8,  0,  4,  3,  0,  2,\n",
              "         8])"
            ]
          },
          "metadata": {},
          "execution_count": 206
        }
      ]
    },
    {
      "cell_type": "markdown",
      "metadata": {
        "id": "6M1lkfLp1RDJ"
      },
      "source": [
        "1.3.9 Задать два двухмерных тензора `ar1` и `ar2` размерности (5, 10), состоящих из случайных целых чисел в пределах от 0 до 10. Удвоить все значения `ar1`, которые совпадают со значениями `ar2`, расположенными на аналогичных позициях."
      ]
    },
    {
      "cell_type": "code",
      "source": [
        "ar1 = torch.randint(0, 11, [5, 10])\n",
        "ar2 = torch.randint(0, 11, [5, 10])\n",
        "print(ar1)\n",
        "print(ar2)\n",
        "ar1[ar1==ar2] = ar1[ar1==ar2]*2\n",
        "print(ar1)"
      ],
      "metadata": {
        "colab": {
          "base_uri": "https://localhost:8080/"
        },
        "id": "GkNEJLw4jkqO",
        "outputId": "6032d8db-a165-4117-ef4a-0870e398dd73"
      },
      "execution_count": 212,
      "outputs": [
        {
          "output_type": "stream",
          "name": "stdout",
          "text": [
            "tensor([[ 2,  7,  0,  3,  2,  1,  8,  4,  7,  4],\n",
            "        [ 2,  4, 10,  6,  8,  6,  2,  7,  7,  5],\n",
            "        [ 2,  2,  6,  1,  5,  3,  5,  5,  4,  9],\n",
            "        [ 1,  4,  5,  4,  3,  2,  9,  6,  0, 10],\n",
            "        [ 6,  1,  1,  5,  6,  5,  1,  1,  5,  5]])\n",
            "tensor([[ 9,  9,  0,  5,  2,  5,  0,  2,  4,  3],\n",
            "        [ 2,  7,  8,  5,  6,  9,  1,  9,  2,  4],\n",
            "        [ 1,  2,  4,  0,  0,  3,  9,  0,  9,  0],\n",
            "        [ 7, 10,  5,  7,  7,  8,  2,  5,  5,  4],\n",
            "        [ 2,  4,  2,  0,  5,  6,  9,  4,  9,  8]])\n",
            "tensor([[ 2,  7,  0,  3,  4,  1,  8,  4,  7,  4],\n",
            "        [ 4,  4, 10,  6,  8,  6,  2,  7,  7,  5],\n",
            "        [ 2,  4,  6,  1,  5,  6,  5,  5,  4,  9],\n",
            "        [ 1,  4, 10,  4,  3,  2,  9,  6,  0, 10],\n",
            "        [ 6,  1,  1,  5,  6,  5,  1,  1,  5,  5]])\n"
          ]
        }
      ]
    },
    {
      "cell_type": "markdown",
      "metadata": {
        "id": "Qe2oVr4p1RDJ"
      },
      "source": [
        "1.3.10 Заданы три двухмерных тензора `ar1`, `ar2` и `ar3` размерности (4, 7), состоящие из случайных целых чисел в пределах от 0 до 10. Обнулить все элементы `ar1`, которые больше соответствующих (находящихся в соответствующих позициях) элементов `ar2` и меньше соответствующих элементов `ar3`."
      ]
    },
    {
      "cell_type": "code",
      "source": [
        "ar1 = torch.randint(0, 11, [4, 7])\n",
        "ar2 = torch.randint(0, 11, [4, 7])\n",
        "ar3 = torch.randint(0, 11, [4, 7])\n",
        "print(ar1)\n",
        "print(ar2)\n",
        "print(ar3)\n",
        "ar1[(ar1>ar2)&(ar1<ar3)] = 0\n",
        "print(ar1)"
      ],
      "metadata": {
        "colab": {
          "base_uri": "https://localhost:8080/"
        },
        "id": "xkvOTn2FkHeX",
        "outputId": "40c84ad4-9e91-48e9-bd33-a542e1c52b00"
      },
      "execution_count": 215,
      "outputs": [
        {
          "output_type": "stream",
          "name": "stdout",
          "text": [
            "tensor([[ 9,  0,  1,  7,  7,  6,  8],\n",
            "        [ 1,  1,  6,  4,  3,  0,  7],\n",
            "        [ 7,  6,  2,  5, 10,  3,  8],\n",
            "        [ 2, 10,  9,  6,  9, 10,  4]])\n",
            "tensor([[ 7,  2,  6,  8,  3,  3,  0],\n",
            "        [ 1, 10,  4,  1, 10,  8,  5],\n",
            "        [ 4,  9,  1,  0,  1,  7,  8],\n",
            "        [ 2,  2,  6,  2,  8,  4,  1]])\n",
            "tensor([[ 9,  2,  8,  9,  8, 10,  9],\n",
            "        [ 9,  8,  6,  5,  2,  5,  2],\n",
            "        [ 5,  4, 10,  7,  5,  8,  6],\n",
            "        [ 6,  6,  9,  7,  8,  6,  1]])\n",
            "tensor([[ 9,  0,  1,  7,  0,  0,  0],\n",
            "        [ 1,  1,  6,  0,  3,  0,  7],\n",
            "        [ 7,  6,  0,  0, 10,  3,  8],\n",
            "        [ 2, 10,  9,  0,  9, 10,  4]])\n"
          ]
        }
      ]
    },
    {
      "cell_type": "markdown",
      "metadata": {
        "id": "BTcRVeYh1RDK"
      },
      "source": [
        "1.3.11 Задан двумерный тензор `ar1` размерности (20, 5), состоящий из случайных целых чисел в пределах от 0 до 20. Определить, в каких столбцах не менее 5 раз встречается значение, максимальное по своей строке."
      ]
    },
    {
      "cell_type": "code",
      "source": [
        "ar1 = torch.randint(0, 21, [20, 5])\n",
        "print(ar1)\n",
        "\n",
        "print(ar1.max(1))\n"
      ],
      "metadata": {
        "colab": {
          "base_uri": "https://localhost:8080/"
        },
        "id": "ZpG5Wrc_ltPv",
        "outputId": "2a9df43b-be40-4e19-e83a-9cac1a78a102"
      },
      "execution_count": 222,
      "outputs": [
        {
          "output_type": "stream",
          "name": "stdout",
          "text": [
            "tensor([[ 9,  5,  5,  7,  8],\n",
            "        [17, 20,  7,  3, 18],\n",
            "        [ 7,  8, 16, 20, 18],\n",
            "        [ 4,  4, 19, 12,  1],\n",
            "        [18,  5,  8, 14, 12],\n",
            "        [18, 10, 16,  4, 13],\n",
            "        [ 2, 20, 15, 15, 16],\n",
            "        [ 0,  9,  5,  5, 20],\n",
            "        [10, 13, 16, 14, 12],\n",
            "        [11, 12, 20,  7, 12],\n",
            "        [ 5, 20, 14,  8,  8],\n",
            "        [16,  9,  6, 17,  4],\n",
            "        [14,  2, 11,  6, 15],\n",
            "        [ 2, 18, 13,  6,  0],\n",
            "        [14, 18,  1, 10, 20],\n",
            "        [14,  9, 16, 14,  3],\n",
            "        [ 9, 15,  9, 14,  9],\n",
            "        [10,  9, 12, 16,  9],\n",
            "        [11, 12, 12, 13, 17],\n",
            "        [ 1, 12,  7, 12, 14]])\n",
            "torch.return_types.max(\n",
            "values=tensor([ 9, 20, 20, 19, 18, 18, 20, 20, 16, 20, 20, 17, 15, 18, 20, 16, 15, 16,\n",
            "        17, 14]),\n",
            "indices=tensor([0, 1, 3, 2, 0, 0, 1, 4, 2, 2, 1, 3, 4, 1, 4, 2, 1, 3, 4, 4]))\n"
          ]
        }
      ]
    },
    {
      "cell_type": "markdown",
      "metadata": {
        "id": "ZeYlNWNE1RDK"
      },
      "source": [
        "1.3.12 Задан двумерный тензор `ar1` размерности (4, 7), состоящий из случайных  чисел в пределах от 0 до 1. Обнулить все значения в массиве, расположенные строго правее и ниже максимального элемента массива. "
      ]
    },
    {
      "cell_type": "code",
      "source": [
        "ar1 = torch.rand([4, 7])\n",
        "print(ar1)\n",
        "ind = np.unravel_index(ar1.argmax(), [4, 7])\n",
        "print(ind)\n",
        "ar1[ind[0]+1:, ind[1]+1:]=0\n",
        "ar1"
      ],
      "metadata": {
        "colab": {
          "base_uri": "https://localhost:8080/"
        },
        "id": "xI6FVDhhnE5W",
        "outputId": "1726a38e-7325-4c9a-bc21-520902cd0109"
      },
      "execution_count": 247,
      "outputs": [
        {
          "output_type": "stream",
          "name": "stdout",
          "text": [
            "tensor([[0.1732, 0.0254, 0.7420, 0.1906, 0.7086, 0.9803, 0.7102],\n",
            "        [0.3709, 0.9680, 0.1340, 0.9875, 0.7241, 0.2990, 0.7214],\n",
            "        [0.2976, 0.0301, 0.5326, 0.5187, 0.6183, 0.8090, 0.4843],\n",
            "        [0.0777, 0.6487, 0.0337, 0.9122, 0.2824, 0.8479, 0.6876]])\n",
            "(1, 3)\n"
          ]
        },
        {
          "output_type": "execute_result",
          "data": {
            "text/plain": [
              "tensor([[0.1732, 0.0254, 0.7420, 0.1906, 0.7086, 0.9803, 0.7102],\n",
              "        [0.3709, 0.9680, 0.1340, 0.9875, 0.7241, 0.2990, 0.7214],\n",
              "        [0.2976, 0.0301, 0.5326, 0.5187, 0.0000, 0.0000, 0.0000],\n",
              "        [0.0777, 0.6487, 0.0337, 0.9122, 0.0000, 0.0000, 0.0000]])"
            ]
          },
          "metadata": {},
          "execution_count": 247
        }
      ]
    },
    {
      "cell_type": "markdown",
      "metadata": {
        "id": "pYxX90B11RDL"
      },
      "source": [
        "1.3.13 Построить \"one-hot encoding\" для одномерного тензора, содержащего целые числа (длина вектора заранее неизвестна, набор значений заранее неизвестен, при этом в итоговой матрице должны присутствовать столбцы для всех натуральных чисел вплоть до максимального встречающегося в исходном массиве).\n",
        "\n",
        "Пример:\n",
        "\n",
        "для тензора `torch.tensor([2, 3, 2, 2, 2, 1])`.\n",
        "\n",
        "Ожидается результат:\n",
        "\n",
        "```python\n",
        "tensor([[0., 1., 0.],\n",
        "        [0., 0., 1.],\n",
        "        [0., 1., 0.],\n",
        "        [0., 1., 0.],\n",
        "        [0., 1., 0.],\n",
        "        [1., 0., 0.]])\n",
        "```"
      ]
    },
    {
      "cell_type": "markdown",
      "metadata": {
        "id": "GYU8DmNTDLN8"
      },
      "source": [
        "1.3.14 Создать тензор `arr` из 20 случайных целых чисел от 0 до 100. Найти самое частое значение в тензоре. \n",
        "Найти индексы в тензоре, соответствующие самому частому значению. Проверить, как работет алгоритм при двух значениях, имеющих наибольшую встречаемость, предложить приемлемое поведение алгоритма для этого случая. "
      ]
    },
    {
      "cell_type": "markdown",
      "metadata": {
        "id": "UenAEfEG1RDN"
      },
      "source": [
        "## 1.4 Математические задачи"
      ]
    },
    {
      "cell_type": "markdown",
      "metadata": {
        "id": "6weDrqJR1RDN"
      },
      "source": [
        "1.4.1 Приблизительно (с погрешностью порядка 1%) рассчитать на какой части интервала от 0 до 10 значение функции x * sin(x) больше 0.5."
      ]
    },
    {
      "cell_type": "markdown",
      "metadata": {
        "id": "B9xAv8TR1RDN"
      },
      "source": [
        "1.4.2 Найти все простые числа в пределах ста. (Для решения предлагается использовать Решето Эратосфена) Использовать не более 1 цикла (желательно)."
      ]
    },
    {
      "cell_type": "markdown",
      "metadata": {
        "id": "AHupFoTR1RDN"
      },
      "source": [
        "1.4.3 Найти евклидово расстояние между двумя одномерными тензорами одинаковой размерности, не используя готовые решения из библиотек."
      ]
    },
    {
      "cell_type": "markdown",
      "metadata": {
        "id": "j-ZvjWDKDVMQ"
      },
      "source": [
        "1.4.4 Создать двумерный тензор 20 на 3, содержащий случайные целые числа от 0 до 100. \n",
        "Интерпретируя тензор как 20 векторов из 3х компонент, отсортировать его по длине векторов."
      ]
    },
    {
      "cell_type": "markdown",
      "metadata": {
        "id": "IkBRFTKa1RDO"
      },
      "source": [
        "1.4.5 Найти \"локальные максимумы\" в одномерном тензоре (т.е. значения, большие предыдущего и последующего) `torch.tensor([1, 3, 7, 1, 2, 6, 0, 1])` и вывести их индексы."
      ]
    },
    {
      "cell_type": "markdown",
      "metadata": {
        "id": "VXD58rlc1RDP"
      },
      "source": [
        "1.4.6 Задан произвольный массив numpy (например массив из 100 случайных числе от 0 до 1). Необходимо найти в нем число наиболее близкое к заданному."
      ]
    },
    {
      "cell_type": "markdown",
      "metadata": {
        "id": "81F_B2ij1RDP"
      },
      "source": [
        "1.4.7 Решить матричное уравнение `A*X*B=-C` - найти матрицу X. Где `A = [[-1, 2, 4], [-3, 1, 2], [-3, 0, 1]]`, `B=[[3, -1], [2, 1]]`, `C=[[7, 21], [11, 8], [8, 4]]`."
      ]
    },
    {
      "cell_type": "markdown",
      "metadata": {
        "id": "1P7O19bj1RDP"
      },
      "source": [
        "1.4.8 Проверить, является ли система векторов a1 = (3; −3; 0; 7),\n",
        "a2 = (2; 2; 4; 7), a3 = (1; 2; 3; 4), a4 = (5; −4; 1; 3) линейно зависимой?"
      ]
    },
    {
      "cell_type": "markdown",
      "metadata": {
        "id": "Jg_bzMVS1RDQ"
      },
      "source": [
        "1.4.9 Сгенирировать тензор из 200 случайных целых чисел, нормально распрделенных cо стандартным отклонением $\\sigma = 10$ и матожиданием $\\mu = 0$. Построить тензор гистограммы с 20 бинами. "
      ]
    },
    {
      "cell_type": "code",
      "execution_count": null,
      "metadata": {
        "id": "6jsxYw9SDjFy"
      },
      "outputs": [],
      "source": []
    }
  ],
  "metadata": {
    "colab": {
      "provenance": [],
      "toc_visible": true,
      "collapsed_sections": []
    },
    "kernelspec": {
      "display_name": "Python 3",
      "language": "python",
      "name": "python3"
    },
    "language_info": {
      "codemirror_mode": {
        "name": "ipython",
        "version": 3
      },
      "file_extension": ".py",
      "mimetype": "text/x-python",
      "name": "python",
      "nbconvert_exporter": "python",
      "pygments_lexer": "ipython3",
      "version": "3.7.4"
    }
  },
  "nbformat": 4,
  "nbformat_minor": 0
}