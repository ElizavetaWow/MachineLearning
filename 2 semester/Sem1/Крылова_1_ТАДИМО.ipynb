{
  "cells": [
    {
      "cell_type": "markdown",
      "metadata": {
        "id": "_gE94V3G1RCx"
      },
      "source": [
        "# 01. Знакомство с `torch.Tensor`\n",
        "\n",
        "V 0.1 04.02.2021"
      ]
    },
    {
      "cell_type": "markdown",
      "metadata": {
        "id": "TlWOXn0f1RC7"
      },
      "source": [
        "---"
      ]
    },
    {
      "cell_type": "markdown",
      "metadata": {
        "id": "lZfJ1FRM1RC8"
      },
      "source": [
        "При решении данных задач не подразумевается использования циклов или генераторов Python, если в задании не сказано обратного. Решение должно опираться на использование функционала библиотеки `torch`.\n",
        "\n",
        "[PyTorch documentation](https://pytorch.org/docs/stable/#pytorch-documentation)"
      ]
    },
    {
      "cell_type": "code",
      "execution_count": 1,
      "metadata": {
        "id": "b3AW8rF-1RC9"
      },
      "outputs": [],
      "source": [
        "import torch\n",
        "import numpy as np"
      ]
    },
    {
      "cell_type": "markdown",
      "metadata": {
        "id": "vow49PuE1RC9"
      },
      "source": [
        "## 1.1 Создание тензоров и выполнение базовых операций над ними\n",
        "\n",
        "[Документация по функциям для создания тензоров](https://pytorch.org/docs/stable/torch.html#creation-ops)\n",
        "\n",
        "[Документация по функциям для работы с индексами](https://pytorch.org/docs/stable/torch.html#indexing-slicing-joining-mutating-ops)"
      ]
    },
    {
      "cell_type": "markdown",
      "metadata": {
        "id": "wBIwO1SB1RC-"
      },
      "source": [
        "1.1.1 Создайте двумерный тензор размера (8, 8). Используя как можно меньше операций, добейтесь расстановки кодов \"шахматных фигур\".\n",
        "\n",
        "Ожидаемый результат:\n",
        "\n",
        "```\n",
        "[[-4., -3., -2., -6., -5., -2., -3., -4.],\n",
        " [-1., -1., -1., -1., -1., -1., -1., -1.],\n",
        " [0., 0., 0., 0., 0., 0., 0., 0.],\n",
        " [0., 0., 0., 0., 0., 0., 0., 0.],\n",
        " [0., 0., 0., 0., 0., 0., 0., 0.],\n",
        " [0., 0., 0., 0., 0., 0., 0., 0.],\n",
        " [1., 1., 1., 1., 1., 1., 1., 1.],\n",
        " [4., 3., 2., 6., 5., 2., 3., 4.]]\n",
        "\n",
        "```"
      ]
    },
    {
      "cell_type": "code",
      "source": [
        "tensor = torch.zeros(8, 8)\n",
        "tensor[7] = torch.tensor([4., 3., 2., 6., 5., 2., 3., 4.])\n",
        "tensor[6] = torch.ones(1, 8)\n",
        "tensor[0] = tensor[7]*(-1)\n",
        "tensor[1] = tensor[6]*(-1)\n",
        "tensor"
      ],
      "metadata": {
        "colab": {
          "base_uri": "https://localhost:8080/"
        },
        "id": "Ny9iWx0gDx6K",
        "outputId": "deaf3e14-19fc-4baa-bd88-d144de33eeb7"
      },
      "execution_count": 3,
      "outputs": [
        {
          "output_type": "execute_result",
          "data": {
            "text/plain": [
              "tensor([[-4., -3., -2., -6., -5., -2., -3., -4.],\n",
              "        [-1., -1., -1., -1., -1., -1., -1., -1.],\n",
              "        [ 0.,  0.,  0.,  0.,  0.,  0.,  0.,  0.],\n",
              "        [ 0.,  0.,  0.,  0.,  0.,  0.,  0.,  0.],\n",
              "        [ 0.,  0.,  0.,  0.,  0.,  0.,  0.,  0.],\n",
              "        [ 0.,  0.,  0.,  0.,  0.,  0.,  0.,  0.],\n",
              "        [ 1.,  1.,  1.,  1.,  1.,  1.,  1.,  1.],\n",
              "        [ 4.,  3.,  2.,  6.,  5.,  2.,  3.,  4.]])"
            ]
          },
          "metadata": {},
          "execution_count": 3
        }
      ]
    },
    {
      "cell_type": "markdown",
      "metadata": {
        "id": "20x5RE1V1RC_"
      },
      "source": [
        "1.1.2 Средствами `torch` рассчитать произведения четных чисел от 2 до 20 на ближайшие к ним бОльшие нечетные числа."
      ]
    },
    {
      "cell_type": "code",
      "source": [
        "torch.arange(2,22,2)*torch.arange(3,23,2)"
      ],
      "metadata": {
        "colab": {
          "base_uri": "https://localhost:8080/"
        },
        "id": "czZucXHgGQeZ",
        "outputId": "0693bb02-d7f6-4780-a43d-7020dcd67731"
      },
      "execution_count": 4,
      "outputs": [
        {
          "output_type": "execute_result",
          "data": {
            "text/plain": [
              "tensor([  6,  20,  42,  72, 110, 156, 210, 272, 342, 420])"
            ]
          },
          "metadata": {},
          "execution_count": 4
        }
      ]
    },
    {
      "cell_type": "markdown",
      "metadata": {
        "id": "N_-t5GRM1RC_"
      },
      "source": [
        "1.1.3 Создать тензор размера 11x7 вида: [[1, 2, 3, ..., 7], [11, 12, 13, ..., 17], [21, 22, 23, ..., 27], ..., [101, 102, 103, ..., 107]]"
      ]
    },
    {
      "cell_type": "code",
      "source": [
        "torch.arange(0,7).repeat(11, 1)+torch.transpose(torch.arange(1,110, 10).repeat(7, 1), 0, 1)"
      ],
      "metadata": {
        "colab": {
          "base_uri": "https://localhost:8080/"
        },
        "id": "TH4kcHVHGV-B",
        "outputId": "bcbfa4a3-06ba-49c0-bf98-7880ab605fea"
      },
      "execution_count": 5,
      "outputs": [
        {
          "output_type": "execute_result",
          "data": {
            "text/plain": [
              "tensor([[  1,   2,   3,   4,   5,   6,   7],\n",
              "        [ 11,  12,  13,  14,  15,  16,  17],\n",
              "        [ 21,  22,  23,  24,  25,  26,  27],\n",
              "        [ 31,  32,  33,  34,  35,  36,  37],\n",
              "        [ 41,  42,  43,  44,  45,  46,  47],\n",
              "        [ 51,  52,  53,  54,  55,  56,  57],\n",
              "        [ 61,  62,  63,  64,  65,  66,  67],\n",
              "        [ 71,  72,  73,  74,  75,  76,  77],\n",
              "        [ 81,  82,  83,  84,  85,  86,  87],\n",
              "        [ 91,  92,  93,  94,  95,  96,  97],\n",
              "        [101, 102, 103, 104, 105, 106, 107]])"
            ]
          },
          "metadata": {},
          "execution_count": 5
        }
      ]
    },
    {
      "cell_type": "markdown",
      "metadata": {
        "id": "oxVeUiHR1RC_"
      },
      "source": [
        "1.1.4 Написать функцию, которая для целых значений `n` и `m` будет возвращать тензор размера `n`x`m`, заполненный текстурой размера 2x2, состоящей из следующих значений:\n",
        "\n",
        "```\n",
        "0 1\n",
        "\n",
        "2 3\n",
        "\n",
        "```\n",
        "\n",
        "Пример для n = 4 и m = 5:\n",
        "\n",
        "```\n",
        "0 1 0 1 0\n",
        "\n",
        "2 3 2 3 2\n",
        "\n",
        "0 1 0 1 0\n",
        "\n",
        "2 3 2 3 2\n",
        "```"
      ]
    },
    {
      "cell_type": "code",
      "source": [
        "def tekstura(n, m):\n",
        "  tec = torch.tensor([[0, 1], [2, 3]])\n",
        "  return tec.repeat(n//2+1, m//2+1)[:n, :m]\n",
        "\n",
        "tekstura(4, 5)"
      ],
      "metadata": {
        "colab": {
          "base_uri": "https://localhost:8080/"
        },
        "id": "vuaHWas8LStB",
        "outputId": "59e2d600-b763-4ea8-e9f4-f7a8a6aaa959"
      },
      "execution_count": 6,
      "outputs": [
        {
          "output_type": "execute_result",
          "data": {
            "text/plain": [
              "tensor([[0, 1, 0, 1, 0],\n",
              "        [2, 3, 2, 3, 2],\n",
              "        [0, 1, 0, 1, 0],\n",
              "        [2, 3, 2, 3, 2]])"
            ]
          },
          "metadata": {},
          "execution_count": 6
        }
      ]
    },
    {
      "cell_type": "markdown",
      "metadata": {
        "id": "WH9hxJse1RDA"
      },
      "source": [
        "1.1.5 Сгенерировать двумерный тензор `t` размерности (4, 7), состоящий из случайных действительных чисел, равномерно распределенных в дипазоне от 0 до 20. Нормализовать значения массива с помощью преобразования вида $ax+b$ так, что после нормализации максимальный элемент масива будет равен 1.0, минимальный 0.0"
      ]
    },
    {
      "cell_type": "markdown",
      "metadata": {
        "id": "vPqIeewXB-mM"
      },
      "source": [
        "[Random Sampling](https://pytorch.org/docs/stable/torch.html#random-sampling)\n",
        "\n",
        "[Distributions](https://pytorch.org/docs/stable/distributions.html)"
      ]
    },
    {
      "cell_type": "code",
      "source": [
        "t = torch.FloatTensor(4, 7).uniform_(0, 20)\n",
        "t = t-torch.min(t)\n",
        "t/torch.max(t)"
      ],
      "metadata": {
        "colab": {
          "base_uri": "https://localhost:8080/"
        },
        "id": "JPbxTCp8Pm3Q",
        "outputId": "8bf673c7-4464-46f8-add8-f7f80d0e645c"
      },
      "execution_count": 7,
      "outputs": [
        {
          "output_type": "execute_result",
          "data": {
            "text/plain": [
              "tensor([[0.3644, 0.9950, 0.7147, 0.7925, 0.6250, 0.6144, 0.4855],\n",
              "        [0.1975, 0.3530, 1.0000, 0.1237, 0.4221, 0.2519, 0.0543],\n",
              "        [0.1869, 0.1538, 0.9100, 0.6910, 0.4047, 0.0000, 0.2889],\n",
              "        [0.6461, 0.3601, 0.3033, 0.1445, 0.2651, 0.2594, 0.5206]])"
            ]
          },
          "metadata": {},
          "execution_count": 7
        }
      ]
    },
    {
      "cell_type": "markdown",
      "metadata": {
        "id": "K_R6cwq11RDE"
      },
      "source": [
        "1.1.6 Задать два двумерных тензора `ar1` и `ar2` размерности (4, 7), состоящих из случайных целых чисел в пределах от 0 до 10. Построить двумерный тензор размерности (4, 7), каждый элемент которого представляет собой максимум из двух значений, находящихся на аналогичной позиции в тензорах `ar1`, `ar2`.\n",
        "\n",
        "[Reductions ops](https://pytorch.org/docs/stable/torch.html#reduction-ops)"
      ]
    },
    {
      "cell_type": "code",
      "source": [
        "ar1 = torch.randint(0, 11, [4, 7])\n",
        "ar2 = torch.randint(0, 11, [4, 7])\n",
        "print(ar1)\n",
        "print(ar2)\n",
        "torch.max(ar1, ar2)"
      ],
      "metadata": {
        "colab": {
          "base_uri": "https://localhost:8080/"
        },
        "id": "i7O41kE5SFMv",
        "outputId": "9a18e5af-f43a-4820-8144-c066bebceb37"
      },
      "execution_count": 8,
      "outputs": [
        {
          "output_type": "stream",
          "name": "stdout",
          "text": [
            "tensor([[9, 8, 9, 7, 8, 6, 7],\n",
            "        [2, 7, 1, 0, 1, 1, 0],\n",
            "        [8, 7, 7, 5, 0, 7, 4],\n",
            "        [1, 3, 8, 5, 8, 7, 5]])\n",
            "tensor([[ 9,  5,  7,  9,  4, 10,  2],\n",
            "        [ 0,  9,  5,  6,  9,  3, 10],\n",
            "        [ 0,  3,  8,  8,  4,  6,  7],\n",
            "        [ 3,  0, 10,  2,  4,  2,  9]])\n"
          ]
        },
        {
          "output_type": "execute_result",
          "data": {
            "text/plain": [
              "tensor([[ 9,  8,  9,  9,  8, 10,  7],\n",
              "        [ 2,  9,  5,  6,  9,  3, 10],\n",
              "        [ 8,  7,  8,  8,  4,  7,  7],\n",
              "        [ 3,  3, 10,  5,  8,  7,  9]])"
            ]
          },
          "metadata": {},
          "execution_count": 8
        }
      ]
    },
    {
      "cell_type": "markdown",
      "metadata": {
        "id": "x6zmMhyKBPWQ"
      },
      "source": [
        "1.1.7 Создать тензор из 20 случайных целых чисел от 0 до 100. Получить второе сверху значение в тензоре. Определить индекс этого значения."
      ]
    },
    {
      "cell_type": "code",
      "source": [
        "ar = torch.randint(0, 101, [20])\n",
        "print(ar)\n",
        "torch.topk(ar, 2).indices[1]"
      ],
      "metadata": {
        "colab": {
          "base_uri": "https://localhost:8080/"
        },
        "id": "BXappCh0Vlxq",
        "outputId": "852947d8-6768-4dbf-b9e3-e89c20d2e5ca"
      },
      "execution_count": 9,
      "outputs": [
        {
          "output_type": "stream",
          "name": "stdout",
          "text": [
            "tensor([50, 41, 67, 46, 10, 44, 96, 12, 30,  1,  4, 16, 50, 90, 80, 66, 66,  0,\n",
            "         0, 76])\n"
          ]
        },
        {
          "output_type": "execute_result",
          "data": {
            "text/plain": [
              "tensor(13)"
            ]
          },
          "metadata": {},
          "execution_count": 9
        }
      ]
    },
    {
      "cell_type": "markdown",
      "metadata": {
        "id": "Xshsy8fD1RDE"
      },
      "source": [
        "## 1.2 Распространение"
      ]
    },
    {
      "cell_type": "markdown",
      "metadata": {
        "id": "jlP22HAJCo28"
      },
      "source": [
        "[Numpy broadcasting](https://numpy.org/devdocs/user/theory.broadcasting.html)\n",
        "\n",
        "[Torch broadcasting](https://pytorch.org/docs/stable/notes/broadcasting.html)"
      ]
    },
    {
      "cell_type": "markdown",
      "metadata": {
        "id": "uRD6-8Gd1RDF"
      },
      "source": [
        "1.2.1 Создать тензор 11x7 вида: `[[1, 2, 3, ..., 7], [11, 12, 13, ..., 17], [21, 22, 23, ..., 27], ..., [101, 102, 103, ..., 107]]`. При решении задачи применить технику распространения."
      ]
    },
    {
      "cell_type": "code",
      "source": [
        "torch.arange(1,8)+torch.arange(0,110, 10)[:, np.newaxis]\n"
      ],
      "metadata": {
        "colab": {
          "base_uri": "https://localhost:8080/"
        },
        "id": "XjsVTWAtXve5",
        "outputId": "072d63d8-3e88-463e-bf61-654e58bcced9"
      },
      "execution_count": 10,
      "outputs": [
        {
          "output_type": "execute_result",
          "data": {
            "text/plain": [
              "tensor([[  1,   2,   3,   4,   5,   6,   7],\n",
              "        [ 11,  12,  13,  14,  15,  16,  17],\n",
              "        [ 21,  22,  23,  24,  25,  26,  27],\n",
              "        [ 31,  32,  33,  34,  35,  36,  37],\n",
              "        [ 41,  42,  43,  44,  45,  46,  47],\n",
              "        [ 51,  52,  53,  54,  55,  56,  57],\n",
              "        [ 61,  62,  63,  64,  65,  66,  67],\n",
              "        [ 71,  72,  73,  74,  75,  76,  77],\n",
              "        [ 81,  82,  83,  84,  85,  86,  87],\n",
              "        [ 91,  92,  93,  94,  95,  96,  97],\n",
              "        [101, 102, 103, 104, 105, 106, 107]])"
            ]
          },
          "metadata": {},
          "execution_count": 10
        }
      ]
    },
    {
      "cell_type": "markdown",
      "metadata": {
        "id": "iSY9Iday1RDF"
      },
      "source": [
        "1.2.2 Вычесть одномерный тензор `b_1d` из двухмерного тензора `a_2d`, так, чтобы каждый элемент одномерного тензора вычитался из всех элементов соответствующих строк двумерного тензора.\n",
        "\n",
        "_Пример:_\n",
        "\n",
        "Для входа:\n",
        "```python\n",
        "a_2d = torch.tensor([[3,3,3],[4,4,4],[5,5,5]])\n",
        "b_1d = torch.tensor([1,2,3])\n",
        "```\n",
        "\n",
        "Ожидается резульат:\n",
        "\n",
        "```python\n",
        "[[2 2 2]\n",
        " [2 2 2]\n",
        " [2 2 2]]\n",
        "```"
      ]
    },
    {
      "cell_type": "code",
      "source": [
        "a_2d = torch.tensor([[3,3,3],[4,4,4],[5,5,5]])\n",
        "b_1d = torch.tensor([1,2,3])\n",
        "a_2d-b_1d[:, np.newaxis]"
      ],
      "metadata": {
        "colab": {
          "base_uri": "https://localhost:8080/"
        },
        "id": "Su3LjFNuY1Gw",
        "outputId": "972799a8-312e-4517-e7f6-ec4778cab1cc"
      },
      "execution_count": 11,
      "outputs": [
        {
          "output_type": "execute_result",
          "data": {
            "text/plain": [
              "tensor([[2, 2, 2],\n",
              "        [2, 2, 2],\n",
              "        [2, 2, 2]])"
            ]
          },
          "metadata": {},
          "execution_count": 11
        }
      ]
    },
    {
      "cell_type": "markdown",
      "metadata": {
        "id": "dFTvPsY91RDF"
      },
      "source": [
        "## 1.3 Индексы, маскирование и прихотливое индексирование\n",
        "\n",
        "[Документация по функциям для работы с индексами](https://pytorch.org/docs/stable/torch.html#indexing-slicing-joining-mutating-ops)"
      ]
    },
    {
      "cell_type": "markdown",
      "metadata": {
        "id": "McYtDYhH1RDG"
      },
      "source": [
        "1.3.1 Получить индексы, для которых элементы тензоров `a` и `b` совпадают.\n",
        "\n",
        "_Пример:_\n",
        "\n",
        "Для входа:\n",
        "```python\n",
        "a = torch.tensor([1,2,3,2,3,4,3,4,5,6])\n",
        "b = torch.tensor([7,2,10,2,7,4,9,4,9,8])\n",
        "```\n",
        "\n",
        "Ожидается резульат:\n",
        "\n",
        "```python\n",
        "tensor([1, 3, 5, 7])\n",
        "```"
      ]
    },
    {
      "cell_type": "code",
      "source": [
        "a = torch.tensor([1,2,3,2,3,4,3,4,5,6])\n",
        "b = torch.tensor([7,2,10,2,7,4,9,4,9,8])\n",
        "torch.argwhere(a==b).flatten()"
      ],
      "metadata": {
        "colab": {
          "base_uri": "https://localhost:8080/"
        },
        "id": "QUZBaERPcMp6",
        "outputId": "f2f4f00b-c403-4952-a95a-af4bb03f77e4"
      },
      "execution_count": 12,
      "outputs": [
        {
          "output_type": "execute_result",
          "data": {
            "text/plain": [
              "tensor([1, 3, 5, 7])"
            ]
          },
          "metadata": {},
          "execution_count": 12
        }
      ]
    },
    {
      "cell_type": "markdown",
      "metadata": {
        "id": "MnBq3nfy1RDG"
      },
      "source": [
        "1.3.2 Инвертировать порядок элементов в двумерном тензоре `torch.arange(9).view(3,3)`.\n",
        "\n",
        "Ожидаемый результат:\n",
        "\n",
        "\n",
        "```python\n",
        "tensor([[8, 7, 6],\n",
        "       [5, 4, 3],\n",
        "       [2, 1, 0]])\n",
        "```"
      ]
    },
    {
      "cell_type": "code",
      "source": [
        "torch.flip(torch.arange(9).view(3,3), [0, 1])\n"
      ],
      "metadata": {
        "colab": {
          "base_uri": "https://localhost:8080/"
        },
        "id": "MzH4pfJQdSe_",
        "outputId": "1bcd48ea-10d5-48ef-d661-cd829f20e68c"
      },
      "execution_count": 13,
      "outputs": [
        {
          "output_type": "execute_result",
          "data": {
            "text/plain": [
              "tensor([[8, 7, 6],\n",
              "        [5, 4, 3],\n",
              "        [2, 1, 0]])"
            ]
          },
          "metadata": {},
          "execution_count": 13
        }
      ]
    },
    {
      "cell_type": "markdown",
      "metadata": {
        "id": "tANsLnOC1RDH"
      },
      "source": [
        "1.3.3 Из входного тензора a получить только элементы, находящиеся в диапазоне от 5 до 10.\n",
        "\n",
        "_Пример:_\n",
        "\n",
        "Для входа:\n",
        "```python\n",
        "a = torch.tensor([2, 6, 1, 9, 10, 3, 27])\n",
        "```\n",
        "\n",
        "Ожидается результат:\n",
        "\n",
        "```python\n",
        "tensor([6, 9, 10])\n",
        "```"
      ]
    },
    {
      "cell_type": "code",
      "source": [
        "a = torch.tensor([2, 6, 1, 9, 10, 3, 27])\n",
        "a[(a>=5) & (a<=10)]"
      ],
      "metadata": {
        "colab": {
          "base_uri": "https://localhost:8080/"
        },
        "id": "PLzuZrNed3fA",
        "outputId": "0a97c349-a895-45fc-c9f3-cae93e2a5fcb"
      },
      "execution_count": 14,
      "outputs": [
        {
          "output_type": "execute_result",
          "data": {
            "text/plain": [
              "tensor([ 6,  9, 10])"
            ]
          },
          "metadata": {},
          "execution_count": 14
        }
      ]
    },
    {
      "cell_type": "markdown",
      "metadata": {
        "id": "3vlK0gV21RDH"
      },
      "source": [
        "1.3.4 Поменять местами столбец 1 и 2 тензора `torch.arange(9).reshape(3,3)`"
      ]
    },
    {
      "cell_type": "code",
      "source": [
        "a = torch.arange(9).reshape(3,3)\n",
        "print(a)\n",
        "s1 = a[:,0].clone()\n",
        "a[:,0] = a[:,1]\n",
        "a[:,1] = s1\n",
        "a"
      ],
      "metadata": {
        "colab": {
          "base_uri": "https://localhost:8080/"
        },
        "id": "eaPBmEfRepOI",
        "outputId": "41c88900-5be3-443d-937f-ff6b8e5a0a72"
      },
      "execution_count": 15,
      "outputs": [
        {
          "output_type": "stream",
          "name": "stdout",
          "text": [
            "tensor([[0, 1, 2],\n",
            "        [3, 4, 5],\n",
            "        [6, 7, 8]])\n"
          ]
        },
        {
          "output_type": "execute_result",
          "data": {
            "text/plain": [
              "tensor([[1, 0, 2],\n",
              "        [4, 3, 5],\n",
              "        [7, 6, 8]])"
            ]
          },
          "metadata": {},
          "execution_count": 15
        }
      ]
    },
    {
      "cell_type": "markdown",
      "metadata": {
        "id": "cheFtWhU1RDH"
      },
      "source": [
        "1.3.5 Создать тензор 8 на 10 из случайных целых чисел из диапазона от 0 до 10 и найти в ней строку (ее индекс и вывести саму строку), в которой сумма значений минимальна."
      ]
    },
    {
      "cell_type": "code",
      "source": [
        "ar = torch.randint(0, 11, [8, 10])\n",
        "print(ar)\n",
        "ind = ar.sum(1).argmin()\n",
        "print(ind)\n",
        "print(ar[ind])"
      ],
      "metadata": {
        "colab": {
          "base_uri": "https://localhost:8080/"
        },
        "id": "QaZQwEaafsan",
        "outputId": "d7b8aac2-86f9-4740-8bcf-e2c42fc59adc"
      },
      "execution_count": 16,
      "outputs": [
        {
          "output_type": "stream",
          "name": "stdout",
          "text": [
            "tensor([[ 6,  6,  3,  1,  8,  8,  2,  2,  6,  6],\n",
            "        [ 7, 10,  0,  3, 10,  3,  0,  6,  7,  3],\n",
            "        [ 3,  0,  1,  6,  1, 10,  1,  4,  0,  4],\n",
            "        [ 5,  2,  7,  9,  4,  2,  5,  1,  1,  0],\n",
            "        [ 2,  6,  3,  0,  6,  5,  6,  6, 10,  6],\n",
            "        [ 8,  5,  7,  0,  3,  9, 10,  1,  9,  8],\n",
            "        [ 1,  4,  4,  5,  5,  4,  6,  9,  6,  6],\n",
            "        [ 8,  2,  3,  5,  0,  9,  3,  3,  1,  4]])\n",
            "tensor(2)\n",
            "tensor([ 3,  0,  1,  6,  1, 10,  1,  4,  0,  4])\n"
          ]
        }
      ]
    },
    {
      "cell_type": "markdown",
      "metadata": {
        "id": "grOCNU4XFE2B"
      },
      "source": [
        "1.3.6 Cоздать тензор из 20 случайных целых чисел от 0 до 100. Обрезать значения тензора (заменить значения, выходящие за диапазон, на крайние значения) снизу по значению 30, сверху по значению 70."
      ]
    },
    {
      "cell_type": "code",
      "source": [
        "ar = torch.randint(0, 101, [20])\n",
        "print(ar)\n",
        "ar[ar<30]=30\n",
        "ar[ar>70]=70\n",
        "ar"
      ],
      "metadata": {
        "colab": {
          "base_uri": "https://localhost:8080/"
        },
        "id": "qCAXA9NXgtrx",
        "outputId": "802bc91b-5cdd-42cd-8e91-ce8e382ff0fd"
      },
      "execution_count": 17,
      "outputs": [
        {
          "output_type": "stream",
          "name": "stdout",
          "text": [
            "tensor([33, 27, 85,  3, 80, 17, 36, 28, 31, 65, 76, 45, 38, 93, 89, 57, 79, 79,\n",
            "        84, 44])\n"
          ]
        },
        {
          "output_type": "execute_result",
          "data": {
            "text/plain": [
              "tensor([33, 30, 70, 30, 70, 30, 36, 30, 31, 65, 70, 45, 38, 70, 70, 57, 70, 70,\n",
              "        70, 44])"
            ]
          },
          "metadata": {},
          "execution_count": 17
        }
      ]
    },
    {
      "cell_type": "markdown",
      "metadata": {
        "id": "HNfQjY8P1RDI"
      },
      "source": [
        "1.3.7 Создать два тензора размера 30 на 3 из случайных целых чисел из диапазона от 0 до 10 и найти все значения первого тензора, которые больше соответсвующих (по расположению) значений второго тензора. Подсчитать сумму этих значений."
      ]
    },
    {
      "cell_type": "code",
      "source": [
        "ar1 = torch.randint(0, 11, [30, 3])\n",
        "ar2 = torch.randint(0, 11, [30, 3])\n",
        "ar1[ar1>ar2].sum()"
      ],
      "metadata": {
        "colab": {
          "base_uri": "https://localhost:8080/"
        },
        "id": "F6aUd6VDhLJ-",
        "outputId": "e58da1b5-b0e2-4c6f-88c0-f04a8163a1b7"
      },
      "execution_count": 18,
      "outputs": [
        {
          "output_type": "execute_result",
          "data": {
            "text/plain": [
              "tensor(346)"
            ]
          },
          "metadata": {},
          "execution_count": 18
        }
      ]
    },
    {
      "cell_type": "markdown",
      "metadata": {
        "id": "doBCxYJA1RDI"
      },
      "source": [
        "1.3.8 При помощи прихотливого индексирования для двухмерного массива размерности (20, 20), состоящего из случайных целых чисел в пределах от 0 до 10 получить массив элементов находящихся на диагонали, проходящей над основной диагональю."
      ]
    },
    {
      "cell_type": "code",
      "source": [
        "ar1 = torch.randint(0, 11, [20, 20])\n",
        "print(ar1)\n",
        "ind = torch.arange(19)\n",
        "ar1[ind, ind+1]"
      ],
      "metadata": {
        "colab": {
          "base_uri": "https://localhost:8080/"
        },
        "id": "XXOKTUllhqVX",
        "outputId": "e4c44333-4b85-456c-9d1a-b5f091d3a5c1"
      },
      "execution_count": 19,
      "outputs": [
        {
          "output_type": "stream",
          "name": "stdout",
          "text": [
            "tensor([[ 6,  7,  6,  4,  7,  7,  2,  6,  3,  1, 10,  3,  0, 10,  6,  7,  9,  9,\n",
            "          3,  3],\n",
            "        [ 1,  8,  9,  8,  5,  1,  7,  4,  4,  2,  6,  7,  5,  3,  7,  7,  1, 10,\n",
            "          2,  3],\n",
            "        [ 9,  4,  0,  9,  4,  6,  4,  8,  1,  9,  7,  6,  4,  0,  2, 10,  8,  4,\n",
            "          6,  1],\n",
            "        [ 2,  9,  4,  7,  7,  8,  8,  7,  4, 10,  3,  7,  4, 10,  6,  1,  8,  1,\n",
            "          1,  1],\n",
            "        [ 3,  2,  7,  4,  2,  0,  9,  3,  0,  5,  1,  4, 10,  2,  1,  4, 10,  2,\n",
            "          7,  9],\n",
            "        [ 6, 10,  6,  5, 10,  3,  1,  3,  2,  4,  8,  8,  9,  5,  7,  5,  5,  8,\n",
            "          3,  6],\n",
            "        [ 0,  7,  6,  7,  4,  1,  6,  0,  3,  1,  5,  7,  3,  4,  6,  7,  7,  1,\n",
            "          4,  3],\n",
            "        [ 0,  7,  7,  9,  8,  9,  4,  8,  5, 10, 10,  3, 10, 10,  8, 10,  4, 10,\n",
            "          8,  4],\n",
            "        [10,  8, 10,  2,  2,  0,  2,  9,  8,  9,  1,  9,  0,  1,  3, 10,  5,  4,\n",
            "          7,  4],\n",
            "        [ 7,  6,  1,  6,  1,  2,  5,  0, 10,  2,  8,  3,  8,  0,  6,  0,  5,  4,\n",
            "         10,  8],\n",
            "        [ 9,  9, 10,  3,  0,  3,  5,  4, 10,  7,  5,  1,  8,  4,  1,  3,  6,  9,\n",
            "          0,  5],\n",
            "        [ 9,  7,  5,  4,  4,  0, 10,  0,  6,  3,  0,  4,  3,  2,  0,  3,  3,  7,\n",
            "          5,  8],\n",
            "        [ 6,  1,  6,  7,  5, 10,  5,  2,  4, 10,  8,  2,  4,  3,  2,  3,  3,  9,\n",
            "          4,  1],\n",
            "        [ 8,  2,  2,  9,  0,  6,  7,  0,  6, 10,  2,  0,  0,  2,  8,  8,  3, 10,\n",
            "          0, 10],\n",
            "        [ 9, 10,  5,  6,  4,  7,  9,  9,  0,  4,  3,  0,  0,  4,  6,  5,  0,  4,\n",
            "         10,  1],\n",
            "        [ 6,  4,  1,  6,  8, 10,  0,  6,  7,  8,  7,  3,  7,  3,  2,  3,  8,  8,\n",
            "          9,  1],\n",
            "        [ 4,  7,  5,  8,  2,  2,  2,  1,  3,  8,  8,  3,  6,  1,  7,  1,  5,  5,\n",
            "          2,  7],\n",
            "        [10,  2,  4,  0,  7,  1, 10,  1,  4,  9,  2,  0,  0,  6,  4,  7,  4,  2,\n",
            "          5,  6],\n",
            "        [ 5,  5,  2,  6,  0,  7,  9,  9,  8,  4,  1,  1,  2,  8,  6,  1,  0,  3,\n",
            "          0,  4],\n",
            "        [ 6,  3,  2,  8,  8,  8,  9,  4,  8,  7,  3,  8,  6,  2,  2,  7, 10,  6,\n",
            "          9,  9]])\n"
          ]
        },
        {
          "output_type": "execute_result",
          "data": {
            "text/plain": [
              "tensor([7, 9, 9, 7, 0, 1, 0, 5, 9, 8, 1, 3, 3, 8, 5, 8, 5, 5, 4])"
            ]
          },
          "metadata": {},
          "execution_count": 19
        }
      ]
    },
    {
      "cell_type": "markdown",
      "metadata": {
        "id": "6M1lkfLp1RDJ"
      },
      "source": [
        "1.3.9 Задать два двухмерных тензора `ar1` и `ar2` размерности (5, 10), состоящих из случайных целых чисел в пределах от 0 до 10. Удвоить все значения `ar1`, которые совпадают со значениями `ar2`, расположенными на аналогичных позициях."
      ]
    },
    {
      "cell_type": "code",
      "source": [
        "ar1 = torch.randint(0, 11, [5, 10])\n",
        "ar2 = torch.randint(0, 11, [5, 10])\n",
        "print(ar1)\n",
        "print(ar2)\n",
        "ar1[ar1==ar2] = ar1[ar1==ar2]*2\n",
        "print(ar1)"
      ],
      "metadata": {
        "colab": {
          "base_uri": "https://localhost:8080/"
        },
        "id": "GkNEJLw4jkqO",
        "outputId": "059d593f-6b59-409d-8193-6da82d5b8432"
      },
      "execution_count": 20,
      "outputs": [
        {
          "output_type": "stream",
          "name": "stdout",
          "text": [
            "tensor([[ 2,  3,  1, 10,  3,  7,  8,  3,  3, 10],\n",
            "        [10,  7,  3,  0, 10,  3,  6,  9,  4,  3],\n",
            "        [ 8,  7,  6,  5,  6,  2,  9,  5,  1,  4],\n",
            "        [ 1,  6, 10,  6,  9,  4,  5,  7,  6,  3],\n",
            "        [ 4,  0,  8,  2,  1,  1,  9,  2,  8,  6]])\n",
            "tensor([[ 7,  2,  7, 10,  4,  9,  9,  2,  4,  9],\n",
            "        [ 5,  6,  4,  2,  5,  2,  4,  7,  5,  2],\n",
            "        [ 6,  3,  9,  0,  0,  7,  5,  2,  7,  2],\n",
            "        [ 4,  2, 10,  3,  2,  2,  8,  0,  1, 10],\n",
            "        [ 5,  5,  7,  8, 10,  0,  4,  1,  8, 10]])\n",
            "tensor([[ 2,  3,  1, 20,  3,  7,  8,  3,  3, 10],\n",
            "        [10,  7,  3,  0, 10,  3,  6,  9,  4,  3],\n",
            "        [ 8,  7,  6,  5,  6,  2,  9,  5,  1,  4],\n",
            "        [ 1,  6, 20,  6,  9,  4,  5,  7,  6,  3],\n",
            "        [ 4,  0,  8,  2,  1,  1,  9,  2, 16,  6]])\n"
          ]
        }
      ]
    },
    {
      "cell_type": "markdown",
      "metadata": {
        "id": "Qe2oVr4p1RDJ"
      },
      "source": [
        "1.3.10 Заданы три двухмерных тензора `ar1`, `ar2` и `ar3` размерности (4, 7), состоящие из случайных целых чисел в пределах от 0 до 10. Обнулить все элементы `ar1`, которые больше соответствующих (находящихся в соответствующих позициях) элементов `ar2` и меньше соответствующих элементов `ar3`."
      ]
    },
    {
      "cell_type": "code",
      "source": [
        "ar1 = torch.randint(0, 11, [4, 7])\n",
        "ar2 = torch.randint(0, 11, [4, 7])\n",
        "ar3 = torch.randint(0, 11, [4, 7])\n",
        "print(ar1)\n",
        "print(ar2)\n",
        "print(ar3)\n",
        "ar1[(ar1>ar2)&(ar1<ar3)] = 0\n",
        "print(ar1)"
      ],
      "metadata": {
        "colab": {
          "base_uri": "https://localhost:8080/"
        },
        "id": "xkvOTn2FkHeX",
        "outputId": "f039d66e-fbdf-42ef-af59-b06a99683727"
      },
      "execution_count": 21,
      "outputs": [
        {
          "output_type": "stream",
          "name": "stdout",
          "text": [
            "tensor([[ 8,  0,  4, 10,  7,  3,  8],\n",
            "        [ 2,  4,  5, 10,  4,  1,  8],\n",
            "        [ 1, 10,  2,  7,  1,  4,  6],\n",
            "        [ 0,  2,  2,  5,  1,  9,  0]])\n",
            "tensor([[10,  7, 10,  3,  8,  1,  2],\n",
            "        [ 1,  8,  6,  0,  4,  9,  3],\n",
            "        [ 9,  0,  8,  6,  7,  3,  0],\n",
            "        [ 9,  7,  9,  1,  3, 10,  1]])\n",
            "tensor([[ 7,  7,  4,  8,  1,  8,  3],\n",
            "        [ 3,  2,  6,  5,  5,  3,  3],\n",
            "        [ 4, 10,  5,  3,  1,  8,  1],\n",
            "        [ 3, 10, 10,  4,  2,  4,  7]])\n",
            "tensor([[ 8,  0,  4, 10,  7,  0,  8],\n",
            "        [ 0,  4,  5, 10,  4,  1,  8],\n",
            "        [ 1, 10,  2,  7,  1,  0,  6],\n",
            "        [ 0,  2,  2,  5,  1,  9,  0]])\n"
          ]
        }
      ]
    },
    {
      "cell_type": "markdown",
      "metadata": {
        "id": "BTcRVeYh1RDK"
      },
      "source": [
        "1.3.11 Задан двумерный тензор `ar1` размерности (20, 5), состоящий из случайных целых чисел в пределах от 0 до 20. Определить, в каких столбцах не менее 5 раз встречается значение, максимальное по своей строке."
      ]
    },
    {
      "cell_type": "code",
      "source": [
        "ar1 = torch.randint(0, 21, [20, 5])\n",
        "print(ar1)\n",
        "torch.argwhere(torch.bincount(ar1.max(1).indices)>=5).flatten()"
      ],
      "metadata": {
        "colab": {
          "base_uri": "https://localhost:8080/"
        },
        "id": "ZpG5Wrc_ltPv",
        "outputId": "7695e94b-f756-4f5e-8fbb-52e7f926f6b8"
      },
      "execution_count": 22,
      "outputs": [
        {
          "output_type": "stream",
          "name": "stdout",
          "text": [
            "tensor([[16,  4,  5, 10, 14],\n",
            "        [14,  2,  1,  9,  1],\n",
            "        [19,  6, 12, 15, 11],\n",
            "        [17,  7,  3,  5, 11],\n",
            "        [ 9,  4, 15,  9,  9],\n",
            "        [ 8, 18, 14,  2, 11],\n",
            "        [18,  5,  1,  4, 14],\n",
            "        [19,  6,  3, 20,  1],\n",
            "        [ 0, 10, 18, 14,  6],\n",
            "        [12, 10,  1, 17,  1],\n",
            "        [19, 20, 11, 12,  6],\n",
            "        [ 4,  7,  4,  2,  4],\n",
            "        [15, 12,  3,  1, 10],\n",
            "        [16, 17, 20,  2,  1],\n",
            "        [ 0, 12, 19,  9,  9],\n",
            "        [ 8, 20, 14, 11, 12],\n",
            "        [ 6, 14,  5, 12,  8],\n",
            "        [18, 11,  4,  7, 17],\n",
            "        [ 5, 14,  9,  8, 15],\n",
            "        [ 0,  4, 14,  2,  9]])\n"
          ]
        },
        {
          "output_type": "execute_result",
          "data": {
            "text/plain": [
              "tensor([0, 1, 2])"
            ]
          },
          "metadata": {},
          "execution_count": 22
        }
      ]
    },
    {
      "cell_type": "markdown",
      "metadata": {
        "id": "ZeYlNWNE1RDK"
      },
      "source": [
        "1.3.12 Задан двумерный тензор `ar1` размерности (4, 7), состоящий из случайных  чисел в пределах от 0 до 1. Обнулить все значения в массиве, расположенные строго правее и ниже максимального элемента массива. "
      ]
    },
    {
      "cell_type": "code",
      "source": [
        "ar1 = torch.rand([4, 7])\n",
        "print(ar1)\n",
        "ind = np.unravel_index(ar1.argmax(), [4, 7])\n",
        "print(ind)\n",
        "ar1[ind[0]+1:, ind[1]+1:]=0\n",
        "ar1"
      ],
      "metadata": {
        "colab": {
          "base_uri": "https://localhost:8080/"
        },
        "id": "xI6FVDhhnE5W",
        "outputId": "3a16cb55-7a60-4405-e3f6-f0e569ddff39"
      },
      "execution_count": 23,
      "outputs": [
        {
          "output_type": "stream",
          "name": "stdout",
          "text": [
            "tensor([[0.4704, 0.3612, 0.8869, 0.8416, 0.2648, 0.4278, 0.9376],\n",
            "        [0.4366, 0.6421, 0.1565, 0.2337, 0.7960, 0.9733, 0.9472],\n",
            "        [0.9573, 0.6616, 0.2360, 0.6852, 0.8080, 0.2829, 0.5263],\n",
            "        [0.3529, 0.7001, 0.7591, 0.2129, 0.0582, 0.5415, 0.5291]])\n",
            "(1, 5)\n"
          ]
        },
        {
          "output_type": "execute_result",
          "data": {
            "text/plain": [
              "tensor([[0.4704, 0.3612, 0.8869, 0.8416, 0.2648, 0.4278, 0.9376],\n",
              "        [0.4366, 0.6421, 0.1565, 0.2337, 0.7960, 0.9733, 0.9472],\n",
              "        [0.9573, 0.6616, 0.2360, 0.6852, 0.8080, 0.2829, 0.0000],\n",
              "        [0.3529, 0.7001, 0.7591, 0.2129, 0.0582, 0.5415, 0.0000]])"
            ]
          },
          "metadata": {},
          "execution_count": 23
        }
      ]
    },
    {
      "cell_type": "markdown",
      "metadata": {
        "id": "pYxX90B11RDL"
      },
      "source": [
        "1.3.13 Построить \"one-hot encoding\" для одномерного тензора, содержащего целые числа (длина вектора заранее неизвестна, набор значений заранее неизвестен, при этом в итоговой матрице должны присутствовать столбцы для всех натуральных чисел вплоть до максимального встречающегося в исходном массиве).\n",
        "\n",
        "Пример:\n",
        "\n",
        "для тензора `torch.tensor([2, 3, 2, 2, 2, 1])`.\n",
        "\n",
        "Ожидается результат:\n",
        "\n",
        "```python\n",
        "tensor([[0., 1., 0.],\n",
        "        [0., 0., 1.],\n",
        "        [0., 1., 0.],\n",
        "        [0., 1., 0.],\n",
        "        [0., 1., 0.],\n",
        "        [1., 0., 0.]])\n",
        "```"
      ]
    },
    {
      "cell_type": "code",
      "source": [
        "ar = torch.tensor([2, 3, 2, 2, 2, 1])\n",
        "torch.nn.functional.one_hot(ar)[:, 1:]"
      ],
      "metadata": {
        "colab": {
          "base_uri": "https://localhost:8080/"
        },
        "id": "M3za9mW2H-iY",
        "outputId": "629f8876-cab3-4e6f-ffed-7cc20b594467"
      },
      "execution_count": 24,
      "outputs": [
        {
          "output_type": "execute_result",
          "data": {
            "text/plain": [
              "tensor([[0, 1, 0],\n",
              "        [0, 0, 1],\n",
              "        [0, 1, 0],\n",
              "        [0, 1, 0],\n",
              "        [0, 1, 0],\n",
              "        [1, 0, 0]])"
            ]
          },
          "metadata": {},
          "execution_count": 24
        }
      ]
    },
    {
      "cell_type": "markdown",
      "metadata": {
        "id": "GYU8DmNTDLN8"
      },
      "source": [
        "1.3.14 Создать тензор `arr` из 20 случайных целых чисел от 0 до 100. Найти самое частое значение в тензоре. \n",
        "Найти индексы в тензоре, соответствующие самому частому значению. Проверить, как работет алгоритм при двух значениях, имеющих наибольшую встречаемость, предложить приемлемое поведение алгоритма для этого случая. "
      ]
    },
    {
      "cell_type": "code",
      "source": [
        "ar = torch.randint(0, 11, [20])\n",
        "print(ar)\n",
        "print(ar.mode())\n",
        "torch.argwhere(ar==ar.mode().values).flatten()"
      ],
      "metadata": {
        "colab": {
          "base_uri": "https://localhost:8080/"
        },
        "id": "CJlzHFviOrqu",
        "outputId": "81cfe2d3-39ad-494e-f0b2-ca20628170bd"
      },
      "execution_count": 25,
      "outputs": [
        {
          "output_type": "stream",
          "name": "stdout",
          "text": [
            "tensor([ 9,  0,  1,  5,  1,  4,  5,  4,  8,  6,  3,  4,  0,  0,  9,  0,  0,  5,\n",
            "        10,  3])\n",
            "torch.return_types.mode(\n",
            "values=tensor(0),\n",
            "indices=tensor(12))\n"
          ]
        },
        {
          "output_type": "execute_result",
          "data": {
            "text/plain": [
              "tensor([ 1, 12, 13, 15, 16])"
            ]
          },
          "metadata": {},
          "execution_count": 25
        }
      ]
    },
    {
      "cell_type": "code",
      "source": [
        "ar2 =  torch.tensor([1, 2, 1, 2, 1, 2, 1, 2, 1, 2, 1, 2, 1, 2, 1, 2, 1, 2, 1, 2, 3])\n",
        "print(ar2)\n",
        "print(ar2.mode())\n",
        "torch.argwhere(ar2==ar2.mode().values).flatten()"
      ],
      "metadata": {
        "colab": {
          "base_uri": "https://localhost:8080/"
        },
        "id": "2vRYP4pHP0A1",
        "outputId": "3e777fe0-61b9-48e5-affd-25f9b4259645"
      },
      "execution_count": 26,
      "outputs": [
        {
          "output_type": "stream",
          "name": "stdout",
          "text": [
            "tensor([1, 2, 1, 2, 1, 2, 1, 2, 1, 2, 1, 2, 1, 2, 1, 2, 1, 2, 1, 2, 3])\n",
            "torch.return_types.mode(\n",
            "values=tensor(1),\n",
            "indices=tensor(14))\n"
          ]
        },
        {
          "output_type": "execute_result",
          "data": {
            "text/plain": [
              "tensor([ 0,  2,  4,  6,  8, 10, 12, 14, 16, 18])"
            ]
          },
          "metadata": {},
          "execution_count": 26
        }
      ]
    },
    {
      "cell_type": "code",
      "source": [
        "modes=torch.argwhere(torch.bincount(ar2) == torch.bincount(ar2).max()).flatten()\n",
        "print(modes)"
      ],
      "metadata": {
        "colab": {
          "base_uri": "https://localhost:8080/"
        },
        "id": "NsPbdsyMQobs",
        "outputId": "70513cf3-5864-48e0-b929-4d72bd9b4ed9"
      },
      "execution_count": 27,
      "outputs": [
        {
          "output_type": "stream",
          "name": "stdout",
          "text": [
            "tensor([1, 2])\n"
          ]
        }
      ]
    },
    {
      "cell_type": "markdown",
      "metadata": {
        "id": "UenAEfEG1RDN"
      },
      "source": [
        "## 1.4 Математические задачи"
      ]
    },
    {
      "cell_type": "markdown",
      "metadata": {
        "id": "6weDrqJR1RDN"
      },
      "source": [
        "1.4.1 Приблизительно (с погрешностью порядка 1%) рассчитать на какой части интервала от 0 до 10 значение функции x * sin(x) больше 0.5."
      ]
    },
    {
      "cell_type": "code",
      "source": [
        "x=torch.arange(0, 11, 0.01)\n",
        "print(x*x.sin())\n",
        "x[x*x.sin()>0.5].size(0)/x.size(0)"
      ],
      "metadata": {
        "colab": {
          "base_uri": "https://localhost:8080/"
        },
        "id": "V9gIvRK61XUT",
        "outputId": "f8a695fd-5a86-43f1-9ea0-7b5759a465ba"
      },
      "execution_count": 112,
      "outputs": [
        {
          "output_type": "stream",
          "name": "stdout",
          "text": [
            "tensor([ 0.0000e+00,  9.9998e-05,  3.9997e-04,  ..., -1.0966e+01,\n",
            "        -1.0979e+01, -1.0990e+01])\n"
          ]
        },
        {
          "output_type": "execute_result",
          "data": {
            "text/plain": [
              "0.4763636363636364"
            ]
          },
          "metadata": {},
          "execution_count": 112
        }
      ]
    },
    {
      "cell_type": "markdown",
      "metadata": {
        "id": "B9xAv8TR1RDN"
      },
      "source": [
        "1.4.2 Найти все простые числа в пределах ста. (Для решения предлагается использовать Решето Эратосфена) Использовать не более 1 цикла (желательно)."
      ]
    },
    {
      "cell_type": "code",
      "source": [
        "n=100\n",
        "x=torch.arange(0, n+1)\n",
        "mask = torch.ones(n+1, dtype=torch.bool)\n",
        "mask[0] = mask[1] = False\n",
        "for i in range(n+1):\n",
        "  if mask[i]:\n",
        "    mask[x%i==0] = False\n",
        "    mask[i] = True\n",
        "x[mask]"
      ],
      "metadata": {
        "colab": {
          "base_uri": "https://localhost:8080/"
        },
        "id": "YWIRBN8ZkQ7c",
        "outputId": "c68813b4-d9f8-499d-cc01-dcf11aaf6af3"
      },
      "execution_count": 44,
      "outputs": [
        {
          "output_type": "execute_result",
          "data": {
            "text/plain": [
              "tensor([ 2,  3,  5,  7, 11, 13, 17, 19, 23, 29, 31, 37, 41, 43, 47, 53, 59, 61,\n",
              "        67, 71, 73, 79, 83, 89, 97])"
            ]
          },
          "metadata": {},
          "execution_count": 44
        }
      ]
    },
    {
      "cell_type": "markdown",
      "metadata": {
        "id": "AHupFoTR1RDN"
      },
      "source": [
        "1.4.3 Найти евклидово расстояние между двумя одномерными тензорами одинаковой размерности, не используя готовые решения из библиотек."
      ]
    },
    {
      "cell_type": "code",
      "source": [
        "v1=torch.tensor([3, 5, 2, 1, 8, 6])\n",
        "v2=torch.tensor([9, 4, 2, 7, 2, 0])\n",
        "(v1-v2).pow(2).sum().sqrt()"
      ],
      "metadata": {
        "colab": {
          "base_uri": "https://localhost:8080/"
        },
        "id": "X4ls2hOgoFYE",
        "outputId": "02707d62-988e-4907-8b69-c307145457f1"
      },
      "execution_count": 50,
      "outputs": [
        {
          "output_type": "execute_result",
          "data": {
            "text/plain": [
              "tensor(12.0416)"
            ]
          },
          "metadata": {},
          "execution_count": 50
        }
      ]
    },
    {
      "cell_type": "markdown",
      "metadata": {
        "id": "j-ZvjWDKDVMQ"
      },
      "source": [
        "1.4.4 Создать двумерный тензор 20 на 3, содержащий случайные целые числа от 0 до 100. \n",
        "Интерпретируя тензор как 20 векторов из 3х компонент, отсортировать его по длине векторов."
      ]
    },
    {
      "cell_type": "code",
      "source": [
        "ar = torch.randint(0, 101, [20, 3])\n",
        "print(ar)\n",
        "order = ar.pow(2).sum(1).sort(descending=True).indices\n",
        "print(order)\n",
        "ar[order]"
      ],
      "metadata": {
        "colab": {
          "base_uri": "https://localhost:8080/"
        },
        "id": "Rk-bxNsMpP97",
        "outputId": "94569311-dd78-41b2-c154-85050a317980"
      },
      "execution_count": 72,
      "outputs": [
        {
          "output_type": "stream",
          "name": "stdout",
          "text": [
            "tensor([[ 64,  33,  94],\n",
            "        [ 72,  48,   7],\n",
            "        [ 98,  98,  78],\n",
            "        [ 24,  43,  60],\n",
            "        [ 10,  98,  43],\n",
            "        [  2,  56,  63],\n",
            "        [ 49,  57,  20],\n",
            "        [  9,  30,  98],\n",
            "        [ 39,   4,  74],\n",
            "        [ 29,   2,  95],\n",
            "        [ 60,  66,  24],\n",
            "        [ 36,  76,  32],\n",
            "        [100,  23,  53],\n",
            "        [ 37,   5,  10],\n",
            "        [ 16,  39,  71],\n",
            "        [ 57,  62,  83],\n",
            "        [ 37,  66,  10],\n",
            "        [ 16,   3,  19],\n",
            "        [ 67,  92,  94],\n",
            "        [ 22,  44,  58]])\n",
            "tensor([ 2, 18,  0, 15, 12,  4,  7,  9, 10, 11,  1,  5,  8, 14,  6,  3, 16, 19,\n",
            "        13, 17])\n"
          ]
        },
        {
          "output_type": "execute_result",
          "data": {
            "text/plain": [
              "tensor([[ 98,  98,  78],\n",
              "        [ 67,  92,  94],\n",
              "        [ 64,  33,  94],\n",
              "        [ 57,  62,  83],\n",
              "        [100,  23,  53],\n",
              "        [ 10,  98,  43],\n",
              "        [  9,  30,  98],\n",
              "        [ 29,   2,  95],\n",
              "        [ 60,  66,  24],\n",
              "        [ 36,  76,  32],\n",
              "        [ 72,  48,   7],\n",
              "        [  2,  56,  63],\n",
              "        [ 39,   4,  74],\n",
              "        [ 16,  39,  71],\n",
              "        [ 49,  57,  20],\n",
              "        [ 24,  43,  60],\n",
              "        [ 37,  66,  10],\n",
              "        [ 22,  44,  58],\n",
              "        [ 37,   5,  10],\n",
              "        [ 16,   3,  19]])"
            ]
          },
          "metadata": {},
          "execution_count": 72
        }
      ]
    },
    {
      "cell_type": "markdown",
      "metadata": {
        "id": "IkBRFTKa1RDO"
      },
      "source": [
        "1.4.5 Найти \"локальные максимумы\" в одномерном тензоре (т.е. значения, большие предыдущего и последующего) `torch.tensor([1, 3, 7, 1, 2, 6, 0, 1])` и вывести их индексы."
      ]
    },
    {
      "cell_type": "code",
      "source": [
        "x=torch.tensor([1, 3, 7, 1, 2, 6, 0, 1])\n",
        "print(x)\n",
        "n = x.size(dim=0)\n",
        "mask1 = torch.cat((torch.tensor([False]), x[torch.arange(0, n-1)]>x[torch.arange(1, n)]))\n",
        "mask2 = ~torch.cat((mask1[1:], torch.tensor([True])))\n",
        "x[~mask1.add(mask2)]"
      ],
      "metadata": {
        "colab": {
          "base_uri": "https://localhost:8080/"
        },
        "id": "yogcw7-dtHkG",
        "outputId": "34fce036-c09a-49a9-be1c-3289f0af0bdf"
      },
      "execution_count": 104,
      "outputs": [
        {
          "output_type": "stream",
          "name": "stdout",
          "text": [
            "tensor([1, 3, 7, 1, 2, 6, 0, 1])\n"
          ]
        },
        {
          "output_type": "execute_result",
          "data": {
            "text/plain": [
              "tensor([7, 6, 1])"
            ]
          },
          "metadata": {},
          "execution_count": 104
        }
      ]
    },
    {
      "cell_type": "markdown",
      "metadata": {
        "id": "VXD58rlc1RDP"
      },
      "source": [
        "1.4.6 Задан произвольный массив numpy (например массив из 100 случайных числе от 0 до 1). Необходимо найти в нем число наиболее близкое к заданному."
      ]
    },
    {
      "cell_type": "code",
      "source": [
        "x = 0.48\n",
        "ar = torch.tensor(np.random.random_sample(100))\n",
        "print(ar)\n",
        "ar[(x-ar).abs().argmin()].item()"
      ],
      "metadata": {
        "colab": {
          "base_uri": "https://localhost:8080/"
        },
        "id": "Eh2P9PfV9ims",
        "outputId": "1ff1d1fb-a485-4765-d443-72a315454c16"
      },
      "execution_count": 140,
      "outputs": [
        {
          "output_type": "stream",
          "name": "stdout",
          "text": [
            "tensor([6.1956e-01, 8.9592e-01, 4.0117e-01, 1.8972e-01, 7.3590e-01, 5.3025e-01,\n",
            "        9.8997e-01, 6.3324e-01, 1.3658e-01, 4.4989e-01, 3.6520e-01, 2.9212e-01,\n",
            "        1.6534e-01, 7.3013e-01, 7.6969e-02, 6.8129e-01, 7.6800e-01, 4.0416e-01,\n",
            "        5.6857e-01, 8.2171e-01, 7.9505e-01, 2.0076e-01, 9.8367e-02, 4.6858e-01,\n",
            "        9.9908e-01, 1.1794e-01, 4.4704e-01, 5.4212e-01, 9.6396e-01, 7.3151e-01,\n",
            "        8.2762e-01, 7.6741e-01, 4.4645e-01, 7.7861e-01, 5.2703e-01, 5.9177e-01,\n",
            "        3.7679e-01, 6.0954e-01, 7.5584e-01, 2.7878e-01, 6.8192e-01, 3.5361e-01,\n",
            "        5.5076e-01, 6.1569e-04, 7.9142e-01, 5.7134e-01, 4.2558e-01, 1.8029e-01,\n",
            "        7.2948e-01, 5.5143e-01, 8.2464e-01, 2.8890e-01, 1.8762e-01, 4.4948e-01,\n",
            "        6.4376e-01, 5.2532e-01, 4.4194e-01, 5.5581e-01, 9.2430e-01, 5.1243e-01,\n",
            "        8.1519e-01, 2.0202e-01, 2.7632e-01, 6.8240e-01, 5.6248e-01, 7.5101e-01,\n",
            "        3.8457e-01, 9.5709e-01, 4.4794e-01, 3.7113e-01, 6.9158e-01, 5.5563e-01,\n",
            "        3.1568e-01, 5.2237e-01, 1.1113e-01, 1.8285e-01, 6.1373e-02, 3.5746e-01,\n",
            "        5.8055e-01, 6.9808e-01, 3.4764e-01, 2.6810e-01, 1.3288e-01, 4.5718e-02,\n",
            "        8.1166e-01, 1.2176e-01, 3.9548e-01, 9.2225e-01, 3.6087e-01, 1.6196e-01,\n",
            "        2.2186e-01, 6.0117e-01, 1.8871e-01, 4.0685e-01, 6.2510e-01, 9.9299e-01,\n",
            "        5.0246e-01, 1.2381e-01, 4.0788e-01, 9.1705e-02], dtype=torch.float64)\n"
          ]
        },
        {
          "output_type": "execute_result",
          "data": {
            "text/plain": [
              "0.4685839485390183"
            ]
          },
          "metadata": {},
          "execution_count": 140
        }
      ]
    },
    {
      "cell_type": "markdown",
      "metadata": {
        "id": "81F_B2ij1RDP"
      },
      "source": [
        "1.4.7 Решить матричное уравнение `A*X*B=-C` - найти матрицу X. Где `A = [[-1, 2, 4], [-3, 1, 2], [-3, 0, 1]]`, `B=[[3, -1], [2, 1]]`, `C=[[7, 21], [11, 8], [8, 4]]`."
      ]
    },
    {
      "cell_type": "code",
      "source": [
        "A = torch.tensor([[-1, 2, 4], [-3, 1, 2], [-3, 0, 1]], dtype=torch.float64)\n",
        "B=torch.tensor([[3, -1], [2, 1]], dtype=torch.float64)\n",
        "C=torch.tensor([[7, 21], [11, 8], [8, 4]], dtype=torch.float64)\n",
        "torch.linalg.inv(A)@(-C)@torch.linalg.inv(B)"
      ],
      "metadata": {
        "colab": {
          "base_uri": "https://localhost:8080/"
        },
        "id": "mxbT_rrcAD7T",
        "outputId": "8afb1ca2-6bc5-4ed3-9f2a-055b77a61894"
      },
      "execution_count": 190,
      "outputs": [
        {
          "output_type": "execute_result",
          "data": {
            "text/plain": [
              "tensor([[ 1.0000e+00,  1.1102e-16],\n",
              "        [-2.0000e+00,  1.0000e+00],\n",
              "        [ 3.0000e+00, -4.0000e+00]], dtype=torch.float64)"
            ]
          },
          "metadata": {},
          "execution_count": 190
        }
      ]
    },
    {
      "cell_type": "markdown",
      "metadata": {
        "id": "1P7O19bj1RDP"
      },
      "source": [
        "1.4.8 Проверить, является ли система векторов a1 = (3; −3; 0; 7),\n",
        "a2 = (2; 2; 4; 7), a3 = (1; 2; 3; 4), a4 = (5; −4; 1; 3) линейно зависимой?"
      ]
    },
    {
      "cell_type": "code",
      "source": [
        "a1 = torch.tensor([3, -3, 0, 7]) \n",
        "a2 = torch.tensor([2, 2, 4, 7])\n",
        "a3 = torch.tensor([1, 2, 3, 4])\n",
        "a4 = torch.tensor([5, -4, 1, 3])\n",
        "matrix = torch.cat((a1, a2, a3, a4)).resize_(4, 4)\n",
        "matrix = matrix.float()\n",
        "if torch.linalg.det(matrix)==0:\n",
        "  print(\"Система векторов линейно зависима\")\n",
        "else:\n",
        "  print(\"Система векторов линейно не зависима\")"
      ],
      "metadata": {
        "colab": {
          "base_uri": "https://localhost:8080/"
        },
        "id": "w8uRZNfVC5zp",
        "outputId": "2d72a7fd-dc49-4546-9b2a-d693b532a0ba"
      },
      "execution_count": 202,
      "outputs": [
        {
          "output_type": "stream",
          "name": "stdout",
          "text": [
            "Система векторов линейно не зависима\n"
          ]
        }
      ]
    },
    {
      "cell_type": "markdown",
      "metadata": {
        "id": "Jg_bzMVS1RDQ"
      },
      "source": [
        "1.4.9 Сгенирировать тензор из 200 случайных целых чисел, нормально распрделенных cо стандартным отклонением $\\sigma = 10$ и матожиданием $\\mu = 0$. Построить тензор гистограммы с 20 бинами. "
      ]
    },
    {
      "cell_type": "code",
      "source": [
        "import matplotlib.pyplot as plt"
      ],
      "metadata": {
        "id": "lCm1zEzTO2wc"
      },
      "execution_count": 30,
      "outputs": []
    },
    {
      "cell_type": "code",
      "execution_count": 32,
      "metadata": {
        "id": "6jsxYw9SDjFy",
        "colab": {
          "base_uri": "https://localhost:8080/",
          "height": 374
        },
        "outputId": "bd015beb-a980-43e1-dfca-309220e5ecd5"
      },
      "outputs": [
        {
          "output_type": "stream",
          "name": "stdout",
          "text": [
            "torch.return_types.histogram(\n",
            "hist=tensor([ 1.,  2.,  5.,  3.,  3.,  7.,  3., 18., 24., 23., 26., 23., 17., 11.,\n",
            "        11.,  7.,  4.,  7.,  3.,  2.]),\n",
            "bin_edges=tensor([-29.0114, -26.2906, -23.5697, -20.8489, -18.1280, -15.4072, -12.6863,\n",
            "         -9.9655,  -7.2446,  -4.5238,  -1.8029,   0.9179,   3.6388,   6.3596,\n",
            "          9.0805,  11.8013,  14.5222,  17.2430,  19.9639,  22.6847,  25.4056]))\n"
          ]
        },
        {
          "output_type": "display_data",
          "data": {
            "text/plain": [
              "<Figure size 432x288 with 1 Axes>"
            ],
            "image/png": "[encoded data removed]"
          },
          "metadata": {
            "needs_background": "light"
          }
        }
      ],
      "source": [
        "t = torch.histogram(torch.empty(200).normal_(mean=0, std=10), bins=20)\n",
        "print(t)\n",
        "plt.bar(t.bin_edges[:-1], t.hist, width=2)\n",
        "plt.ylabel('Частота')\n",
        "plt.show()"
      ]
    },
    {
      "cell_type": "code",
      "source": [],
      "metadata": {
        "id": "sQ26AozOQ_fJ"
      },
      "execution_count": null,
      "outputs": []
    }
  ],
  "metadata": {
    "colab": {
      "provenance": [],
      "toc_visible": true,
      "collapsed_sections": []
    },
    "kernelspec": {
      "display_name": "Python 3",
      "language": "python",
      "name": "python3"
    },
    "language_info": {
      "codemirror_mode": {
        "name": "ipython",
        "version": 3
      },
      "file_extension": ".py",
      "mimetype": "text/x-python",
      "name": "python",
      "nbconvert_exporter": "python",
      "pygments_lexer": "ipython3",
      "version": "3.7.4"
    }
  },
  "nbformat": 4,
  "nbformat_minor": 0
}