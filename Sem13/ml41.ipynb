{
 "cells": [
  {
   "cell_type": "code",
   "execution_count": 1,
   "metadata": {},
   "outputs": [],
   "source": [
    "import numpy as np \n",
    "import pandas as pd \n",
    "import matplotlib\n",
    "import matplotlib.pyplot as plt\n",
    "import seaborn as sns\n",
    "from sklearn.preprocessing import StandardScaler\n",
    "%matplotlib inline"
   ]
  },
  {
   "cell_type": "code",
   "execution_count": 2,
   "metadata": {},
   "outputs": [],
   "source": [
    "plt.rcParams['figure.figsize'] = (8,6)"
   ]
  },
  {
   "cell_type": "markdown",
   "metadata": {},
   "source": [
    "### 1.\tЗагрузка датасета в pandas"
   ]
  },
  {
   "cell_type": "code",
   "execution_count": 3,
   "metadata": {},
   "outputs": [
    {
     "data": {
      "text/html": [
       "<div>\n",
       "<style scoped>\n",
       "    .dataframe tbody tr th:only-of-type {\n",
       "        vertical-align: middle;\n",
       "    }\n",
       "\n",
       "    .dataframe tbody tr th {\n",
       "        vertical-align: top;\n",
       "    }\n",
       "\n",
       "    .dataframe thead th {\n",
       "        text-align: right;\n",
       "    }\n",
       "</style>\n",
       "<table border=\"1\" class=\"dataframe\">\n",
       "  <thead>\n",
       "    <tr style=\"text-align: right;\">\n",
       "      <th></th>\n",
       "      <th>dateCrawled</th>\n",
       "      <th>name</th>\n",
       "      <th>seller</th>\n",
       "      <th>offerType</th>\n",
       "      <th>price</th>\n",
       "      <th>abtest</th>\n",
       "      <th>vehicleType</th>\n",
       "      <th>yearOfRegistration</th>\n",
       "      <th>gearbox</th>\n",
       "      <th>powerPS</th>\n",
       "      <th>model</th>\n",
       "      <th>kilometer</th>\n",
       "      <th>monthOfRegistration</th>\n",
       "      <th>fuelType</th>\n",
       "      <th>brand</th>\n",
       "      <th>notRepairedDamage</th>\n",
       "      <th>dateCreated</th>\n",
       "      <th>postalCode</th>\n",
       "      <th>lastSeen</th>\n",
       "    </tr>\n",
       "  </thead>\n",
       "  <tbody>\n",
       "    <tr>\n",
       "      <th>0</th>\n",
       "      <td>2016-03-30 13:51:00</td>\n",
       "      <td>Zu_verkaufen</td>\n",
       "      <td>private</td>\n",
       "      <td>offer</td>\n",
       "      <td>4450</td>\n",
       "      <td>test</td>\n",
       "      <td>limousine</td>\n",
       "      <td>2003</td>\n",
       "      <td>manual</td>\n",
       "      <td>150</td>\n",
       "      <td>3er</td>\n",
       "      <td>150000</td>\n",
       "      <td>3</td>\n",
       "      <td>diesel</td>\n",
       "      <td>bmw</td>\n",
       "      <td>NaN</td>\n",
       "      <td>2016-03-30</td>\n",
       "      <td>20257</td>\n",
       "      <td>2016-07-04 04:44:00</td>\n",
       "    </tr>\n",
       "    <tr>\n",
       "      <th>1</th>\n",
       "      <td>2016-07-03 09:54:00</td>\n",
       "      <td>Volvo_XC90_2.4D_Summum</td>\n",
       "      <td>private</td>\n",
       "      <td>offer</td>\n",
       "      <td>13299</td>\n",
       "      <td>control</td>\n",
       "      <td>suv</td>\n",
       "      <td>2005</td>\n",
       "      <td>manual</td>\n",
       "      <td>163</td>\n",
       "      <td>xc_reihe</td>\n",
       "      <td>150000</td>\n",
       "      <td>6</td>\n",
       "      <td>diesel</td>\n",
       "      <td>volvo</td>\n",
       "      <td>no</td>\n",
       "      <td>2016-07-03</td>\n",
       "      <td>88045</td>\n",
       "      <td>2016-03-26 13:17:00</td>\n",
       "    </tr>\n",
       "    <tr>\n",
       "      <th>2</th>\n",
       "      <td>2016-01-04 00:57:00</td>\n",
       "      <td>Volkswagen_Touran</td>\n",
       "      <td>private</td>\n",
       "      <td>offer</td>\n",
       "      <td>3200</td>\n",
       "      <td>test</td>\n",
       "      <td>bus</td>\n",
       "      <td>2003</td>\n",
       "      <td>manual</td>\n",
       "      <td>101</td>\n",
       "      <td>touran</td>\n",
       "      <td>150000</td>\n",
       "      <td>11</td>\n",
       "      <td>diesel</td>\n",
       "      <td>volkswagen</td>\n",
       "      <td>NaN</td>\n",
       "      <td>2016-03-31</td>\n",
       "      <td>27449</td>\n",
       "      <td>2016-01-04 08:40:00</td>\n",
       "    </tr>\n",
       "    <tr>\n",
       "      <th>3</th>\n",
       "      <td>2016-03-19 17:50:00</td>\n",
       "      <td>Seat_Ibiza_1.4_16V_Reference</td>\n",
       "      <td>private</td>\n",
       "      <td>offer</td>\n",
       "      <td>4500</td>\n",
       "      <td>control</td>\n",
       "      <td>small car</td>\n",
       "      <td>2006</td>\n",
       "      <td>manual</td>\n",
       "      <td>86</td>\n",
       "      <td>ibiza</td>\n",
       "      <td>60000</td>\n",
       "      <td>12</td>\n",
       "      <td>petrol</td>\n",
       "      <td>seat</td>\n",
       "      <td>no</td>\n",
       "      <td>2016-03-19</td>\n",
       "      <td>34537</td>\n",
       "      <td>2016-07-04 04:44:00</td>\n",
       "    </tr>\n",
       "    <tr>\n",
       "      <th>4</th>\n",
       "      <td>2016-03-16 14:51:00</td>\n",
       "      <td>Volvo_XC90_D5_Aut._RDesign_R_Design_AWD_GSHD_S...</td>\n",
       "      <td>private</td>\n",
       "      <td>offer</td>\n",
       "      <td>18750</td>\n",
       "      <td>test</td>\n",
       "      <td>suv</td>\n",
       "      <td>2008</td>\n",
       "      <td>automatic</td>\n",
       "      <td>185</td>\n",
       "      <td>xc_reihe</td>\n",
       "      <td>150000</td>\n",
       "      <td>11</td>\n",
       "      <td>diesel</td>\n",
       "      <td>volvo</td>\n",
       "      <td>no</td>\n",
       "      <td>2016-03-16</td>\n",
       "      <td>55270</td>\n",
       "      <td>2016-01-04 23:18:00</td>\n",
       "    </tr>\n",
       "  </tbody>\n",
       "</table>\n",
       "</div>"
      ],
      "text/plain": [
       "          dateCrawled                                               name  \\\n",
       "0 2016-03-30 13:51:00                                       Zu_verkaufen   \n",
       "1 2016-07-03 09:54:00                             Volvo_XC90_2.4D_Summum   \n",
       "2 2016-01-04 00:57:00                                  Volkswagen_Touran   \n",
       "3 2016-03-19 17:50:00                       Seat_Ibiza_1.4_16V_Reference   \n",
       "4 2016-03-16 14:51:00  Volvo_XC90_D5_Aut._RDesign_R_Design_AWD_GSHD_S...   \n",
       "\n",
       "    seller offerType  price   abtest vehicleType  yearOfRegistration  \\\n",
       "0  private     offer   4450     test   limousine                2003   \n",
       "1  private     offer  13299  control         suv                2005   \n",
       "2  private     offer   3200     test         bus                2003   \n",
       "3  private     offer   4500  control   small car                2006   \n",
       "4  private     offer  18750     test         suv                2008   \n",
       "\n",
       "     gearbox  powerPS     model  kilometer  monthOfRegistration fuelType  \\\n",
       "0     manual      150       3er     150000                    3   diesel   \n",
       "1     manual      163  xc_reihe     150000                    6   diesel   \n",
       "2     manual      101    touran     150000                   11   diesel   \n",
       "3     manual       86     ibiza      60000                   12   petrol   \n",
       "4  automatic      185  xc_reihe     150000                   11   diesel   \n",
       "\n",
       "        brand notRepairedDamage dateCreated  postalCode            lastSeen  \n",
       "0         bmw               NaN  2016-03-30       20257 2016-07-04 04:44:00  \n",
       "1       volvo                no  2016-07-03       88045 2016-03-26 13:17:00  \n",
       "2  volkswagen               NaN  2016-03-31       27449 2016-01-04 08:40:00  \n",
       "3        seat                no  2016-03-19       34537 2016-07-04 04:44:00  \n",
       "4       volvo                no  2016-03-16       55270 2016-01-04 23:18:00  "
      ]
     },
     "execution_count": 3,
     "metadata": {},
     "output_type": "execute_result"
    }
   ],
   "source": [
    "df = pd.read_csv('cars_sampled.csv', sep=',', parse_dates=['dateCrawled', 'dateCreated', 'lastSeen'])\n",
    "df.head()"
   ]
  },
  {
   "cell_type": "markdown",
   "metadata": {},
   "source": [
    "### 2.\tОбработка датасета"
   ]
  },
  {
   "cell_type": "code",
   "execution_count": 4,
   "metadata": {},
   "outputs": [],
   "source": [
    "df.insert(2, 'datecrawled', df['dateCrawled'])\n",
    "df = df.drop(columns='dateCrawled')"
   ]
  },
  {
   "cell_type": "code",
   "execution_count": 5,
   "metadata": {},
   "outputs": [],
   "source": [
    "df.rename(columns={'datecrawled': 'dateCrawled'}, inplace=True)"
   ]
  },
  {
   "cell_type": "code",
   "execution_count": 6,
   "metadata": {},
   "outputs": [
    {
     "data": {
      "text/html": [
       "<div>\n",
       "<style scoped>\n",
       "    .dataframe tbody tr th:only-of-type {\n",
       "        vertical-align: middle;\n",
       "    }\n",
       "\n",
       "    .dataframe tbody tr th {\n",
       "        vertical-align: top;\n",
       "    }\n",
       "\n",
       "    .dataframe thead th {\n",
       "        text-align: right;\n",
       "    }\n",
       "</style>\n",
       "<table border=\"1\" class=\"dataframe\">\n",
       "  <thead>\n",
       "    <tr style=\"text-align: right;\">\n",
       "      <th></th>\n",
       "      <th>name</th>\n",
       "      <th>dateCrawled</th>\n",
       "      <th>seller</th>\n",
       "      <th>offerType</th>\n",
       "      <th>price</th>\n",
       "      <th>abtest</th>\n",
       "      <th>vehicleType</th>\n",
       "      <th>yearOfRegistration</th>\n",
       "      <th>gearbox</th>\n",
       "      <th>powerPS</th>\n",
       "      <th>model</th>\n",
       "      <th>kilometer</th>\n",
       "      <th>monthOfRegistration</th>\n",
       "      <th>fuelType</th>\n",
       "      <th>brand</th>\n",
       "      <th>notRepairedDamage</th>\n",
       "      <th>dateCreated</th>\n",
       "      <th>postalCode</th>\n",
       "      <th>lastSeen</th>\n",
       "    </tr>\n",
       "  </thead>\n",
       "  <tbody>\n",
       "    <tr>\n",
       "      <th>0</th>\n",
       "      <td>Zu_verkaufen</td>\n",
       "      <td>2016-03-30 13:51:00</td>\n",
       "      <td>private</td>\n",
       "      <td>offer</td>\n",
       "      <td>4450</td>\n",
       "      <td>test</td>\n",
       "      <td>limousine</td>\n",
       "      <td>2003</td>\n",
       "      <td>manual</td>\n",
       "      <td>150</td>\n",
       "      <td>3er</td>\n",
       "      <td>150000</td>\n",
       "      <td>3</td>\n",
       "      <td>diesel</td>\n",
       "      <td>bmw</td>\n",
       "      <td>NaN</td>\n",
       "      <td>2016-03-30</td>\n",
       "      <td>20257</td>\n",
       "      <td>2016-07-04 04:44:00</td>\n",
       "    </tr>\n",
       "    <tr>\n",
       "      <th>1</th>\n",
       "      <td>Volvo_XC90_2.4D_Summum</td>\n",
       "      <td>2016-07-03 09:54:00</td>\n",
       "      <td>private</td>\n",
       "      <td>offer</td>\n",
       "      <td>13299</td>\n",
       "      <td>control</td>\n",
       "      <td>suv</td>\n",
       "      <td>2005</td>\n",
       "      <td>manual</td>\n",
       "      <td>163</td>\n",
       "      <td>xc_reihe</td>\n",
       "      <td>150000</td>\n",
       "      <td>6</td>\n",
       "      <td>diesel</td>\n",
       "      <td>volvo</td>\n",
       "      <td>no</td>\n",
       "      <td>2016-07-03</td>\n",
       "      <td>88045</td>\n",
       "      <td>2016-03-26 13:17:00</td>\n",
       "    </tr>\n",
       "    <tr>\n",
       "      <th>2</th>\n",
       "      <td>Volkswagen_Touran</td>\n",
       "      <td>2016-01-04 00:57:00</td>\n",
       "      <td>private</td>\n",
       "      <td>offer</td>\n",
       "      <td>3200</td>\n",
       "      <td>test</td>\n",
       "      <td>bus</td>\n",
       "      <td>2003</td>\n",
       "      <td>manual</td>\n",
       "      <td>101</td>\n",
       "      <td>touran</td>\n",
       "      <td>150000</td>\n",
       "      <td>11</td>\n",
       "      <td>diesel</td>\n",
       "      <td>volkswagen</td>\n",
       "      <td>NaN</td>\n",
       "      <td>2016-03-31</td>\n",
       "      <td>27449</td>\n",
       "      <td>2016-01-04 08:40:00</td>\n",
       "    </tr>\n",
       "    <tr>\n",
       "      <th>3</th>\n",
       "      <td>Seat_Ibiza_1.4_16V_Reference</td>\n",
       "      <td>2016-03-19 17:50:00</td>\n",
       "      <td>private</td>\n",
       "      <td>offer</td>\n",
       "      <td>4500</td>\n",
       "      <td>control</td>\n",
       "      <td>small car</td>\n",
       "      <td>2006</td>\n",
       "      <td>manual</td>\n",
       "      <td>86</td>\n",
       "      <td>ibiza</td>\n",
       "      <td>60000</td>\n",
       "      <td>12</td>\n",
       "      <td>petrol</td>\n",
       "      <td>seat</td>\n",
       "      <td>no</td>\n",
       "      <td>2016-03-19</td>\n",
       "      <td>34537</td>\n",
       "      <td>2016-07-04 04:44:00</td>\n",
       "    </tr>\n",
       "    <tr>\n",
       "      <th>4</th>\n",
       "      <td>Volvo_XC90_D5_Aut._RDesign_R_Design_AWD_GSHD_S...</td>\n",
       "      <td>2016-03-16 14:51:00</td>\n",
       "      <td>private</td>\n",
       "      <td>offer</td>\n",
       "      <td>18750</td>\n",
       "      <td>test</td>\n",
       "      <td>suv</td>\n",
       "      <td>2008</td>\n",
       "      <td>automatic</td>\n",
       "      <td>185</td>\n",
       "      <td>xc_reihe</td>\n",
       "      <td>150000</td>\n",
       "      <td>11</td>\n",
       "      <td>diesel</td>\n",
       "      <td>volvo</td>\n",
       "      <td>no</td>\n",
       "      <td>2016-03-16</td>\n",
       "      <td>55270</td>\n",
       "      <td>2016-01-04 23:18:00</td>\n",
       "    </tr>\n",
       "  </tbody>\n",
       "</table>\n",
       "</div>"
      ],
      "text/plain": [
       "                                                name         dateCrawled  \\\n",
       "0                                       Zu_verkaufen 2016-03-30 13:51:00   \n",
       "1                             Volvo_XC90_2.4D_Summum 2016-07-03 09:54:00   \n",
       "2                                  Volkswagen_Touran 2016-01-04 00:57:00   \n",
       "3                       Seat_Ibiza_1.4_16V_Reference 2016-03-19 17:50:00   \n",
       "4  Volvo_XC90_D5_Aut._RDesign_R_Design_AWD_GSHD_S... 2016-03-16 14:51:00   \n",
       "\n",
       "    seller offerType  price   abtest vehicleType  yearOfRegistration  \\\n",
       "0  private     offer   4450     test   limousine                2003   \n",
       "1  private     offer  13299  control         suv                2005   \n",
       "2  private     offer   3200     test         bus                2003   \n",
       "3  private     offer   4500  control   small car                2006   \n",
       "4  private     offer  18750     test         suv                2008   \n",
       "\n",
       "     gearbox  powerPS     model  kilometer  monthOfRegistration fuelType  \\\n",
       "0     manual      150       3er     150000                    3   diesel   \n",
       "1     manual      163  xc_reihe     150000                    6   diesel   \n",
       "2     manual      101    touran     150000                   11   diesel   \n",
       "3     manual       86     ibiza      60000                   12   petrol   \n",
       "4  automatic      185  xc_reihe     150000                   11   diesel   \n",
       "\n",
       "        brand notRepairedDamage dateCreated  postalCode            lastSeen  \n",
       "0         bmw               NaN  2016-03-30       20257 2016-07-04 04:44:00  \n",
       "1       volvo                no  2016-07-03       88045 2016-03-26 13:17:00  \n",
       "2  volkswagen               NaN  2016-03-31       27449 2016-01-04 08:40:00  \n",
       "3        seat                no  2016-03-19       34537 2016-07-04 04:44:00  \n",
       "4       volvo                no  2016-03-16       55270 2016-01-04 23:18:00  "
      ]
     },
     "execution_count": 6,
     "metadata": {},
     "output_type": "execute_result"
    }
   ],
   "source": [
    "df.head()"
   ]
  },
  {
   "cell_type": "markdown",
   "metadata": {},
   "source": [
    "### 3.\tОписательная статистика: размер, типы переменных, пустые значения"
   ]
  },
  {
   "cell_type": "code",
   "execution_count": 7,
   "metadata": {},
   "outputs": [
    {
     "name": "stdout",
     "output_type": "stream",
     "text": [
      "<class 'pandas.core.frame.DataFrame'>\n",
      "RangeIndex: 50001 entries, 0 to 50000\n",
      "Data columns (total 19 columns):\n",
      " #   Column               Non-Null Count  Dtype         \n",
      "---  ------               --------------  -----         \n",
      " 0   name                 50001 non-null  object        \n",
      " 1   dateCrawled          50001 non-null  datetime64[ns]\n",
      " 2   seller               50001 non-null  object        \n",
      " 3   offerType            50001 non-null  object        \n",
      " 4   price                50001 non-null  int64         \n",
      " 5   abtest               50001 non-null  object        \n",
      " 6   vehicleType          44813 non-null  object        \n",
      " 7   yearOfRegistration   50001 non-null  int64         \n",
      " 8   gearbox              47177 non-null  object        \n",
      " 9   powerPS              50001 non-null  int64         \n",
      " 10  model                47243 non-null  object        \n",
      " 11  kilometer            50001 non-null  int64         \n",
      " 12  monthOfRegistration  50001 non-null  int64         \n",
      " 13  fuelType             45498 non-null  object        \n",
      " 14  brand                50001 non-null  object        \n",
      " 15  notRepairedDamage    40285 non-null  object        \n",
      " 16  dateCreated          50001 non-null  datetime64[ns]\n",
      " 17  postalCode           50001 non-null  int64         \n",
      " 18  lastSeen             50001 non-null  datetime64[ns]\n",
      "dtypes: datetime64[ns](3), int64(6), object(10)\n",
      "memory usage: 7.2+ MB\n"
     ]
    }
   ],
   "source": [
    "df.info()"
   ]
  },
  {
   "cell_type": "code",
   "execution_count": 8,
   "metadata": {},
   "outputs": [
    {
     "name": "stdout",
     "output_type": "stream",
     "text": [
      "Размер датасета: (50001, 19)\n"
     ]
    }
   ],
   "source": [
    "print(f\"Размер датасета: {df.shape}\")"
   ]
  },
  {
   "cell_type": "code",
   "execution_count": 9,
   "metadata": {},
   "outputs": [
    {
     "data": {
      "text/plain": [
       "name                      0\n",
       "dateCrawled               0\n",
       "seller                    0\n",
       "offerType                 0\n",
       "price                     0\n",
       "abtest                    0\n",
       "vehicleType            5188\n",
       "yearOfRegistration        0\n",
       "gearbox                2824\n",
       "powerPS                   0\n",
       "model                  2758\n",
       "kilometer                 0\n",
       "monthOfRegistration       0\n",
       "fuelType               4503\n",
       "brand                     0\n",
       "notRepairedDamage      9716\n",
       "dateCreated               0\n",
       "postalCode                0\n",
       "lastSeen                  0\n",
       "dtype: int64"
      ]
     },
     "execution_count": 9,
     "metadata": {},
     "output_type": "execute_result"
    }
   ],
   "source": [
    "df.isnull().sum()"
   ]
  },
  {
   "cell_type": "code",
   "execution_count": 10,
   "metadata": {},
   "outputs": [
    {
     "data": {
      "text/plain": [
       "name                   [Zu_verkaufen, Volvo_XC90_2.4D_Summum, Volkswa...\n",
       "dateCrawled            [2016-03-30T13:51:00.000000000, 2016-07-03T09:...\n",
       "seller                                             [private, commercial]\n",
       "offerType                                               [offer, request]\n",
       "price                  [4450, 13299, 3200, 4500, 18750, 988, 400, 139...\n",
       "abtest                                                   [test, control]\n",
       "vehicleType            [limousine, suv, bus, small car, station wagon...\n",
       "yearOfRegistration     [2003, 2005, 2006, 2008, 1995, 1996, 1997, 200...\n",
       "gearbox                                         [manual, automatic, nan]\n",
       "powerPS                [150, 163, 101, 86, 185, 90, 0, 136, 122, 140,...\n",
       "model                  [3er, xc_reihe, touran, ibiza, passat, astra, ...\n",
       "kilometer              [150000, 60000, 125000, 5000, 50000, 80000, 90...\n",
       "monthOfRegistration           [3, 6, 11, 12, 2, 5, 4, 1, 9, 0, 10, 8, 7]\n",
       "fuelType               [diesel, petrol, nan, cng, lpg, hybrid, electr...\n",
       "brand                  [bmw, volvo, volkswagen, seat, opel, mercedes_...\n",
       "notRepairedDamage                                         [nan, no, yes]\n",
       "dateCreated            [2016-03-30T00:00:00.000000000, 2016-07-03T00:...\n",
       "postalCode             [20257, 88045, 27449, 34537, 55270, 26826, 564...\n",
       "lastSeen               [2016-07-04T04:44:00.000000000, 2016-03-26T13:...\n",
       "dtype: object"
      ]
     },
     "execution_count": 10,
     "metadata": {},
     "output_type": "execute_result"
    }
   ],
   "source": [
    "pd.Series({i: df[i].unique() for i in df})"
   ]
  },
  {
   "cell_type": "code",
   "execution_count": 11,
   "metadata": {},
   "outputs": [
    {
     "data": {
      "text/html": [
       "<div>\n",
       "<style scoped>\n",
       "    .dataframe tbody tr th:only-of-type {\n",
       "        vertical-align: middle;\n",
       "    }\n",
       "\n",
       "    .dataframe tbody tr th {\n",
       "        vertical-align: top;\n",
       "    }\n",
       "\n",
       "    .dataframe thead th {\n",
       "        text-align: right;\n",
       "    }\n",
       "</style>\n",
       "<table border=\"1\" class=\"dataframe\">\n",
       "  <thead>\n",
       "    <tr style=\"text-align: right;\">\n",
       "      <th></th>\n",
       "      <th>price</th>\n",
       "      <th>yearOfRegistration</th>\n",
       "      <th>powerPS</th>\n",
       "      <th>kilometer</th>\n",
       "      <th>monthOfRegistration</th>\n",
       "      <th>postalCode</th>\n",
       "    </tr>\n",
       "  </thead>\n",
       "  <tbody>\n",
       "    <tr>\n",
       "      <th>count</th>\n",
       "      <td>5.000100e+04</td>\n",
       "      <td>50001.000000</td>\n",
       "      <td>50001.000000</td>\n",
       "      <td>50001.000000</td>\n",
       "      <td>50001.000000</td>\n",
       "      <td>50001.000000</td>\n",
       "    </tr>\n",
       "    <tr>\n",
       "      <th>mean</th>\n",
       "      <td>6.559865e+03</td>\n",
       "      <td>2005.544229</td>\n",
       "      <td>116.496130</td>\n",
       "      <td>125613.687726</td>\n",
       "      <td>5.743725</td>\n",
       "      <td>50775.216696</td>\n",
       "    </tr>\n",
       "    <tr>\n",
       "      <th>std</th>\n",
       "      <td>8.581847e+04</td>\n",
       "      <td>122.991832</td>\n",
       "      <td>230.567709</td>\n",
       "      <td>40205.234483</td>\n",
       "      <td>3.711345</td>\n",
       "      <td>25743.701933</td>\n",
       "    </tr>\n",
       "    <tr>\n",
       "      <th>min</th>\n",
       "      <td>0.000000e+00</td>\n",
       "      <td>1000.000000</td>\n",
       "      <td>0.000000</td>\n",
       "      <td>5000.000000</td>\n",
       "      <td>0.000000</td>\n",
       "      <td>1067.000000</td>\n",
       "    </tr>\n",
       "    <tr>\n",
       "      <th>25%</th>\n",
       "      <td>1.150000e+03</td>\n",
       "      <td>1999.000000</td>\n",
       "      <td>69.000000</td>\n",
       "      <td>125000.000000</td>\n",
       "      <td>3.000000</td>\n",
       "      <td>30559.000000</td>\n",
       "    </tr>\n",
       "    <tr>\n",
       "      <th>50%</th>\n",
       "      <td>2.950000e+03</td>\n",
       "      <td>2003.000000</td>\n",
       "      <td>105.000000</td>\n",
       "      <td>150000.000000</td>\n",
       "      <td>6.000000</td>\n",
       "      <td>49504.000000</td>\n",
       "    </tr>\n",
       "    <tr>\n",
       "      <th>75%</th>\n",
       "      <td>7.190000e+03</td>\n",
       "      <td>2008.000000</td>\n",
       "      <td>150.000000</td>\n",
       "      <td>150000.000000</td>\n",
       "      <td>9.000000</td>\n",
       "      <td>71404.000000</td>\n",
       "    </tr>\n",
       "    <tr>\n",
       "      <th>max</th>\n",
       "      <td>1.234568e+07</td>\n",
       "      <td>9999.000000</td>\n",
       "      <td>19312.000000</td>\n",
       "      <td>150000.000000</td>\n",
       "      <td>12.000000</td>\n",
       "      <td>99998.000000</td>\n",
       "    </tr>\n",
       "  </tbody>\n",
       "</table>\n",
       "</div>"
      ],
      "text/plain": [
       "              price  yearOfRegistration       powerPS      kilometer  \\\n",
       "count  5.000100e+04        50001.000000  50001.000000   50001.000000   \n",
       "mean   6.559865e+03         2005.544229    116.496130  125613.687726   \n",
       "std    8.581847e+04          122.991832    230.567709   40205.234483   \n",
       "min    0.000000e+00         1000.000000      0.000000    5000.000000   \n",
       "25%    1.150000e+03         1999.000000     69.000000  125000.000000   \n",
       "50%    2.950000e+03         2003.000000    105.000000  150000.000000   \n",
       "75%    7.190000e+03         2008.000000    150.000000  150000.000000   \n",
       "max    1.234568e+07         9999.000000  19312.000000  150000.000000   \n",
       "\n",
       "       monthOfRegistration    postalCode  \n",
       "count         50001.000000  50001.000000  \n",
       "mean              5.743725  50775.216696  \n",
       "std               3.711345  25743.701933  \n",
       "min               0.000000   1067.000000  \n",
       "25%               3.000000  30559.000000  \n",
       "50%               6.000000  49504.000000  \n",
       "75%               9.000000  71404.000000  \n",
       "max              12.000000  99998.000000  "
      ]
     },
     "execution_count": 11,
     "metadata": {},
     "output_type": "execute_result"
    }
   ],
   "source": [
    "df.describe()"
   ]
  },
  {
   "cell_type": "markdown",
   "metadata": {},
   "source": [
    "###  4.\tПеревод числовых значений в формат int."
   ]
  },
  {
   "cell_type": "code",
   "execution_count": 12,
   "metadata": {},
   "outputs": [
    {
     "data": {
      "text/plain": [
       "name                           object\n",
       "dateCrawled            datetime64[ns]\n",
       "seller                         object\n",
       "offerType                      object\n",
       "price                           int64\n",
       "abtest                         object\n",
       "vehicleType                    object\n",
       "yearOfRegistration              int64\n",
       "gearbox                        object\n",
       "powerPS                         int64\n",
       "model                          object\n",
       "kilometer                       int64\n",
       "monthOfRegistration             int64\n",
       "fuelType                       object\n",
       "brand                          object\n",
       "notRepairedDamage              object\n",
       "dateCreated            datetime64[ns]\n",
       "postalCode                      int64\n",
       "lastSeen               datetime64[ns]\n",
       "dtype: object"
      ]
     },
     "execution_count": 12,
     "metadata": {},
     "output_type": "execute_result"
    }
   ],
   "source": [
    "df.dtypes"
   ]
  },
  {
   "cell_type": "code",
   "execution_count": 13,
   "metadata": {},
   "outputs": [],
   "source": [
    "df = df.astype({'price': 'int64', 'yearOfRegistration': 'int64', 'powerPS': 'int64', 'monthOfRegistration': 'int64', 'postalCode': 'int64', 'kilometer': 'int64'})"
   ]
  },
  {
   "cell_type": "code",
   "execution_count": 14,
   "metadata": {},
   "outputs": [
    {
     "data": {
      "text/plain": [
       "name                           object\n",
       "dateCrawled            datetime64[ns]\n",
       "seller                         object\n",
       "offerType                      object\n",
       "price                           int64\n",
       "abtest                         object\n",
       "vehicleType                    object\n",
       "yearOfRegistration              int64\n",
       "gearbox                        object\n",
       "powerPS                         int64\n",
       "model                          object\n",
       "kilometer                       int64\n",
       "monthOfRegistration             int64\n",
       "fuelType                       object\n",
       "brand                          object\n",
       "notRepairedDamage              object\n",
       "dateCreated            datetime64[ns]\n",
       "postalCode                      int64\n",
       "lastSeen               datetime64[ns]\n",
       "dtype: object"
      ]
     },
     "execution_count": 14,
     "metadata": {},
     "output_type": "execute_result"
    }
   ],
   "source": [
    "df.dtypes"
   ]
  },
  {
   "cell_type": "markdown",
   "metadata": {},
   "source": [
    "### 5.\tПоработайте со столбцом price. Постройте гистограмму, найдите выбросы (ящиковая диаграмма), удалите аномальные значения, постарайтесь привести к нормальному распределению."
   ]
  },
  {
   "cell_type": "code",
   "execution_count": 15,
   "metadata": {},
   "outputs": [
    {
     "data": {
      "image/png": "[encoded data removed]",
      "text/plain": [
       "<Figure size 576x432 with 1 Axes>"
      ]
     },
     "metadata": {
      "needs_background": "light"
     },
     "output_type": "display_data"
    }
   ],
   "source": [
    "df.price.hist(bins=10)\n",
    "plt.show()"
   ]
  },
  {
   "cell_type": "code",
   "execution_count": 16,
   "metadata": {},
   "outputs": [
    {
     "data": {
      "image/png": "[encoded data removed]",
      "text/plain": [
       "<Figure size 576x432 with 1 Axes>"
      ]
     },
     "metadata": {
      "needs_background": "light"
     },
     "output_type": "display_data"
    }
   ],
   "source": [
    "plt.plot(df['price'])\n",
    "plt.show()"
   ]
  },
  {
   "cell_type": "code",
   "execution_count": 17,
   "metadata": {},
   "outputs": [
    {
     "data": {
      "image/png": "[encoded data removed]",
      "text/plain": [
       "<Figure size 576x432 with 1 Axes>"
      ]
     },
     "metadata": {
      "needs_background": "light"
     },
     "output_type": "display_data"
    }
   ],
   "source": [
    "sns.boxplot(x='price', data=df);"
   ]
  },
  {
   "cell_type": "code",
   "execution_count": 18,
   "metadata": {},
   "outputs": [],
   "source": [
    "quantile_low = df['price'].quantile(0.25)\n",
    "quantile_high = df['price'].quantile(0.75)\n",
    "ddf = df[(df['price'] <= quantile_high) & (df['price'] >= quantile_low)]['price']\n",
    "df.loc[df['price'] > quantile_high,'price'] = ddf.min()+np.random.normal(ddf.mean(), ddf.std()/2, (df['price'] > quantile_high).sum())\n",
    "df.loc[df['price'] < quantile_low,'price'] =  ddf.min()+np.random.normal(ddf.mean(), ddf.std()/2, (df['price'] < quantile_low).sum())"
   ]
  },
  {
   "cell_type": "code",
   "execution_count": 19,
   "metadata": {},
   "outputs": [
    {
     "data": {
      "image/png": "[encoded data removed]",
      "text/plain": [
       "<Figure size 576x432 with 1 Axes>"
      ]
     },
     "metadata": {
      "needs_background": "light"
     },
     "output_type": "display_data"
    }
   ],
   "source": [
    "sns.boxplot(x='price', data=df);"
   ]
  },
  {
   "cell_type": "code",
   "execution_count": 20,
   "metadata": {},
   "outputs": [
    {
     "data": {
      "image/png": "[encoded data removed]",
      "text/plain": [
       "<Figure size 576x432 with 1 Axes>"
      ]
     },
     "metadata": {
      "needs_background": "light"
     },
     "output_type": "display_data"
    }
   ],
   "source": [
    "sns.histplot(x='price', data=df);"
   ]
  },
  {
   "cell_type": "markdown",
   "metadata": {},
   "source": [
    "### 6.\tАналогично поработайте и с другими «важными для целевой функции price» параметрами (powerPS, yearOfRegistration, kilometer и т.д)."
   ]
  },
  {
   "cell_type": "code",
   "execution_count": 21,
   "metadata": {},
   "outputs": [
    {
     "data": {
      "image/png": "[encoded data removed]",
      "text/plain": [
       "<Figure size 576x432 with 2 Axes>"
      ]
     },
     "metadata": {
      "needs_background": "light"
     },
     "output_type": "display_data"
    }
   ],
   "source": [
    "sns.heatmap(df.corr());"
   ]
  },
  {
   "cell_type": "markdown",
   "metadata": {},
   "source": [
    "#### PowerPS"
   ]
  },
  {
   "cell_type": "code",
   "execution_count": 22,
   "metadata": {},
   "outputs": [
    {
     "data": {
      "image/png": "[encoded data removed]",
      "text/plain": [
       "<Figure size 576x432 with 1 Axes>"
      ]
     },
     "metadata": {
      "needs_background": "light"
     },
     "output_type": "display_data"
    }
   ],
   "source": [
    "df.powerPS.hist(bins=10)\n",
    "plt.show()"
   ]
  },
  {
   "cell_type": "code",
   "execution_count": 23,
   "metadata": {},
   "outputs": [
    {
     "data": {
      "image/png": "[encoded data removed]",
      "text/plain": [
       "<Figure size 576x432 with 1 Axes>"
      ]
     },
     "metadata": {
      "needs_background": "light"
     },
     "output_type": "display_data"
    }
   ],
   "source": [
    "plt.plot(df['powerPS'])\n",
    "plt.show()"
   ]
  },
  {
   "cell_type": "code",
   "execution_count": 24,
   "metadata": {},
   "outputs": [
    {
     "data": {
      "image/png": "[encoded data removed]",
      "text/plain": [
       "<Figure size 576x432 with 1 Axes>"
      ]
     },
     "metadata": {
      "needs_background": "light"
     },
     "output_type": "display_data"
    }
   ],
   "source": [
    "sns.boxplot(x='powerPS', data=df);"
   ]
  },
  {
   "cell_type": "code",
   "execution_count": 25,
   "metadata": {},
   "outputs": [],
   "source": [
    "quantile_low = df['powerPS'].quantile(0.25)\n",
    "quantile_high = df['powerPS'].quantile(0.75)\n",
    "ddf = df[(df['powerPS'] <= quantile_high) & (df['powerPS'] >= quantile_low)]['powerPS']\n",
    "df.loc[df['powerPS'] > quantile_high,'powerPS'] = np.random.normal(ddf.mean(), ddf.std()/2, (df['powerPS'] > quantile_high).sum())\n",
    "df.loc[df['powerPS'] < quantile_low,'powerPS'] =  np.random.normal(ddf.mean(), ddf.std()/2, (df['powerPS'] < quantile_low).sum())"
   ]
  },
  {
   "cell_type": "code",
   "execution_count": 26,
   "metadata": {},
   "outputs": [
    {
     "data": {
      "image/png": "[encoded data removed]",
      "text/plain": [
       "<Figure size 576x432 with 1 Axes>"
      ]
     },
     "metadata": {
      "needs_background": "light"
     },
     "output_type": "display_data"
    }
   ],
   "source": [
    "sns.boxplot(x='powerPS', data=df);"
   ]
  },
  {
   "cell_type": "code",
   "execution_count": 27,
   "metadata": {},
   "outputs": [
    {
     "data": {
      "image/png": "[encoded data removed]",
      "text/plain": [
       "<Figure size 576x432 with 1 Axes>"
      ]
     },
     "metadata": {
      "needs_background": "light"
     },
     "output_type": "display_data"
    }
   ],
   "source": [
    "sns.histplot(x='powerPS', data=df)\n",
    "plt.show()"
   ]
  },
  {
   "cell_type": "markdown",
   "metadata": {},
   "source": [
    "#### YearOfRegistration"
   ]
  },
  {
   "cell_type": "code",
   "execution_count": 28,
   "metadata": {},
   "outputs": [
    {
     "data": {
      "image/png": "[encoded data removed]",
      "text/plain": [
       "<Figure size 576x432 with 1 Axes>"
      ]
     },
     "metadata": {
      "needs_background": "light"
     },
     "output_type": "display_data"
    }
   ],
   "source": [
    "df.yearOfRegistration.hist(bins=10)\n",
    "plt.show()"
   ]
  },
  {
   "cell_type": "code",
   "execution_count": 29,
   "metadata": {},
   "outputs": [
    {
     "data": {
      "image/png": "[encoded data removed]",
      "text/plain": [
       "<Figure size 576x432 with 1 Axes>"
      ]
     },
     "metadata": {
      "needs_background": "light"
     },
     "output_type": "display_data"
    }
   ],
   "source": [
    "plt.plot(df['yearOfRegistration'])\n",
    "plt.show()"
   ]
  },
  {
   "cell_type": "code",
   "execution_count": 30,
   "metadata": {},
   "outputs": [
    {
     "data": {
      "image/png": "[encoded data removed]",
      "text/plain": [
       "<Figure size 576x432 with 1 Axes>"
      ]
     },
     "metadata": {
      "needs_background": "light"
     },
     "output_type": "display_data"
    }
   ],
   "source": [
    "sns.boxplot(x='yearOfRegistration', data=df);"
   ]
  },
  {
   "cell_type": "code",
   "execution_count": 31,
   "metadata": {},
   "outputs": [
    {
     "data": {
      "text/plain": [
       "array([1000, 1255, 1500, 1910, 1928, 1929, 1933, 1934, 1936, 1938, 1940,\n",
       "       1941, 1943, 1945, 1947, 1950, 1951, 1952, 1953, 1954, 1955, 1956,\n",
       "       1957, 1958, 1959, 1960, 1961, 1962, 1963, 1964, 1965, 1966, 1967,\n",
       "       1968, 1969, 1970, 1971, 1972, 1973, 1974, 1975, 1976, 1977, 1978,\n",
       "       1979, 1980, 1981, 1982, 1983, 1984, 1985, 1986, 1987, 1988, 1989,\n",
       "       1990, 1991, 1992, 1993, 1994, 1995, 1996, 1997, 1998, 1999, 2000,\n",
       "       2001, 2002, 2003, 2004, 2005, 2006, 2007, 2008, 2009, 2010, 2011,\n",
       "       2012, 2013, 2014, 2015, 2016, 2017, 2018, 2019, 2222, 2900, 3000,\n",
       "       3500, 3800, 5000, 6000, 7500, 7800, 8500, 8888, 9999], dtype=int64)"
      ]
     },
     "execution_count": 31,
     "metadata": {},
     "output_type": "execute_result"
    }
   ],
   "source": [
    "df['yearOfRegistration'].sort_values().unique()"
   ]
  },
  {
   "cell_type": "code",
   "execution_count": 32,
   "metadata": {},
   "outputs": [],
   "source": [
    "ddf = df[(df['yearOfRegistration'] <= 2022) & (df['yearOfRegistration'] >= 1928)]['yearOfRegistration']\n",
    "df.loc[df['yearOfRegistration'] > 2022,'yearOfRegistration'] = ddf.median()\n",
    "df.loc[df['yearOfRegistration'] < 1928,'yearOfRegistration'] = ddf.median()"
   ]
  },
  {
   "cell_type": "code",
   "execution_count": 33,
   "metadata": {},
   "outputs": [
    {
     "data": {
      "image/png": "[encoded data removed]",
      "text/plain": [
       "<Figure size 576x432 with 1 Axes>"
      ]
     },
     "metadata": {
      "needs_background": "light"
     },
     "output_type": "display_data"
    }
   ],
   "source": [
    "sns.boxplot(x='yearOfRegistration', data=df);"
   ]
  },
  {
   "cell_type": "code",
   "execution_count": 34,
   "metadata": {},
   "outputs": [
    {
     "data": {
      "image/png": "[encoded data removed]",
      "text/plain": [
       "<Figure size 576x432 with 1 Axes>"
      ]
     },
     "metadata": {
      "needs_background": "light"
     },
     "output_type": "display_data"
    }
   ],
   "source": [
    "sns.histplot(x='yearOfRegistration', data=df)\n",
    "plt.show()"
   ]
  },
  {
   "cell_type": "markdown",
   "metadata": {},
   "source": [
    "#### MonthOfRegistration"
   ]
  },
  {
   "cell_type": "code",
   "execution_count": 35,
   "metadata": {},
   "outputs": [
    {
     "data": {
      "image/png": "[encoded data removed]",
      "text/plain": [
       "<Figure size 576x432 with 1 Axes>"
      ]
     },
     "metadata": {
      "needs_background": "light"
     },
     "output_type": "display_data"
    }
   ],
   "source": [
    "df.monthOfRegistration.hist(bins=10)\n",
    "plt.show()"
   ]
  },
  {
   "cell_type": "code",
   "execution_count": 36,
   "metadata": {},
   "outputs": [
    {
     "data": {
      "image/png": "[encoded data removed]",
      "text/plain": [
       "<Figure size 576x432 with 1 Axes>"
      ]
     },
     "metadata": {
      "needs_background": "light"
     },
     "output_type": "display_data"
    }
   ],
   "source": [
    "sns.boxplot(x='monthOfRegistration', data=df);"
   ]
  },
  {
   "cell_type": "code",
   "execution_count": 37,
   "metadata": {},
   "outputs": [
    {
     "data": {
      "text/plain": [
       "array([ 0,  1,  2,  3,  4,  5,  6,  7,  8,  9, 10, 11, 12], dtype=int64)"
      ]
     },
     "execution_count": 37,
     "metadata": {},
     "output_type": "execute_result"
    }
   ],
   "source": [
    "df['monthOfRegistration'].sort_values().unique()"
   ]
  },
  {
   "cell_type": "code",
   "execution_count": 38,
   "metadata": {},
   "outputs": [],
   "source": [
    "df.loc[df['monthOfRegistration' ]== 0, 'monthOfRegistration'] = np.random.randint(1, 13)"
   ]
  },
  {
   "cell_type": "code",
   "execution_count": 39,
   "metadata": {},
   "outputs": [
    {
     "data": {
      "image/png": "[encoded data removed]",
      "text/plain": [
       "<Figure size 576x432 with 1 Axes>"
      ]
     },
     "metadata": {
      "needs_background": "light"
     },
     "output_type": "display_data"
    }
   ],
   "source": [
    "sns.boxplot(x='monthOfRegistration', data=df);"
   ]
  },
  {
   "cell_type": "code",
   "execution_count": 40,
   "metadata": {},
   "outputs": [
    {
     "data": {
      "image/png": "[encoded data removed]",
      "text/plain": [
       "<Figure size 576x432 with 1 Axes>"
      ]
     },
     "metadata": {
      "needs_background": "light"
     },
     "output_type": "display_data"
    }
   ],
   "source": [
    "sns.histplot(x='monthOfRegistration', data=df)\n",
    "plt.show()"
   ]
  },
  {
   "cell_type": "markdown",
   "metadata": {},
   "source": [
    "#### Kilometer"
   ]
  },
  {
   "cell_type": "code",
   "execution_count": 41,
   "metadata": {},
   "outputs": [
    {
     "data": {
      "image/png": "[encoded data removed]",
      "text/plain": [
       "<Figure size 576x432 with 1 Axes>"
      ]
     },
     "metadata": {
      "needs_background": "light"
     },
     "output_type": "display_data"
    }
   ],
   "source": [
    "df.kilometer.hist(bins=10)\n",
    "plt.show()"
   ]
  },
  {
   "cell_type": "code",
   "execution_count": 42,
   "metadata": {},
   "outputs": [
    {
     "data": {
      "image/png": "[encoded data removed]",
      "text/plain": [
       "<Figure size 576x432 with 1 Axes>"
      ]
     },
     "metadata": {
      "needs_background": "light"
     },
     "output_type": "display_data"
    }
   ],
   "source": [
    "sns.boxplot(x='kilometer', data=df);"
   ]
  },
  {
   "cell_type": "code",
   "execution_count": 43,
   "metadata": {},
   "outputs": [
    {
     "data": {
      "text/plain": [
       "array([  5000,  10000,  20000,  30000,  40000,  50000,  60000,  70000,\n",
       "        80000,  90000, 100000, 125000, 150000], dtype=int64)"
      ]
     },
     "execution_count": 43,
     "metadata": {},
     "output_type": "execute_result"
    }
   ],
   "source": [
    "df['kilometer'].sort_values().unique()"
   ]
  },
  {
   "cell_type": "markdown",
   "metadata": {},
   "source": [
    "#### PostalCode"
   ]
  },
  {
   "cell_type": "code",
   "execution_count": 44,
   "metadata": {},
   "outputs": [
    {
     "data": {
      "image/png": "[encoded data removed]",
      "text/plain": [
       "<Figure size 576x432 with 1 Axes>"
      ]
     },
     "metadata": {
      "needs_background": "light"
     },
     "output_type": "display_data"
    }
   ],
   "source": [
    "df.postalCode.hist(bins=10)\n",
    "plt.show()"
   ]
  },
  {
   "cell_type": "code",
   "execution_count": 45,
   "metadata": {},
   "outputs": [
    {
     "data": {
      "image/png": "[encoded data removed]",
      "text/plain": [
       "<Figure size 576x432 with 1 Axes>"
      ]
     },
     "metadata": {
      "needs_background": "light"
     },
     "output_type": "display_data"
    }
   ],
   "source": [
    "sns.boxplot(x='postalCode', data=df);"
   ]
  },
  {
   "cell_type": "code",
   "execution_count": 105,
   "metadata": {},
   "outputs": [],
   "source": [
    "df = df.astype({'price': 'int64', 'yearOfRegistration': 'int64', 'powerPS': 'int64', 'monthOfRegistration': 'int64', 'postalCode': 'int64', 'kilometer': 'int64'})"
   ]
  },
  {
   "cell_type": "markdown",
   "metadata": {},
   "source": [
    "### 7.\tПостройте ящиковые диаграммы зависимости gearbox, fuelType, vehicleType, notRepairedDamage от price."
   ]
  },
  {
   "cell_type": "code",
   "execution_count": 102,
   "metadata": {},
   "outputs": [
    {
     "data": {
      "image/png": "[encoded data removed]",
      "text/plain": [
       "<Figure size 864x2160 with 4 Axes>"
      ]
     },
     "metadata": {
      "needs_background": "light"
     },
     "output_type": "display_data"
    }
   ],
   "source": [
    "sns.boxplot(x='gearbox', y='price', data=df);\n",
    "plt.rcParams['figure.figsize'] = (10,30)\n",
    "for i, col in enumerate(['gearbox', 'fuelType', 'vehicleType', 'notRepairedDamage']):\n",
    "    plt.subplot(12, 2, i+1)\n",
    "    sns.boxplot(x=col, y='price', data=df);\n",
    "    plt.title(col)"
   ]
  },
  {
   "cell_type": "markdown",
   "metadata": {},
   "source": [
    "Значения с малой частотой убирать нельзя, так как в этом случае достоверность предсказания будет низка"
   ]
  },
  {
   "cell_type": "markdown",
   "metadata": {},
   "source": [
    "### 8.\tНайдите пропуски. Удалите столбцы, которые содержат большое количество пропусков. В остальных случаях постарайтесь восстановить пропущенные значения."
   ]
  },
  {
   "cell_type": "code",
   "execution_count": 47,
   "metadata": {},
   "outputs": [
    {
     "data": {
      "text/plain": [
       "name                      0\n",
       "dateCrawled               0\n",
       "seller                    0\n",
       "offerType                 0\n",
       "price                     0\n",
       "abtest                    0\n",
       "vehicleType            5188\n",
       "yearOfRegistration        0\n",
       "gearbox                2824\n",
       "powerPS                   0\n",
       "model                  2758\n",
       "kilometer                 0\n",
       "monthOfRegistration       0\n",
       "fuelType               4503\n",
       "brand                     0\n",
       "notRepairedDamage      9716\n",
       "dateCreated               0\n",
       "postalCode                0\n",
       "lastSeen                  0\n",
       "dtype: int64"
      ]
     },
     "execution_count": 47,
     "metadata": {},
     "output_type": "execute_result"
    }
   ],
   "source": [
    "df.isnull().sum()"
   ]
  },
  {
   "cell_type": "code",
   "execution_count": 48,
   "metadata": {},
   "outputs": [],
   "source": [
    "df.loc[df['vehicleType'].isna(), 'vehicleType'] = 'others'\n",
    "df.loc[df['gearbox'].isna(), 'gearbox'] = np.random.choice(['manual', 'automatic'])\n",
    "df.loc[df['fuelType'].isna(), 'fuelType'] = 'other'\n",
    "df.loc[df['notRepairedDamage'].isna(), 'notRepairedDamage'] = np.random.choice(['no', 'yes'])\n",
    "df.loc[df['model'].isna(), 'model'] = 'others'"
   ]
  },
  {
   "cell_type": "code",
   "execution_count": 49,
   "metadata": {},
   "outputs": [
    {
     "data": {
      "text/plain": [
       "name                   0\n",
       "dateCrawled            0\n",
       "seller                 0\n",
       "offerType              0\n",
       "price                  0\n",
       "abtest                 0\n",
       "vehicleType            0\n",
       "yearOfRegistration     0\n",
       "gearbox                0\n",
       "powerPS                0\n",
       "model                  0\n",
       "kilometer              0\n",
       "monthOfRegistration    0\n",
       "fuelType               0\n",
       "brand                  0\n",
       "notRepairedDamage      0\n",
       "dateCreated            0\n",
       "postalCode             0\n",
       "lastSeen               0\n",
       "dtype: int64"
      ]
     },
     "execution_count": 49,
     "metadata": {},
     "output_type": "execute_result"
    }
   ],
   "source": [
    "df.isnull().sum()"
   ]
  },
  {
   "cell_type": "markdown",
   "metadata": {},
   "source": [
    "### 9.\tСохраните полученный датасет и выведете его."
   ]
  },
  {
   "cell_type": "code",
   "execution_count": 107,
   "metadata": {},
   "outputs": [],
   "source": [
    "df.to_csv('cars_result.csv', header=True, index=False)"
   ]
  },
  {
   "cell_type": "code",
   "execution_count": 108,
   "metadata": {},
   "outputs": [
    {
     "data": {
      "text/html": [
       "<div>\n",
       "<style scoped>\n",
       "    .dataframe tbody tr th:only-of-type {\n",
       "        vertical-align: middle;\n",
       "    }\n",
       "\n",
       "    .dataframe tbody tr th {\n",
       "        vertical-align: top;\n",
       "    }\n",
       "\n",
       "    .dataframe thead th {\n",
       "        text-align: right;\n",
       "    }\n",
       "</style>\n",
       "<table border=\"1\" class=\"dataframe\">\n",
       "  <thead>\n",
       "    <tr style=\"text-align: right;\">\n",
       "      <th></th>\n",
       "      <th>name</th>\n",
       "      <th>dateCrawled</th>\n",
       "      <th>seller</th>\n",
       "      <th>offerType</th>\n",
       "      <th>price</th>\n",
       "      <th>abtest</th>\n",
       "      <th>vehicleType</th>\n",
       "      <th>yearOfRegistration</th>\n",
       "      <th>gearbox</th>\n",
       "      <th>powerPS</th>\n",
       "      <th>model</th>\n",
       "      <th>kilometer</th>\n",
       "      <th>monthOfRegistration</th>\n",
       "      <th>fuelType</th>\n",
       "      <th>brand</th>\n",
       "      <th>notRepairedDamage</th>\n",
       "      <th>dateCreated</th>\n",
       "      <th>postalCode</th>\n",
       "      <th>lastSeen</th>\n",
       "    </tr>\n",
       "  </thead>\n",
       "  <tbody>\n",
       "    <tr>\n",
       "      <th>0</th>\n",
       "      <td>Zu_verkaufen</td>\n",
       "      <td>2016-03-30 13:51:00</td>\n",
       "      <td>private</td>\n",
       "      <td>offer</td>\n",
       "      <td>4450</td>\n",
       "      <td>test</td>\n",
       "      <td>limousine</td>\n",
       "      <td>2003</td>\n",
       "      <td>manual</td>\n",
       "      <td>150</td>\n",
       "      <td>3er</td>\n",
       "      <td>150000</td>\n",
       "      <td>3</td>\n",
       "      <td>diesel</td>\n",
       "      <td>bmw</td>\n",
       "      <td>yes</td>\n",
       "      <td>2016-03-30</td>\n",
       "      <td>20257</td>\n",
       "      <td>2016-07-04 04:44:00</td>\n",
       "    </tr>\n",
       "    <tr>\n",
       "      <th>1</th>\n",
       "      <td>Volvo_XC90_2.4D_Summum</td>\n",
       "      <td>2016-07-03 09:54:00</td>\n",
       "      <td>private</td>\n",
       "      <td>offer</td>\n",
       "      <td>4364</td>\n",
       "      <td>control</td>\n",
       "      <td>suv</td>\n",
       "      <td>2005</td>\n",
       "      <td>manual</td>\n",
       "      <td>99</td>\n",
       "      <td>xc_reihe</td>\n",
       "      <td>150000</td>\n",
       "      <td>6</td>\n",
       "      <td>diesel</td>\n",
       "      <td>volvo</td>\n",
       "      <td>no</td>\n",
       "      <td>2016-07-03</td>\n",
       "      <td>88045</td>\n",
       "      <td>2016-03-26 13:17:00</td>\n",
       "    </tr>\n",
       "    <tr>\n",
       "      <th>2</th>\n",
       "      <td>Volkswagen_Touran</td>\n",
       "      <td>2016-01-04 00:57:00</td>\n",
       "      <td>private</td>\n",
       "      <td>offer</td>\n",
       "      <td>3200</td>\n",
       "      <td>test</td>\n",
       "      <td>bus</td>\n",
       "      <td>2003</td>\n",
       "      <td>manual</td>\n",
       "      <td>101</td>\n",
       "      <td>touran</td>\n",
       "      <td>150000</td>\n",
       "      <td>11</td>\n",
       "      <td>diesel</td>\n",
       "      <td>volkswagen</td>\n",
       "      <td>yes</td>\n",
       "      <td>2016-03-31</td>\n",
       "      <td>27449</td>\n",
       "      <td>2016-01-04 08:40:00</td>\n",
       "    </tr>\n",
       "    <tr>\n",
       "      <th>3</th>\n",
       "      <td>Seat_Ibiza_1.4_16V_Reference</td>\n",
       "      <td>2016-03-19 17:50:00</td>\n",
       "      <td>private</td>\n",
       "      <td>offer</td>\n",
       "      <td>4500</td>\n",
       "      <td>control</td>\n",
       "      <td>small car</td>\n",
       "      <td>2006</td>\n",
       "      <td>manual</td>\n",
       "      <td>86</td>\n",
       "      <td>ibiza</td>\n",
       "      <td>60000</td>\n",
       "      <td>12</td>\n",
       "      <td>petrol</td>\n",
       "      <td>seat</td>\n",
       "      <td>no</td>\n",
       "      <td>2016-03-19</td>\n",
       "      <td>34537</td>\n",
       "      <td>2016-07-04 04:44:00</td>\n",
       "    </tr>\n",
       "    <tr>\n",
       "      <th>4</th>\n",
       "      <td>Volvo_XC90_D5_Aut._RDesign_R_Design_AWD_GSHD_S...</td>\n",
       "      <td>2016-03-16 14:51:00</td>\n",
       "      <td>private</td>\n",
       "      <td>offer</td>\n",
       "      <td>4525</td>\n",
       "      <td>test</td>\n",
       "      <td>suv</td>\n",
       "      <td>2008</td>\n",
       "      <td>automatic</td>\n",
       "      <td>94</td>\n",
       "      <td>xc_reihe</td>\n",
       "      <td>150000</td>\n",
       "      <td>11</td>\n",
       "      <td>diesel</td>\n",
       "      <td>volvo</td>\n",
       "      <td>no</td>\n",
       "      <td>2016-03-16</td>\n",
       "      <td>55270</td>\n",
       "      <td>2016-01-04 23:18:00</td>\n",
       "    </tr>\n",
       "  </tbody>\n",
       "</table>\n",
       "</div>"
      ],
      "text/plain": [
       "                                                name         dateCrawled  \\\n",
       "0                                       Zu_verkaufen 2016-03-30 13:51:00   \n",
       "1                             Volvo_XC90_2.4D_Summum 2016-07-03 09:54:00   \n",
       "2                                  Volkswagen_Touran 2016-01-04 00:57:00   \n",
       "3                       Seat_Ibiza_1.4_16V_Reference 2016-03-19 17:50:00   \n",
       "4  Volvo_XC90_D5_Aut._RDesign_R_Design_AWD_GSHD_S... 2016-03-16 14:51:00   \n",
       "\n",
       "    seller offerType  price   abtest vehicleType  yearOfRegistration  \\\n",
       "0  private     offer   4450     test   limousine                2003   \n",
       "1  private     offer   4364  control         suv                2005   \n",
       "2  private     offer   3200     test         bus                2003   \n",
       "3  private     offer   4500  control   small car                2006   \n",
       "4  private     offer   4525     test         suv                2008   \n",
       "\n",
       "     gearbox  powerPS     model  kilometer  monthOfRegistration fuelType  \\\n",
       "0     manual      150       3er     150000                    3   diesel   \n",
       "1     manual       99  xc_reihe     150000                    6   diesel   \n",
       "2     manual      101    touran     150000                   11   diesel   \n",
       "3     manual       86     ibiza      60000                   12   petrol   \n",
       "4  automatic       94  xc_reihe     150000                   11   diesel   \n",
       "\n",
       "        brand notRepairedDamage dateCreated  postalCode            lastSeen  \n",
       "0         bmw               yes  2016-03-30       20257 2016-07-04 04:44:00  \n",
       "1       volvo                no  2016-07-03       88045 2016-03-26 13:17:00  \n",
       "2  volkswagen               yes  2016-03-31       27449 2016-01-04 08:40:00  \n",
       "3        seat                no  2016-03-19       34537 2016-07-04 04:44:00  \n",
       "4       volvo                no  2016-03-16       55270 2016-01-04 23:18:00  "
      ]
     },
     "execution_count": 108,
     "metadata": {},
     "output_type": "execute_result"
    }
   ],
   "source": [
    "df.head()"
   ]
  }
 ],
 "metadata": {
  "interpreter": {
   "hash": "ad2bdc8ecc057115af97d19610ffacc2b4e99fae6737bb82f5d7fb13d2f2c186"
  },
  "kernelspec": {
   "display_name": "Python 3.8.8 ('base')",
   "language": "python",
   "name": "python3"
  },
  "language_info": {
   "codemirror_mode": {
    "name": "ipython",
    "version": 3
   },
   "file_extension": ".py",
   "mimetype": "text/x-python",
   "name": "python",
   "nbconvert_exporter": "python",
   "pygments_lexer": "ipython3",
   "version": "3.8.8"
  },
  "orig_nbformat": 4
 },
 "nbformat": 4,
 "nbformat_minor": 2
}
