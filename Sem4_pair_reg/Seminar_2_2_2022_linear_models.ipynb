{
 "cells": [
  {
   "cell_type": "markdown",
   "metadata": {
    "colab_type": "text",
    "id": "sEkVD5qHpP89"
   },
   "source": [
    "---"
   ]
  },
  {
   "cell_type": "markdown",
   "metadata": {
    "colab_type": "text",
    "id": "Wj5MrpmRpP89"
   },
   "source": [
    "<h3 style=\"text-align: center;\"><b> Градиентный спуск. Линейные модели.</b></h3>"
   ]
  },
  {
   "cell_type": "markdown",
   "metadata": {
    "colab_type": "text",
    "id": "mTi8pD-2LM3r"
   },
   "source": [
    "В этом ноутбуке мы попробуем реализовать свой градиентный спуск на основе модели линейной регрессии."
   ]
  },
  {
   "cell_type": "code",
   "execution_count": 33,
   "metadata": {
    "colab": {},
    "colab_type": "code",
    "id": "0Fu3DXZ01RLE"
   },
   "outputs": [],
   "source": [
    "import numpy as np\n",
    "import pandas as pd\n",
    "from sklearn import datasets, linear_model\n",
    "import scipy.linalg as sla\n",
    "import matplotlib.pyplot as plt\n",
    "%matplotlib inline"
   ]
  },
  {
   "cell_type": "markdown",
   "metadata": {
    "colab_type": "text",
    "id": "q4pKjcf4SQEF"
   },
   "source": [
    "### Построение модели"
   ]
  },
  {
   "cell_type": "markdown",
   "metadata": {
    "colab_type": "text",
    "id": "Ao0ab4nESQEH"
   },
   "source": [
    "Модель нашей линейной регрессии:"
   ]
  },
  {
   "cell_type": "code",
   "execution_count": 34,
   "metadata": {
    "colab": {},
    "colab_type": "code",
    "id": "APZu5Ra7xn6s"
   },
   "outputs": [],
   "source": [
    "# в этих переменных будут лежать веса, которые мы оценим\n",
    "# W - веса модели, на которые умножаются признаки\n",
    "W = None\n",
    "# b - bias, который добавляется к итоговому результату\n",
    "b = None\n",
    "\n",
    "def mse(preds, y):\n",
    "    \"\"\"\n",
    "    Возвращает среднеквадратичную ошибку между preds и y.\n",
    "    \"\"\"\n",
    "    return ((preds - y)**2).mean()\n",
    "\n",
    "def solve_weights(X, y):\n",
    "    \"\"\"\n",
    "    Находит параметры W,b по методу наименьших квадратов для X и y.\n",
    "    Решает систему линейных уравнений, к которым приводит метод наименьших \n",
    "    квадратов, для признаков X и значений y.\n",
    "    \"\"\"\n",
    "    # ключевое слово global позволяет нам использовать глобальные переменные,\n",
    "    # определенные в начале ячейки\n",
    "    global W, b\n",
    "    \n",
    "    \n",
    "    N = X.shape[0]\n",
    "    # добавляем к признакам фиктивную размерность, чтобы было удобнее находить bias\n",
    "    bias = np.ones((N, 1))\n",
    "    X_b = np.append(bias, X, axis=1)\n",
    "    \n",
    "    # используем формулу из метода наименьших квадратов\n",
    "    # W_full сожержит коэффициенты W и b, так как мы добавили фиктивную размерность к признакам\n",
    "    W_full = np.linalg.inv(X_b.T @ X_b) @ X_b.T @ y\n",
    "    \n",
    "    # мы разделяем bias, который лежал в начале вектора W_full, и веса модели W\n",
    "    W = W_full[1:]\n",
    "    b = np.array([W_full[0]])\n",
    "    # нам не нужно возвращать W и b, так как они уже лежат в глобальных переменных\n",
    "    \n",
    "def grad_descent(X, y, lr, num_iter=100):\n",
    "    \"\"\"\n",
    "    Находит приближенные значения параметров модели, используя градиентный спуск.\n",
    "    Функции потерь (ошибки) для данной реализации спуска - сумма квадратов ошибки.\n",
    "    Возвращаемое значение - список значений ффункции потерь на каждом шаге.\n",
    "    \"\"\"\n",
    "    # ключевое слово global позволяет нам использовать глобальные переменные,\n",
    "    # определенные в начале ячейки\n",
    "    global W, b\n",
    "    W = np.random.rand(X.shape[1])\n",
    "    b = np.array(np.random.rand(1))\n",
    "    \n",
    "    losses = []\n",
    "    \n",
    "    N = X.shape[0]\n",
    "    for iter_num in range(num_iter):\n",
    "        preds = predict(X)\n",
    "        losses.append(mse(preds, y))\n",
    "        \n",
    "        w_grad = np.zeros_like(W)\n",
    "        b_grad = 0\n",
    "        for sample, prediction, label in zip(X, preds, y):\n",
    "            w_grad += 2 * (prediction - label) * sample\n",
    "            b_grad += 2 * (prediction - label)\n",
    "            \n",
    "        W -= lr * w_grad\n",
    "        b -= lr * b_grad\n",
    "    return losses\n",
    "\n",
    "def predict(X):\n",
    "    \"\"\"\n",
    "    Предсказывает значения y, используя текущие параметры модели W и b\n",
    "    \"\"\"\n",
    "    global W, b\n",
    "    return np.squeeze(X@W + b.reshape(-1, 1))"
   ]
  },
  {
   "cell_type": "markdown",
   "metadata": {
    "colab_type": "text",
    "id": "xWtYzIacBLwi"
   },
   "source": [
    "Подробнее рассмотрим формулы, которые используются в градиентном спуске.\n",
    "Наша функция потерь \n",
    "$$L(\\hat{y}) = \\sum_{i = 1}^{N}( \\hat{y}_{i} - y_{i} )^{2}$$\n",
    "Найдем производную:\n",
    "$$\\frac{dL(\\hat{y})}{d\\hat{y}} = \\sum_{i = 1}^{N}2(\\hat{y}_{i} - y_{i} )$$\n",
    "Где $\\hat{y}$ это вектор предсказаний, а $y$ - вектор значений. Если у нас есть только два признака, то по определению нашей модели:\n",
    "$$\\hat{y}_{i} = W_1 * x_{i1} + W_2 * x_{i2} + b$$\n",
    "\n",
    "Подставим в формулу для функции потерь и возьмём производную:\n",
    "$$\\frac{\\partial L(\\hat{y})}{ \\partial W_1} = \\sum_{i = 1}^{N} \\frac{\\partial (( \\hat{y}_{i} - y_{i} )^{2})}{\\partial \\hat{y_i}} \\times \\frac{\\partial \\hat{y_i}}{\\partial W_1}  =  \n",
    "\\sum_{i = 1}^{N} 2 (\\hat{y_i} - y) \\times x_{i1} $$\n",
    "\n",
    "\n",
    "В формуле есть суммирование по всем строчкам $X$ ($x_i$ это $i$-ая строчка X, в которой хранятся признаки для $i$-го наблюдения), в коде ему соответствует внешний цикл, итерирующийся по всем наблюдениям. Внутренний цикл нужен для получения производных по всем весам $W_i$, которых в общем случае может быть произвольное количество.\n",
    "\n",
    "\n",
    "В итоге выполнения кода \n",
    "$$w\\_grad = (\\frac{\\partial L(\\hat{y})}{\\partial W_1} , \\frac{\\partial L(\\hat{y})}{\\partial W_2}, \\frac{\\partial L(\\hat{y})}{\\partial W_3} ,...) = \\nabla L$$ \n",
    "\n",
    "Для обновления весов мы вычитаем градиент, передвигаясь в направлении скорейшего убывания функции.\n",
    "$$W = W - lr \\cdot \\nabla L$$"
   ]
  },
  {
   "cell_type": "markdown",
   "metadata": {
    "colab_type": "text",
    "id": "bxys5OMESQEN"
   },
   "source": [
    "### Получение данных"
   ]
  },
  {
   "cell_type": "code",
   "execution_count": 35,
   "metadata": {
    "colab": {},
    "colab_type": "code",
    "id": "GvGNqv-QhFCq"
   },
   "outputs": [],
   "source": [
    "def generate_data(range_, a, b, std, num_points=100):\n",
    "    \"\"\"Генерирует данные в заданном промежутке, которые подчиняются зависимости y = a*x + b + е,\n",
    "    где е - нормально распределено со стандартным отклонением std и нулевым средним.\"\"\"\n",
    "    x_train = np.random.random(num_points)*(range_[1]-range_[0])+range_[0]\n",
    "    y_train = a*x_train+b+ np.random.normal(0, std, size=x_train.shape)\n",
    "    return x_train, y_train\n"
   ]
  },
  {
   "cell_type": "code",
   "execution_count": 36,
   "metadata": {
    "colab": {
     "base_uri": "https://localhost:8080/",
     "height": 202
    },
    "colab_type": "code",
    "executionInfo": {
     "elapsed": 966,
     "status": "ok",
     "timestamp": 1539364049842,
     "user": {
      "displayName": "Григорий Лелейтнер",
      "photoUrl": "",
      "userId": "07179937308049589303"
     },
     "user_tz": -300
    },
    "id": "kfjNWvxPSQEO",
    "outputId": "180869e0-ae28-40c8-858e-f766937e6efe"
   },
   "outputs": [
    {
     "data": {
      "text/html": [
       "<div>\n",
       "<style scoped>\n",
       "    .dataframe tbody tr th:only-of-type {\n",
       "        vertical-align: middle;\n",
       "    }\n",
       "\n",
       "    .dataframe tbody tr th {\n",
       "        vertical-align: top;\n",
       "    }\n",
       "\n",
       "    .dataframe thead th {\n",
       "        text-align: right;\n",
       "    }\n",
       "</style>\n",
       "<table border=\"1\" class=\"dataframe\">\n",
       "  <thead>\n",
       "    <tr style=\"text-align: right;\">\n",
       "      <th></th>\n",
       "      <th>X</th>\n",
       "      <th>Y</th>\n",
       "    </tr>\n",
       "  </thead>\n",
       "  <tbody>\n",
       "    <tr>\n",
       "      <th>0</th>\n",
       "      <td>142.397413</td>\n",
       "      <td>50.283998</td>\n",
       "    </tr>\n",
       "    <tr>\n",
       "      <th>1</th>\n",
       "      <td>116.523511</td>\n",
       "      <td>55.512353</td>\n",
       "    </tr>\n",
       "    <tr>\n",
       "      <th>2</th>\n",
       "      <td>14.048368</td>\n",
       "      <td>10.478322</td>\n",
       "    </tr>\n",
       "    <tr>\n",
       "      <th>3</th>\n",
       "      <td>109.425173</td>\n",
       "      <td>40.214978</td>\n",
       "    </tr>\n",
       "    <tr>\n",
       "      <th>4</th>\n",
       "      <td>108.228210</td>\n",
       "      <td>48.528088</td>\n",
       "    </tr>\n",
       "  </tbody>\n",
       "</table>\n",
       "</div>"
      ],
      "text/plain": [
       "            X          Y\n",
       "0  142.397413  50.283998\n",
       "1  116.523511  55.512353\n",
       "2   14.048368  10.478322\n",
       "3  109.425173  40.214978\n",
       "4  108.228210  48.528088"
      ]
     },
     "execution_count": 36,
     "metadata": {},
     "output_type": "execute_result"
    }
   ],
   "source": [
    "# Зададим параметры для искусственных данных\n",
    "real_a=0.34\n",
    "real_b=13.7\n",
    "real_std=7\n",
    "\n",
    "# Генерируем данные для промежутка от 0 до 150 с параметрами, которые мы задали выше\n",
    "x_train, y_train = generate_data([0, 150], real_a, real_b, real_std)\n",
    "\n",
    "# просто выведем табличку с данными\n",
    "pd.DataFrame({\"X\":x_train, \"Y\":y_train}).head()"
   ]
  },
  {
   "cell_type": "code",
   "execution_count": 37,
   "metadata": {},
   "outputs": [
    {
     "data": {
      "image/png": "[encoded data removed]",
      "text/plain": [
       "<Figure size 432x288 with 1 Axes>"
      ]
     },
     "metadata": {
      "needs_background": "light"
     },
     "output_type": "display_data"
    }
   ],
   "source": [
    "plt.scatter(x_train, y_train, c='black')\n",
    "plt.plot(x_train, real_a*x_train+real_b)\n",
    "plt.show()"
   ]
  },
  {
   "cell_type": "markdown",
   "metadata": {
    "colab_type": "text",
    "id": "OSsVqF20SQEj"
   },
   "source": [
    "### Решение с помощью линейной алгебры"
   ]
  },
  {
   "cell_type": "code",
   "execution_count": 38,
   "metadata": {
    "colab": {},
    "colab_type": "code",
    "id": "rqMulvKhSQEk"
   },
   "outputs": [],
   "source": [
    "# Используем функцию, написанную выше, чтобы найти W и b, с помощью метода наименьших квадратов\n",
    "solve_weights(x_train.reshape(-1, 1), y_train)"
   ]
  },
  {
   "cell_type": "code",
   "execution_count": 39,
   "metadata": {
    "colab": {
     "base_uri": "https://localhost:8080/",
     "height": 35
    },
    "colab_type": "code",
    "executionInfo": {
     "elapsed": 853,
     "status": "ok",
     "timestamp": 1539364054213,
     "user": {
      "displayName": "Григорий Лелейтнер",
      "photoUrl": "",
      "userId": "07179937308049589303"
     },
     "user_tz": -300
    },
    "id": "JnVSSMNGSQEo",
    "outputId": "7154fc6c-b5d9-4b7a-ca67-266191ed87c0"
   },
   "outputs": [
    {
     "data": {
      "text/plain": [
       "(array([0.36583827]), array([11.15372108]))"
      ]
     },
     "execution_count": 39,
     "metadata": {},
     "output_type": "execute_result"
    }
   ],
   "source": [
    "# Полученные веса лежат в глобальных переменных, выведем их\n",
    "W, b"
   ]
  },
  {
   "cell_type": "markdown",
   "metadata": {
    "colab_type": "text",
    "id": "NBwYctcZhFDR"
   },
   "source": [
    "Полученные веса очень похожи на те, которые мы задавали при генерации данных. Значит модель получилась хорошей."
   ]
  },
  {
   "cell_type": "code",
   "execution_count": 40,
   "metadata": {
    "colab": {
     "base_uri": "https://localhost:8080/",
     "height": 265
    },
    "colab_type": "code",
    "executionInfo": {
     "elapsed": 780,
     "status": "ok",
     "timestamp": 1539364055884,
     "user": {
      "displayName": "Григорий Лелейтнер",
      "photoUrl": "",
      "userId": "07179937308049589303"
     },
     "user_tz": -300
    },
    "id": "T8pcThvvSQEt",
    "outputId": "f57c4745-f6d0-4090-8171-dc92cc274609"
   },
   "outputs": [
    {
     "data": {
      "image/png": "[encoded data removed]",
      "text/plain": [
       "<Figure size 432x288 with 1 Axes>"
      ]
     },
     "metadata": {
      "needs_background": "light"
     },
     "output_type": "display_data"
    }
   ],
   "source": [
    "# Выведем данные, истинную зависимость и полученную нами с помощью метода наименьших квадратов\n",
    "plt.scatter(x_train, y_train, c='red')\n",
    "plt.plot(x_train, real_a*x_train+real_b, c='orange')\n",
    "plt.plot(x_train, W*x_train+b)\n",
    "plt.show()\n"
   ]
  },
  {
   "cell_type": "markdown",
   "metadata": {
    "colab_type": "text",
    "id": "7MTk_FR2SQEy"
   },
   "source": [
    "### Решение с помощью градиентного спуска"
   ]
  },
  {
   "cell_type": "code",
   "execution_count": 41,
   "metadata": {
    "colab": {},
    "colab_type": "code",
    "id": "m850g9haSQE1"
   },
   "outputs": [],
   "source": [
    "# Найдем параметры с помощью градиентного спуска\n",
    "# чтобы проследить за обучением, мы записываем значение функции ошибки на каждом шаге и после выводим\n",
    "losses = grad_descent(x_train.reshape(-1, 1), y_train, 1e-9, 15000)"
   ]
  },
  {
   "cell_type": "code",
   "execution_count": 42,
   "metadata": {
    "colab": {
     "base_uri": "https://localhost:8080/",
     "height": 35
    },
    "colab_type": "code",
    "executionInfo": {
     "elapsed": 852,
     "status": "ok",
     "timestamp": 1539364064208,
     "user": {
      "displayName": "Григорий Лелейтнер",
      "photoUrl": "",
      "userId": "07179937308049589303"
     },
     "user_tz": -300
    },
    "id": "25dgBfNuSQE9",
    "outputId": "b729d5fc-9ef5-4c15-a4d4-41d8ab12faba"
   },
   "outputs": [
    {
     "data": {
      "text/plain": [
       "(array([0.4753441]), array([0.94146679]))"
      ]
     },
     "execution_count": 42,
     "metadata": {},
     "output_type": "execute_result"
    }
   ],
   "source": [
    "# Полученные веса лежат в глобальных переменных, выведем их\n",
    "W, b"
   ]
  },
  {
   "cell_type": "markdown",
   "metadata": {
    "colab_type": "text",
    "id": "9-3mvFTRhFEV"
   },
   "source": [
    "Веса модели получились не похожи, на то, что мы задавали при генерации данных. Модель намного хуже.\n",
    "\n",
    "Стоит отметить, что хуже всего был подобран свободный член b, это связано с тем, что данные не нормализованы и параметры a и b имеют очень разные модули, а шаги, которые делает градиентный спуск для обоих параметров одного порядка. Это приводит к тому, что меньший по модулю параметр a быстро подбирается, а параметр почти b перестает изменяться."
   ]
  },
  {
   "cell_type": "code",
   "execution_count": 43,
   "metadata": {
    "colab": {
     "base_uri": "https://localhost:8080/",
     "height": 282
    },
    "colab_type": "code",
    "executionInfo": {
     "elapsed": 914,
     "status": "ok",
     "timestamp": 1539364066361,
     "user": {
      "displayName": "Григорий Лелейтнер",
      "photoUrl": "",
      "userId": "07179937308049589303"
     },
     "user_tz": -300
    },
    "id": "Hhop71KlSQFB",
    "outputId": "c7c1d664-6ca2-4f6a-a129-e37dc6666268"
   },
   "outputs": [
    {
     "data": {
      "image/png": "[encoded data removed]",
      "text/plain": [
       "<Figure size 432x288 with 1 Axes>"
      ]
     },
     "metadata": {
      "needs_background": "light"
     },
     "output_type": "display_data"
    }
   ],
   "source": [
    "# Выведем график функции потерь \n",
    "plt.plot(losses)\n",
    "plt.show()"
   ]
  },
  {
   "cell_type": "code",
   "execution_count": 44,
   "metadata": {
    "colab": {
     "base_uri": "https://localhost:8080/",
     "height": 265
    },
    "colab_type": "code",
    "executionInfo": {
     "elapsed": 1110,
     "status": "ok",
     "timestamp": 1539364068547,
     "user": {
      "displayName": "Григорий Лелейтнер",
      "photoUrl": "",
      "userId": "07179937308049589303"
     },
     "user_tz": -300
    },
    "id": "ItCyBwfwSQFH",
    "outputId": "58795acc-67a4-4d7e-b0bf-3f3bc5b29fc0"
   },
   "outputs": [
    {
     "data": {
      "image/png": "[encoded data removed]",
      "text/plain": [
       "<Figure size 432x288 with 1 Axes>"
      ]
     },
     "metadata": {
      "needs_background": "light"
     },
     "output_type": "display_data"
    }
   ],
   "source": [
    "# Выведем данные, истинную зависимость и полученную нами\n",
    "plt.scatter(x_train, y_train, c='red')\n",
    "plt.plot(x_train, real_a*x_train+real_b)\n",
    "plt.plot(x_train, W*x_train+b, c='orange')\n",
    "plt.show()"
   ]
  },
  {
   "cell_type": "markdown",
   "metadata": {
    "colab_type": "text",
    "id": "edEx8RuJhFEw"
   },
   "source": [
    "Градиентный спуск восстановил зависимость хуже, чем метод наименьших квадратов, это вызвано тем, что \n",
    "* данные не **нормализованы** (подробнее о нормализации в домашнем ноутбуке).\n",
    "* в **методе наименьших квадратов** мы получали решение **аналитически**, поэтому оно гарантировано является наилучшим, в то время как градиентный спуск находит решение лишь приближенно. \n",
    "\n",
    "Возникает вопрос, зачем использовать **градиентный спуск**, если он хуже **аналитических** мтеодов? Дело в том, что оптимизация большого количества весов в **нейронных сетях** сликшом сложная задача, которая не может быть решена **аналитически**."
   ]
  },
  {
   "cell_type": "markdown",
   "metadata": {
    "colab_type": "text",
    "id": "e6VOEaY2SQFO"
   },
   "source": [
    "### Работа с другими данными"
   ]
  },
  {
   "cell_type": "markdown",
   "metadata": {
    "colab_type": "text",
    "id": "7rNOb6iuJLB-"
   },
   "source": [
    "Загрузим с помощью **pandas** реальные данные из файла **data.csv** и найдем параметры зависимости с помощью метода наименьших квадратов и градиентного спуска, как и в предыдущем примере (так как наш код универсален, нам просто нужно просто вызвать те же функции)."
   ]
  },
  {
   "cell_type": "code",
   "execution_count": 45,
   "metadata": {
    "colab": {},
    "colab_type": "code",
    "id": "cG4n12xvSQFP"
   },
   "outputs": [],
   "source": [
    "df_data = pd.read_csv('data.csv', index_col=0)"
   ]
  },
  {
   "cell_type": "code",
   "execution_count": 46,
   "metadata": {
    "colab": {
     "base_uri": "https://localhost:8080/",
     "height": 168
    },
    "colab_type": "code",
    "id": "uGCTic-qSQFV",
    "outputId": "32fd5980-fdf6-4bb6-f676-bc35d5c0af2d"
   },
   "outputs": [
    {
     "data": {
      "text/html": [
       "<div>\n",
       "<style scoped>\n",
       "    .dataframe tbody tr th:only-of-type {\n",
       "        vertical-align: middle;\n",
       "    }\n",
       "\n",
       "    .dataframe tbody tr th {\n",
       "        vertical-align: top;\n",
       "    }\n",
       "\n",
       "    .dataframe thead th {\n",
       "        text-align: right;\n",
       "    }\n",
       "</style>\n",
       "<table border=\"1\" class=\"dataframe\">\n",
       "  <thead>\n",
       "    <tr style=\"text-align: right;\">\n",
       "      <th></th>\n",
       "      <th>A1</th>\n",
       "      <th>A2</th>\n",
       "      <th>A3</th>\n",
       "      <th>A4</th>\n",
       "      <th>B</th>\n",
       "    </tr>\n",
       "    <tr>\n",
       "      <th>Index</th>\n",
       "      <th></th>\n",
       "      <th></th>\n",
       "      <th></th>\n",
       "      <th></th>\n",
       "      <th></th>\n",
       "    </tr>\n",
       "  </thead>\n",
       "  <tbody>\n",
       "    <tr>\n",
       "      <th>1</th>\n",
       "      <td>75</td>\n",
       "      <td>91</td>\n",
       "      <td>6</td>\n",
       "      <td>85</td>\n",
       "      <td>4815</td>\n",
       "    </tr>\n",
       "    <tr>\n",
       "      <th>2</th>\n",
       "      <td>6</td>\n",
       "      <td>48</td>\n",
       "      <td>48</td>\n",
       "      <td>48</td>\n",
       "      <td>234</td>\n",
       "    </tr>\n",
       "    <tr>\n",
       "      <th>3</th>\n",
       "      <td>5</td>\n",
       "      <td>60</td>\n",
       "      <td>24</td>\n",
       "      <td>40</td>\n",
       "      <td>160</td>\n",
       "    </tr>\n",
       "    <tr>\n",
       "      <th>4</th>\n",
       "      <td>74</td>\n",
       "      <td>48</td>\n",
       "      <td>8</td>\n",
       "      <td>86</td>\n",
       "      <td>4794</td>\n",
       "    </tr>\n",
       "    <tr>\n",
       "      <th>5</th>\n",
       "      <td>10</td>\n",
       "      <td>74</td>\n",
       "      <td>70</td>\n",
       "      <td>11</td>\n",
       "      <td>659</td>\n",
       "    </tr>\n",
       "  </tbody>\n",
       "</table>\n",
       "</div>"
      ],
      "text/plain": [
       "       A1  A2  A3  A4     B\n",
       "Index                      \n",
       "1      75  91   6  85  4815\n",
       "2       6  48  48  48   234\n",
       "3       5  60  24  40   160\n",
       "4      74  48   8  86  4794\n",
       "5      10  74  70  11   659"
      ]
     },
     "execution_count": 46,
     "metadata": {},
     "output_type": "execute_result"
    }
   ],
   "source": [
    "# так как данные многомерные, мы не можем построить график, как в предыдущем примере, \n",
    "# чтобы увидеть зависимость глазами. Поэтому мы просто выведем первые строки таблицы.\n",
    "df_data.head()"
   ]
  },
  {
   "cell_type": "code",
   "execution_count": 47,
   "metadata": {
    "colab": {},
    "colab_type": "code",
    "id": "2VdsqMNFSQFb"
   },
   "outputs": [],
   "source": [
    "# разделим данные на признаки и значения\n",
    "data, label = np.array(df_data)[:, :4], np.array(df_data)[:, 4]"
   ]
  },
  {
   "cell_type": "code",
   "execution_count": 48,
   "metadata": {},
   "outputs": [
    {
     "data": {
      "image/png": "[encoded data removed]",
      "text/plain": [
       "<Figure size 432x288 with 1 Axes>"
      ]
     },
     "metadata": {
      "needs_background": "light"
     },
     "output_type": "display_data"
    }
   ],
   "source": [
    "# график зависимости B от A1\n",
    "plt.scatter(data[:, 0], label, c='black')\n",
    "plt.show()"
   ]
  },
  {
   "cell_type": "markdown",
   "metadata": {
    "colab_type": "text",
    "id": "knOBphGnSQFi"
   },
   "source": [
    "### Решение с помощью линейной алгебры"
   ]
  },
  {
   "cell_type": "code",
   "execution_count": 49,
   "metadata": {
    "colab": {},
    "colab_type": "code",
    "id": "eV3TJ92fSQFj"
   },
   "outputs": [],
   "source": [
    "# Используем функцию, написанную выше, чтобы найти W и b, с помощью метода наименьших квадратов\n",
    "solve_weights(data.reshape(-1, 4), label)"
   ]
  },
  {
   "cell_type": "code",
   "execution_count": 50,
   "metadata": {
    "colab": {},
    "colab_type": "code",
    "id": "0Yfhm4fISQFm",
    "outputId": "9e9e5af2-7eba-46c4-8959-dd2fef9adae5"
   },
   "outputs": [
    {
     "data": {
      "text/plain": [
       "(array([ 3.29211245,  6.54097099, 24.3858116 , -7.47819654]),\n",
       " array([2030.27050104]))"
      ]
     },
     "execution_count": 50,
     "metadata": {},
     "output_type": "execute_result"
    }
   ],
   "source": [
    "# Полученные веса лежат в глобальных переменных, выведем их\n",
    "linW, linb = W, b\n",
    "linW, linb"
   ]
  },
  {
   "cell_type": "code",
   "execution_count": 51,
   "metadata": {
    "colab": {},
    "colab_type": "code",
    "id": "KVag7u66SQFq",
    "outputId": "2a6398d5-ad59-423d-8428-6123aeeb202f"
   },
   "outputs": [
    {
     "data": {
      "text/plain": [
       "3731984.960573223"
      ]
     },
     "execution_count": 51,
     "metadata": {},
     "output_type": "execute_result"
    }
   ],
   "source": [
    "# Выведем значение функции ошибки, чтобы позже сравнить с результатом градиентного спуска\n",
    "mse(predict(data), label)"
   ]
  },
  {
   "cell_type": "markdown",
   "metadata": {
    "colab_type": "text",
    "id": "gJqoPz4RSQFt"
   },
   "source": [
    "### Решение с помощью градиентного спуска"
   ]
  },
  {
   "cell_type": "code",
   "execution_count": 52,
   "metadata": {
    "colab": {},
    "colab_type": "code",
    "id": "cFXllJyQSQFv"
   },
   "outputs": [],
   "source": [
    "# Найдем параметры с помощью градиентного спуска\n",
    "# чтобы проследить за обучением, мы записываем значение функции ошибки на каждом шаге и после выводим\n",
    "losses = grad_descent(data, label, 1e-9, 500)"
   ]
  },
  {
   "cell_type": "code",
   "execution_count": 53,
   "metadata": {
    "colab": {},
    "colab_type": "code",
    "id": "27q36bXrSQF1",
    "outputId": "f8351eeb-6bb4-44ad-89ed-776d2f2586f4"
   },
   "outputs": [
    {
     "data": {
      "text/plain": [
       "(array([11.54650913, 11.96503355, 11.23401422,  6.34173175]),\n",
       " array([0.9800213]))"
      ]
     },
     "execution_count": 53,
     "metadata": {},
     "output_type": "execute_result"
    }
   ],
   "source": [
    "# Полученные веса лежат в глобальных переменных, выведем их\n",
    "W, b"
   ]
  },
  {
   "cell_type": "code",
   "execution_count": 54,
   "metadata": {
    "colab": {},
    "colab_type": "code",
    "id": "0MzZJdjQSQF5",
    "outputId": "b1f5031c-c346-4788-c155-eeeacb21cc82"
   },
   "outputs": [
    {
     "data": {
      "image/png": "[encoded data removed]",
      "text/plain": [
       "<Figure size 432x288 with 1 Axes>"
      ]
     },
     "metadata": {
      "needs_background": "light"
     },
     "output_type": "display_data"
    }
   ],
   "source": [
    "# Выведем график функции потерь \n",
    "plt.plot(losses)\n",
    "plt.show()"
   ]
  },
  {
   "cell_type": "code",
   "execution_count": 55,
   "metadata": {
    "colab": {},
    "colab_type": "code",
    "id": "GqmUW4-lLPq_",
    "outputId": "3c28cdb2-84f1-4ef7-a8a8-49868c0a31ac"
   },
   "outputs": [
    {
     "data": {
      "text/plain": [
       "5574013.978793249"
      ]
     },
     "execution_count": 55,
     "metadata": {},
     "output_type": "execute_result"
    }
   ],
   "source": [
    "# Выведем значение функции ошибки\n",
    "mse(predict(data), label)"
   ]
  },
  {
   "cell_type": "markdown",
   "metadata": {
    "colab_type": "text",
    "id": "Ws5k-CQChFFi"
   },
   "source": [
    "Как мы видим, **градиентный спуск** опять нашел значительно более плохое решение. Если нормализовать данные, то **градиентный спуск** будет сходиться лучше и разница будет не такой заметной. "
   ]
  },
  {
   "cell_type": "code",
   "execution_count": 58,
   "metadata": {},
   "outputs": [
    {
     "data": {
      "image/png": "[encoded data removed]",
      "text/plain": [
       "<Figure size 432x288 with 1 Axes>"
      ]
     },
     "metadata": {
      "needs_background": "light"
     },
     "output_type": "display_data"
    }
   ],
   "source": [
    "plt.scatter(data[:, 0], label, c='red')\n",
    "plt.plot(data[:, 0], linW[0]*data[:, 0]+linb)\n",
    "plt.plot(data[:, 0], W[0]*data[:, 0]+b, c='orange')\n",
    "plt.show()"
   ]
  },
  {
   "cell_type": "code",
   "execution_count": null,
   "metadata": {},
   "outputs": [],
   "source": []
  }
 ],
 "metadata": {
  "colab": {
   "collapsed_sections": [],
   "name": "[seminar]linear_models.ipynb",
   "provenance": [],
   "version": "0.3.2"
  },
  "kernelspec": {
   "display_name": "Python 3",
   "language": "python",
   "name": "python3"
  },
  "language_info": {
   "codemirror_mode": {
    "name": "ipython",
    "version": 3
   },
   "file_extension": ".py",
   "mimetype": "text/x-python",
   "name": "python",
   "nbconvert_exporter": "python",
   "pygments_lexer": "ipython3",
   "version": "3.7.3"
  }
 },
 "nbformat": 4,
 "nbformat_minor": 1
}
