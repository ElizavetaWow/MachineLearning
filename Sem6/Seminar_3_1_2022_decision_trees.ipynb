{
 "cells": [
  {
   "cell_type": "markdown",
   "metadata": {
    "collapsed": true
   },
   "source": [
    "Занятие 7. Деревья решений.\n",
    "===============\n",
    "\n",
    "Полезные ссылки.\n",
    "\n",
    "http://scikit-learn.org/stable/modules/generated/sklearn.tree.DecisionTreeClassifier.html<br>\n",
    "http://scikit-learn.org/stable/modules/generated/sklearn.tree.DecisionTreeRegressor.html<br>\n",
    "\n",
    "http://scikit-learn.org/stable/modules/generated/sklearn.ensemble.RandomForestClassifier.html<br>\n",
    "http://scikit-learn.org/stable/modules/generated/sklearn.ensemble.RandomForestRegressor.html<br>\n",
    "\n",
    "http://scikit-learn.org/stable/modules/cross_validation.html<br>\n",
    "http://scikit-learn.org/stable/modules/classes.html#module-sklearn.metrics<br>\n",
    "\n",
    "\n",
    "## Деревья решений для задач классификации"
   ]
  },
  {
   "cell_type": "code",
   "execution_count": 1,
   "metadata": {
    "collapsed": true
   },
   "outputs": [],
   "source": [
    "import numpy as np\n",
    "import pandas as pd\n",
    "import matplotlib\n",
    "import matplotlib.pyplot as plt\n",
    "matplotlib.style.use('ggplot')\n",
    "%matplotlib inline"
   ]
  },
  {
   "cell_type": "code",
   "execution_count": null,
   "metadata": {
    "collapsed": true
   },
   "outputs": [],
   "source": [
    "#import os\n",
    "#os.chdir(\"c:/aaa/temp_py/Shad_Python_08_2/\")"
   ]
  },
  {
   "cell_type": "markdown",
   "metadata": {},
   "source": [
    "Загружаем данные о выдаче кредита.\n",
    "кредит -- решение о выдаче кредита (низкий или высокий), <br>\n",
    "класс -- класс профессии (упорядоченный с точки зрения платёжеспособности),<br>\n",
    "з\\_плата -- способ выдачи зарплаты (ежемесячно или еженедельно),<br>\n",
    "возраст -- разбитый по сегментам,<br>\n",
    "кр\\_карта -- есть или нет кредитная карта.<br>"
   ]
  },
  {
   "cell_type": "code",
   "execution_count": 2,
   "metadata": {
    "collapsed": true
   },
   "outputs": [
    {
     "data": {
      "text/html": [
       "<div>\n",
       "<style scoped>\n",
       "    .dataframe tbody tr th:only-of-type {\n",
       "        vertical-align: middle;\n",
       "    }\n",
       "\n",
       "    .dataframe tbody tr th {\n",
       "        vertical-align: top;\n",
       "    }\n",
       "\n",
       "    .dataframe thead th {\n",
       "        text-align: right;\n",
       "    }\n",
       "</style>\n",
       "<table border=\"1\" class=\"dataframe\">\n",
       "  <thead>\n",
       "    <tr style=\"text-align: right;\">\n",
       "      <th></th>\n",
       "      <th>кредит</th>\n",
       "      <th>клаcс</th>\n",
       "      <th>з_плата</th>\n",
       "      <th>возраст</th>\n",
       "      <th>кр_карта</th>\n",
       "    </tr>\n",
       "  </thead>\n",
       "  <tbody>\n",
       "    <tr>\n",
       "      <th>0</th>\n",
       "      <td>1</td>\n",
       "      <td>2</td>\n",
       "      <td>2</td>\n",
       "      <td>2</td>\n",
       "      <td>1</td>\n",
       "    </tr>\n",
       "    <tr>\n",
       "      <th>1</th>\n",
       "      <td>0</td>\n",
       "      <td>2</td>\n",
       "      <td>1</td>\n",
       "      <td>2</td>\n",
       "      <td>0</td>\n",
       "    </tr>\n",
       "    <tr>\n",
       "      <th>2</th>\n",
       "      <td>0</td>\n",
       "      <td>4</td>\n",
       "      <td>1</td>\n",
       "      <td>1</td>\n",
       "      <td>1</td>\n",
       "    </tr>\n",
       "    <tr>\n",
       "      <th>3</th>\n",
       "      <td>1</td>\n",
       "      <td>2</td>\n",
       "      <td>2</td>\n",
       "      <td>2</td>\n",
       "      <td>0</td>\n",
       "    </tr>\n",
       "    <tr>\n",
       "      <th>4</th>\n",
       "      <td>1</td>\n",
       "      <td>3</td>\n",
       "      <td>2</td>\n",
       "      <td>1</td>\n",
       "      <td>0</td>\n",
       "    </tr>\n",
       "  </tbody>\n",
       "</table>\n",
       "</div>"
      ],
      "text/plain": [
       "   кредит  клаcс  з_плата  возраст  кр_карта\n",
       "0       1      2        2        2         1\n",
       "1       0      2        1        2         0\n",
       "2       0      4        1        1         1\n",
       "3       1      2        2        2         0\n",
       "4       1      3        2        1         0"
      ]
     },
     "execution_count": 2,
     "metadata": {},
     "output_type": "execute_result"
    }
   ],
   "source": [
    "df = pd.read_csv('Credit.csv', sep=';', encoding='cp1251')\n",
    "df.head()"
   ]
  },
  {
   "cell_type": "code",
   "execution_count": 8,
   "metadata": {
    "collapsed": true
   },
   "outputs": [],
   "source": [
    "# Правильный ответ записываем в вектор y\n",
    "y = df['кредит']\n",
    "# Удаляем колонку с правильным ответом\n",
    "x = df.drop('кредит', axis=1)"
   ]
  },
  {
   "cell_type": "code",
   "execution_count": 13,
   "metadata": {
    "collapsed": true
   },
   "outputs": [
    {
     "data": {
      "text/plain": [
       "DecisionTreeClassifier(max_depth=5, min_samples_leaf=5, min_samples_split=5,\n",
       "                       random_state=42)"
      ]
     },
     "execution_count": 13,
     "metadata": {},
     "output_type": "execute_result"
    }
   ],
   "source": [
    "from sklearn.tree import DecisionTreeClassifier\n",
    "\n",
    "# Инициализируем модель\n",
    "\n",
    "model = DecisionTreeClassifier(random_state=42,\n",
    "                                criterion='gini',\n",
    "                                max_depth=5,\n",
    "                                min_samples_split=5,\n",
    "                                min_samples_leaf=5,\n",
    "                                class_weight=None)\n",
    "model.fit(x, y)"
   ]
  },
  {
   "cell_type": "markdown",
   "metadata": {},
   "source": [
    "Для интерпретации получившейся модели удобно изобразить её в виде дерева предикатов (решающих правил). Для этого в ```sklearn.tree``` предусмотрена функция ```export_graphviz```. Однако неудобство её в том, что она выдаёт результат в виде файла векторной графики ```.dot```, который нужно дополнительно преобразовать в привычный формат (например, в ```.png```)."
   ]
  },
  {
   "cell_type": "code",
   "execution_count": 14,
   "metadata": {},
   "outputs": [
    {
     "data": {
      "image/svg+xml": "<?xml version=\"1.0\" encoding=\"UTF-8\" standalone=\"no\"?>\n<!DOCTYPE svg PUBLIC \"-//W3C//DTD SVG 1.1//EN\"\n \"http://www.w3.org/Graphics/SVG/1.1/DTD/svg11.dtd\">\n<!-- Generated by graphviz version 2.50.0 (20211204.2007)\n -->\n<!-- Title: Tree Pages: 1 -->\n<svg width=\"905pt\" height=\"1050pt\"\n viewBox=\"0.00 0.00 905.00 1050.00\" xmlns=\"http://www.w3.org/2000/svg\" xmlns:xlink=\"http://www.w3.org/1999/xlink\">\n<g id=\"graph0\" class=\"graph\" transform=\"scale(1 1) rotate(0) translate(4 1046)\">\n<title>Tree</title>\n<polygon fill=\"white\" stroke=\"transparent\" points=\"-4,4 -4,-1046 901,-1046 901,4 -4,4\"/>\n<!-- 0 -->\n<g id=\"node1\" class=\"node\">\n<title>0</title>\n<path fill=\"#fdf5f0\" stroke=\"black\" d=\"M118,-489.5C118,-489.5 12,-489.5 12,-489.5 6,-489.5 0,-483.5 0,-477.5 0,-477.5 0,-418.5 0,-418.5 0,-412.5 6,-406.5 12,-406.5 12,-406.5 118,-406.5 118,-406.5 124,-406.5 130,-412.5 130,-418.5 130,-418.5 130,-477.5 130,-477.5 130,-483.5 124,-489.5 118,-489.5\"/>\n<text text-anchor=\"middle\" x=\"65\" y=\"-474.3\" font-family=\"Helvetica,sans-Serif\" font-size=\"14.00\">з_плата &lt;= 1.5</text>\n<text text-anchor=\"middle\" x=\"65\" y=\"-459.3\" font-family=\"Helvetica,sans-Serif\" font-size=\"14.00\">gini = 0.499</text>\n<text text-anchor=\"middle\" x=\"65\" y=\"-444.3\" font-family=\"Helvetica,sans-Serif\" font-size=\"14.00\">samples = 323</text>\n<text text-anchor=\"middle\" x=\"65\" y=\"-429.3\" font-family=\"Helvetica,sans-Serif\" font-size=\"14.00\">value = [168, 155]</text>\n<text text-anchor=\"middle\" x=\"65\" y=\"-414.3\" font-family=\"Helvetica,sans-Serif\" font-size=\"14.00\">class = 0</text>\n</g>\n<!-- 1 -->\n<g id=\"node2\" class=\"node\">\n<title>1</title>\n<path fill=\"#e99457\" stroke=\"black\" d=\"M276,-510.5C276,-510.5 178,-510.5 178,-510.5 172,-510.5 166,-504.5 166,-498.5 166,-498.5 166,-439.5 166,-439.5 166,-433.5 172,-427.5 178,-427.5 178,-427.5 276,-427.5 276,-427.5 282,-427.5 288,-433.5 288,-439.5 288,-439.5 288,-498.5 288,-498.5 288,-504.5 282,-510.5 276,-510.5\"/>\n<text text-anchor=\"middle\" x=\"227\" y=\"-495.3\" font-family=\"Helvetica,sans-Serif\" font-size=\"14.00\">возраст &lt;= 2.5</text>\n<text text-anchor=\"middle\" x=\"227\" y=\"-480.3\" font-family=\"Helvetica,sans-Serif\" font-size=\"14.00\">gini = 0.231</text>\n<text text-anchor=\"middle\" x=\"227\" y=\"-465.3\" font-family=\"Helvetica,sans-Serif\" font-size=\"14.00\">samples = 165</text>\n<text text-anchor=\"middle\" x=\"227\" y=\"-450.3\" font-family=\"Helvetica,sans-Serif\" font-size=\"14.00\">value = [143, 22]</text>\n<text text-anchor=\"middle\" x=\"227\" y=\"-435.3\" font-family=\"Helvetica,sans-Serif\" font-size=\"14.00\">class = 0</text>\n</g>\n<!-- 0&#45;&gt;1 -->\n<g id=\"edge1\" class=\"edge\">\n<title>0&#45;&gt;1</title>\n<path fill=\"none\" stroke=\"black\" d=\"M130.16,-456.42C138.65,-457.54 147.4,-458.68 155.99,-459.81\"/>\n<polygon fill=\"black\" stroke=\"black\" points=\"155.61,-463.29 165.98,-461.12 156.52,-456.35 155.61,-463.29\"/>\n<text text-anchor=\"middle\" x=\"146.15\" y=\"-472.65\" font-family=\"Helvetica,sans-Serif\" font-size=\"14.00\">True</text>\n</g>\n<!-- 18 -->\n<g id=\"node19\" class=\"node\">\n<title>18</title>\n<path fill=\"#5eafea\" stroke=\"black\" d=\"M276,-399.5C276,-399.5 178,-399.5 178,-399.5 172,-399.5 166,-393.5 166,-387.5 166,-387.5 166,-328.5 166,-328.5 166,-322.5 172,-316.5 178,-316.5 178,-316.5 276,-316.5 276,-316.5 282,-316.5 288,-322.5 288,-328.5 288,-328.5 288,-387.5 288,-387.5 288,-393.5 282,-399.5 276,-399.5\"/>\n<text text-anchor=\"middle\" x=\"227\" y=\"-384.3\" font-family=\"Helvetica,sans-Serif\" font-size=\"14.00\">возраст &lt;= 1.5</text>\n<text text-anchor=\"middle\" x=\"227\" y=\"-369.3\" font-family=\"Helvetica,sans-Serif\" font-size=\"14.00\">gini = 0.266</text>\n<text text-anchor=\"middle\" x=\"227\" y=\"-354.3\" font-family=\"Helvetica,sans-Serif\" font-size=\"14.00\">samples = 158</text>\n<text text-anchor=\"middle\" x=\"227\" y=\"-339.3\" font-family=\"Helvetica,sans-Serif\" font-size=\"14.00\">value = [25, 133]</text>\n<text text-anchor=\"middle\" x=\"227\" y=\"-324.3\" font-family=\"Helvetica,sans-Serif\" font-size=\"14.00\">class = 1</text>\n</g>\n<!-- 0&#45;&gt;18 -->\n<g id=\"edge18\" class=\"edge\">\n<title>0&#45;&gt;18</title>\n<path fill=\"none\" stroke=\"black\" d=\"M130.16,-411.91C139.02,-406.92 148.16,-401.78 157.11,-396.75\"/>\n<polygon fill=\"black\" stroke=\"black\" points=\"158.98,-399.71 165.98,-391.76 155.55,-393.61 158.98,-399.71\"/>\n<text text-anchor=\"middle\" x=\"141.91\" y=\"-381.32\" font-family=\"Helvetica,sans-Serif\" font-size=\"14.00\">False</text>\n</g>\n<!-- 2 -->\n<g id=\"node3\" class=\"node\">\n<title>2</title>\n<path fill=\"#e88e4e\" stroke=\"black\" d=\"M434,-624.5C434,-624.5 336,-624.5 336,-624.5 330,-624.5 324,-618.5 324,-612.5 324,-612.5 324,-553.5 324,-553.5 324,-547.5 330,-541.5 336,-541.5 336,-541.5 434,-541.5 434,-541.5 440,-541.5 446,-547.5 446,-553.5 446,-553.5 446,-612.5 446,-612.5 446,-618.5 440,-624.5 434,-624.5\"/>\n<text text-anchor=\"middle\" x=\"385\" y=\"-609.3\" font-family=\"Helvetica,sans-Serif\" font-size=\"14.00\">клаcс &lt;= 2.5</text>\n<text text-anchor=\"middle\" x=\"385\" y=\"-594.3\" font-family=\"Helvetica,sans-Serif\" font-size=\"14.00\">gini = 0.172</text>\n<text text-anchor=\"middle\" x=\"385\" y=\"-579.3\" font-family=\"Helvetica,sans-Serif\" font-size=\"14.00\">samples = 158</text>\n<text text-anchor=\"middle\" x=\"385\" y=\"-564.3\" font-family=\"Helvetica,sans-Serif\" font-size=\"14.00\">value = [143, 15]</text>\n<text text-anchor=\"middle\" x=\"385\" y=\"-549.3\" font-family=\"Helvetica,sans-Serif\" font-size=\"14.00\">class = 0</text>\n</g>\n<!-- 1&#45;&gt;2 -->\n<g id=\"edge2\" class=\"edge\">\n<title>1&#45;&gt;2</title>\n<path fill=\"none\" stroke=\"black\" d=\"M285.2,-510.8C296.19,-518.83 307.77,-527.29 318.98,-535.49\"/>\n<polygon fill=\"black\" stroke=\"black\" points=\"316.93,-538.32 327.06,-541.39 321.06,-532.67 316.93,-538.32\"/>\n</g>\n<!-- 17 -->\n<g id=\"node18\" class=\"node\">\n<title>17</title>\n<path fill=\"#399de5\" stroke=\"black\" d=\"M421.5,-503C421.5,-503 348.5,-503 348.5,-503 342.5,-503 336.5,-497 336.5,-491 336.5,-491 336.5,-447 336.5,-447 336.5,-441 342.5,-435 348.5,-435 348.5,-435 421.5,-435 421.5,-435 427.5,-435 433.5,-441 433.5,-447 433.5,-447 433.5,-491 433.5,-491 433.5,-497 427.5,-503 421.5,-503\"/>\n<text text-anchor=\"middle\" x=\"385\" y=\"-487.8\" font-family=\"Helvetica,sans-Serif\" font-size=\"14.00\">gini = 0.0</text>\n<text text-anchor=\"middle\" x=\"385\" y=\"-472.8\" font-family=\"Helvetica,sans-Serif\" font-size=\"14.00\">samples = 7</text>\n<text text-anchor=\"middle\" x=\"385\" y=\"-457.8\" font-family=\"Helvetica,sans-Serif\" font-size=\"14.00\">value = [0, 7]</text>\n<text text-anchor=\"middle\" x=\"385\" y=\"-442.8\" font-family=\"Helvetica,sans-Serif\" font-size=\"14.00\">class = 1</text>\n</g>\n<!-- 1&#45;&gt;17 -->\n<g id=\"edge17\" class=\"edge\">\n<title>1&#45;&gt;17</title>\n<path fill=\"none\" stroke=\"black\" d=\"M288.31,-469C300.77,-469 313.87,-469 326.23,-469\"/>\n<polygon fill=\"black\" stroke=\"black\" points=\"326.42,-472.5 336.42,-469 326.42,-465.5 326.42,-472.5\"/>\n</g>\n<!-- 3 -->\n<g id=\"node4\" class=\"node\">\n<title>3</title>\n<path fill=\"#eeac7d\" stroke=\"black\" d=\"M586,-827.5C586,-827.5 497,-827.5 497,-827.5 491,-827.5 485,-821.5 485,-815.5 485,-815.5 485,-756.5 485,-756.5 485,-750.5 491,-744.5 497,-744.5 497,-744.5 586,-744.5 586,-744.5 592,-744.5 598,-750.5 598,-756.5 598,-756.5 598,-815.5 598,-815.5 598,-821.5 592,-827.5 586,-827.5\"/>\n<text text-anchor=\"middle\" x=\"541.5\" y=\"-812.3\" font-family=\"Helvetica,sans-Serif\" font-size=\"14.00\">возраст &lt;= 1.5</text>\n<text text-anchor=\"middle\" x=\"541.5\" y=\"-797.3\" font-family=\"Helvetica,sans-Serif\" font-size=\"14.00\">gini = 0.381</text>\n<text text-anchor=\"middle\" x=\"541.5\" y=\"-782.3\" font-family=\"Helvetica,sans-Serif\" font-size=\"14.00\">samples = 43</text>\n<text text-anchor=\"middle\" x=\"541.5\" y=\"-767.3\" font-family=\"Helvetica,sans-Serif\" font-size=\"14.00\">value = [32, 11]</text>\n<text text-anchor=\"middle\" x=\"541.5\" y=\"-752.3\" font-family=\"Helvetica,sans-Serif\" font-size=\"14.00\">class = 0</text>\n</g>\n<!-- 2&#45;&gt;3 -->\n<g id=\"edge3\" class=\"edge\">\n<title>2&#45;&gt;3</title>\n<path fill=\"none\" stroke=\"black\" d=\"M417.64,-624.57C442.32,-657 476.68,-702.15 502.79,-736.46\"/>\n<polygon fill=\"black\" stroke=\"black\" points=\"500.06,-738.65 508.9,-744.49 505.63,-734.41 500.06,-738.65\"/>\n</g>\n<!-- 10 -->\n<g id=\"node11\" class=\"node\">\n<title>10</title>\n<path fill=\"#e68640\" stroke=\"black\" d=\"M586,-624.5C586,-624.5 497,-624.5 497,-624.5 491,-624.5 485,-618.5 485,-612.5 485,-612.5 485,-553.5 485,-553.5 485,-547.5 491,-541.5 497,-541.5 497,-541.5 586,-541.5 586,-541.5 592,-541.5 598,-547.5 598,-553.5 598,-553.5 598,-612.5 598,-612.5 598,-618.5 592,-624.5 586,-624.5\"/>\n<text text-anchor=\"middle\" x=\"541.5\" y=\"-609.3\" font-family=\"Helvetica,sans-Serif\" font-size=\"14.00\">клаcс &lt;= 4.5</text>\n<text text-anchor=\"middle\" x=\"541.5\" y=\"-594.3\" font-family=\"Helvetica,sans-Serif\" font-size=\"14.00\">gini = 0.067</text>\n<text text-anchor=\"middle\" x=\"541.5\" y=\"-579.3\" font-family=\"Helvetica,sans-Serif\" font-size=\"14.00\">samples = 115</text>\n<text text-anchor=\"middle\" x=\"541.5\" y=\"-564.3\" font-family=\"Helvetica,sans-Serif\" font-size=\"14.00\">value = [111, 4]</text>\n<text text-anchor=\"middle\" x=\"541.5\" y=\"-549.3\" font-family=\"Helvetica,sans-Serif\" font-size=\"14.00\">class = 0</text>\n</g>\n<!-- 2&#45;&gt;10 -->\n<g id=\"edge10\" class=\"edge\">\n<title>2&#45;&gt;10</title>\n<path fill=\"none\" stroke=\"black\" d=\"M446.18,-583C455.51,-583 465.19,-583 474.64,-583\"/>\n<polygon fill=\"black\" stroke=\"black\" points=\"474.78,-586.5 484.78,-583 474.78,-579.5 474.78,-586.5\"/>\n</g>\n<!-- 4 -->\n<g id=\"node5\" class=\"node\">\n<title>4</title>\n<path fill=\"#f0b890\" stroke=\"black\" d=\"M744,-963.5C744,-963.5 649,-963.5 649,-963.5 643,-963.5 637,-957.5 637,-951.5 637,-951.5 637,-892.5 637,-892.5 637,-886.5 643,-880.5 649,-880.5 649,-880.5 744,-880.5 744,-880.5 750,-880.5 756,-886.5 756,-892.5 756,-892.5 756,-951.5 756,-951.5 756,-957.5 750,-963.5 744,-963.5\"/>\n<text text-anchor=\"middle\" x=\"696.5\" y=\"-948.3\" font-family=\"Helvetica,sans-Serif\" font-size=\"14.00\">кр_карта &lt;= 0.5</text>\n<text text-anchor=\"middle\" x=\"696.5\" y=\"-933.3\" font-family=\"Helvetica,sans-Serif\" font-size=\"14.00\">gini = 0.423</text>\n<text text-anchor=\"middle\" x=\"696.5\" y=\"-918.3\" font-family=\"Helvetica,sans-Serif\" font-size=\"14.00\">samples = 23</text>\n<text text-anchor=\"middle\" x=\"696.5\" y=\"-903.3\" font-family=\"Helvetica,sans-Serif\" font-size=\"14.00\">value = [16, 7]</text>\n<text text-anchor=\"middle\" x=\"696.5\" y=\"-888.3\" font-family=\"Helvetica,sans-Serif\" font-size=\"14.00\">class = 0</text>\n</g>\n<!-- 3&#45;&gt;4 -->\n<g id=\"edge4\" class=\"edge\">\n<title>3&#45;&gt;4</title>\n<path fill=\"none\" stroke=\"black\" d=\"M589.24,-827.54C605.62,-842.11 624.16,-858.59 641.12,-873.66\"/>\n<polygon fill=\"black\" stroke=\"black\" points=\"638.99,-876.45 648.79,-880.48 643.64,-871.22 638.99,-876.45\"/>\n</g>\n<!-- 7 -->\n<g id=\"node8\" class=\"node\">\n<title>7</title>\n<path fill=\"#eca06a\" stroke=\"black\" d=\"M744,-827.5C744,-827.5 649,-827.5 649,-827.5 643,-827.5 637,-821.5 637,-815.5 637,-815.5 637,-756.5 637,-756.5 637,-750.5 643,-744.5 649,-744.5 649,-744.5 744,-744.5 744,-744.5 750,-744.5 756,-750.5 756,-756.5 756,-756.5 756,-815.5 756,-815.5 756,-821.5 750,-827.5 744,-827.5\"/>\n<text text-anchor=\"middle\" x=\"696.5\" y=\"-812.3\" font-family=\"Helvetica,sans-Serif\" font-size=\"14.00\">кр_карта &lt;= 0.5</text>\n<text text-anchor=\"middle\" x=\"696.5\" y=\"-797.3\" font-family=\"Helvetica,sans-Serif\" font-size=\"14.00\">gini = 0.32</text>\n<text text-anchor=\"middle\" x=\"696.5\" y=\"-782.3\" font-family=\"Helvetica,sans-Serif\" font-size=\"14.00\">samples = 20</text>\n<text text-anchor=\"middle\" x=\"696.5\" y=\"-767.3\" font-family=\"Helvetica,sans-Serif\" font-size=\"14.00\">value = [16, 4]</text>\n<text text-anchor=\"middle\" x=\"696.5\" y=\"-752.3\" font-family=\"Helvetica,sans-Serif\" font-size=\"14.00\">class = 0</text>\n</g>\n<!-- 3&#45;&gt;7 -->\n<g id=\"edge7\" class=\"edge\">\n<title>3&#45;&gt;7</title>\n<path fill=\"none\" stroke=\"black\" d=\"M598.17,-786C607.39,-786 617.05,-786 626.56,-786\"/>\n<polygon fill=\"black\" stroke=\"black\" points=\"626.78,-789.5 636.78,-786 626.78,-782.5 626.78,-789.5\"/>\n</g>\n<!-- 5 -->\n<g id=\"node6\" class=\"node\">\n<title>5</title>\n<path fill=\"#efb388\" stroke=\"black\" d=\"M885,-1042C885,-1042 804,-1042 804,-1042 798,-1042 792,-1036 792,-1030 792,-1030 792,-986 792,-986 792,-980 798,-974 804,-974 804,-974 885,-974 885,-974 891,-974 897,-980 897,-986 897,-986 897,-1030 897,-1030 897,-1036 891,-1042 885,-1042\"/>\n<text text-anchor=\"middle\" x=\"844.5\" y=\"-1026.8\" font-family=\"Helvetica,sans-Serif\" font-size=\"14.00\">gini = 0.408</text>\n<text text-anchor=\"middle\" x=\"844.5\" y=\"-1011.8\" font-family=\"Helvetica,sans-Serif\" font-size=\"14.00\">samples = 14</text>\n<text text-anchor=\"middle\" x=\"844.5\" y=\"-996.8\" font-family=\"Helvetica,sans-Serif\" font-size=\"14.00\">value = [10, 4]</text>\n<text text-anchor=\"middle\" x=\"844.5\" y=\"-981.8\" font-family=\"Helvetica,sans-Serif\" font-size=\"14.00\">class = 0</text>\n</g>\n<!-- 4&#45;&gt;5 -->\n<g id=\"edge5\" class=\"edge\">\n<title>4&#45;&gt;5</title>\n<path fill=\"none\" stroke=\"black\" d=\"M756.04,-956.48C764.85,-961.67 773.95,-967.03 782.8,-972.24\"/>\n<polygon fill=\"black\" stroke=\"black\" points=\"781.15,-975.34 791.54,-977.4 784.7,-969.3 781.15,-975.34\"/>\n</g>\n<!-- 6 -->\n<g id=\"node7\" class=\"node\">\n<title>6</title>\n<path fill=\"#f2c09c\" stroke=\"black\" d=\"M881,-956C881,-956 808,-956 808,-956 802,-956 796,-950 796,-944 796,-944 796,-900 796,-900 796,-894 802,-888 808,-888 808,-888 881,-888 881,-888 887,-888 893,-894 893,-900 893,-900 893,-944 893,-944 893,-950 887,-956 881,-956\"/>\n<text text-anchor=\"middle\" x=\"844.5\" y=\"-940.8\" font-family=\"Helvetica,sans-Serif\" font-size=\"14.00\">gini = 0.444</text>\n<text text-anchor=\"middle\" x=\"844.5\" y=\"-925.8\" font-family=\"Helvetica,sans-Serif\" font-size=\"14.00\">samples = 9</text>\n<text text-anchor=\"middle\" x=\"844.5\" y=\"-910.8\" font-family=\"Helvetica,sans-Serif\" font-size=\"14.00\">value = [6, 3]</text>\n<text text-anchor=\"middle\" x=\"844.5\" y=\"-895.8\" font-family=\"Helvetica,sans-Serif\" font-size=\"14.00\">class = 0</text>\n</g>\n<!-- 4&#45;&gt;6 -->\n<g id=\"edge6\" class=\"edge\">\n<title>4&#45;&gt;6</title>\n<path fill=\"none\" stroke=\"black\" d=\"M756.04,-922C765.71,-922 775.74,-922 785.4,-922\"/>\n<polygon fill=\"black\" stroke=\"black\" points=\"785.7,-925.5 795.7,-922 785.7,-918.5 785.7,-925.5\"/>\n</g>\n<!-- 8 -->\n<g id=\"node9\" class=\"node\">\n<title>8</title>\n<path fill=\"#eeab7b\" stroke=\"black\" d=\"M884,-870C884,-870 805,-870 805,-870 799,-870 793,-864 793,-858 793,-858 793,-814 793,-814 793,-808 799,-802 805,-802 805,-802 884,-802 884,-802 890,-802 896,-808 896,-814 896,-814 896,-858 896,-858 896,-864 890,-870 884,-870\"/>\n<text text-anchor=\"middle\" x=\"844.5\" y=\"-854.8\" font-family=\"Helvetica,sans-Serif\" font-size=\"14.00\">gini = 0.375</text>\n<text text-anchor=\"middle\" x=\"844.5\" y=\"-839.8\" font-family=\"Helvetica,sans-Serif\" font-size=\"14.00\">samples = 12</text>\n<text text-anchor=\"middle\" x=\"844.5\" y=\"-824.8\" font-family=\"Helvetica,sans-Serif\" font-size=\"14.00\">value = [9, 3]</text>\n<text text-anchor=\"middle\" x=\"844.5\" y=\"-809.8\" font-family=\"Helvetica,sans-Serif\" font-size=\"14.00\">class = 0</text>\n</g>\n<!-- 7&#45;&gt;8 -->\n<g id=\"edge8\" class=\"edge\">\n<title>7&#45;&gt;8</title>\n<path fill=\"none\" stroke=\"black\" d=\"M756.04,-806.05C765.01,-809.12 774.29,-812.3 783.3,-815.38\"/>\n<polygon fill=\"black\" stroke=\"black\" points=\"782.34,-818.76 792.94,-818.68 784.61,-812.13 782.34,-818.76\"/>\n</g>\n<!-- 9 -->\n<g id=\"node10\" class=\"node\">\n<title>9</title>\n<path fill=\"#e99355\" stroke=\"black\" d=\"M881,-784C881,-784 808,-784 808,-784 802,-784 796,-778 796,-772 796,-772 796,-728 796,-728 796,-722 802,-716 808,-716 808,-716 881,-716 881,-716 887,-716 893,-722 893,-728 893,-728 893,-772 893,-772 893,-778 887,-784 881,-784\"/>\n<text text-anchor=\"middle\" x=\"844.5\" y=\"-768.8\" font-family=\"Helvetica,sans-Serif\" font-size=\"14.00\">gini = 0.219</text>\n<text text-anchor=\"middle\" x=\"844.5\" y=\"-753.8\" font-family=\"Helvetica,sans-Serif\" font-size=\"14.00\">samples = 8</text>\n<text text-anchor=\"middle\" x=\"844.5\" y=\"-738.8\" font-family=\"Helvetica,sans-Serif\" font-size=\"14.00\">value = [7, 1]</text>\n<text text-anchor=\"middle\" x=\"844.5\" y=\"-723.8\" font-family=\"Helvetica,sans-Serif\" font-size=\"14.00\">class = 0</text>\n</g>\n<!-- 7&#45;&gt;9 -->\n<g id=\"edge9\" class=\"edge\">\n<title>7&#45;&gt;9</title>\n<path fill=\"none\" stroke=\"black\" d=\"M756.04,-771.56C765.82,-769.15 775.95,-766.66 785.71,-764.25\"/>\n<polygon fill=\"black\" stroke=\"black\" points=\"786.83,-767.58 795.7,-761.79 785.16,-760.78 786.83,-767.58\"/>\n</g>\n<!-- 11 -->\n<g id=\"node12\" class=\"node\">\n<title>11</title>\n<path fill=\"#e6843e\" stroke=\"black\" d=\"M744,-634.5C744,-634.5 649,-634.5 649,-634.5 643,-634.5 637,-628.5 637,-622.5 637,-622.5 637,-563.5 637,-563.5 637,-557.5 643,-551.5 649,-551.5 649,-551.5 744,-551.5 744,-551.5 750,-551.5 756,-557.5 756,-563.5 756,-563.5 756,-622.5 756,-622.5 756,-628.5 750,-634.5 744,-634.5\"/>\n<text text-anchor=\"middle\" x=\"696.5\" y=\"-619.3\" font-family=\"Helvetica,sans-Serif\" font-size=\"14.00\">кр_карта &lt;= 0.5</text>\n<text text-anchor=\"middle\" x=\"696.5\" y=\"-604.3\" font-family=\"Helvetica,sans-Serif\" font-size=\"14.00\">gini = 0.048</text>\n<text text-anchor=\"middle\" x=\"696.5\" y=\"-589.3\" font-family=\"Helvetica,sans-Serif\" font-size=\"14.00\">samples = 82</text>\n<text text-anchor=\"middle\" x=\"696.5\" y=\"-574.3\" font-family=\"Helvetica,sans-Serif\" font-size=\"14.00\">value = [80, 2]</text>\n<text text-anchor=\"middle\" x=\"696.5\" y=\"-559.3\" font-family=\"Helvetica,sans-Serif\" font-size=\"14.00\">class = 0</text>\n</g>\n<!-- 10&#45;&gt;11 -->\n<g id=\"edge11\" class=\"edge\">\n<title>10&#45;&gt;11</title>\n<path fill=\"none\" stroke=\"black\" d=\"M598.17,-586.64C607.39,-587.24 617.05,-587.87 626.56,-588.49\"/>\n<polygon fill=\"black\" stroke=\"black\" points=\"626.57,-592 636.78,-589.16 627.03,-585.02 626.57,-592\"/>\n</g>\n<!-- 14 -->\n<g id=\"node15\" class=\"node\">\n<title>14</title>\n<path fill=\"#e78946\" stroke=\"black\" d=\"M744,-533.5C744,-533.5 649,-533.5 649,-533.5 643,-533.5 637,-527.5 637,-521.5 637,-521.5 637,-462.5 637,-462.5 637,-456.5 643,-450.5 649,-450.5 649,-450.5 744,-450.5 744,-450.5 750,-450.5 756,-456.5 756,-462.5 756,-462.5 756,-521.5 756,-521.5 756,-527.5 750,-533.5 744,-533.5\"/>\n<text text-anchor=\"middle\" x=\"696.5\" y=\"-518.3\" font-family=\"Helvetica,sans-Serif\" font-size=\"14.00\">кр_карта &lt;= 0.5</text>\n<text text-anchor=\"middle\" x=\"696.5\" y=\"-503.3\" font-family=\"Helvetica,sans-Serif\" font-size=\"14.00\">gini = 0.114</text>\n<text text-anchor=\"middle\" x=\"696.5\" y=\"-488.3\" font-family=\"Helvetica,sans-Serif\" font-size=\"14.00\">samples = 33</text>\n<text text-anchor=\"middle\" x=\"696.5\" y=\"-473.3\" font-family=\"Helvetica,sans-Serif\" font-size=\"14.00\">value = [31, 2]</text>\n<text text-anchor=\"middle\" x=\"696.5\" y=\"-458.3\" font-family=\"Helvetica,sans-Serif\" font-size=\"14.00\">class = 0</text>\n</g>\n<!-- 10&#45;&gt;14 -->\n<g id=\"edge14\" class=\"edge\">\n<title>10&#45;&gt;14</title>\n<path fill=\"none\" stroke=\"black\" d=\"M598.17,-549.89C607.88,-544.11 618.08,-538.05 628.07,-532.1\"/>\n<polygon fill=\"black\" stroke=\"black\" points=\"629.98,-535.04 636.78,-526.92 626.4,-529.03 629.98,-535.04\"/>\n</g>\n<!-- 12 -->\n<g id=\"node13\" class=\"node\">\n<title>12</title>\n<path fill=\"#e6843e\" stroke=\"black\" d=\"M885,-698C885,-698 804,-698 804,-698 798,-698 792,-692 792,-686 792,-686 792,-642 792,-642 792,-636 798,-630 804,-630 804,-630 885,-630 885,-630 891,-630 897,-636 897,-642 897,-642 897,-686 897,-686 897,-692 891,-698 885,-698\"/>\n<text text-anchor=\"middle\" x=\"844.5\" y=\"-682.8\" font-family=\"Helvetica,sans-Serif\" font-size=\"14.00\">gini = 0.049</text>\n<text text-anchor=\"middle\" x=\"844.5\" y=\"-667.8\" font-family=\"Helvetica,sans-Serif\" font-size=\"14.00\">samples = 40</text>\n<text text-anchor=\"middle\" x=\"844.5\" y=\"-652.8\" font-family=\"Helvetica,sans-Serif\" font-size=\"14.00\">value = [39, 1]</text>\n<text text-anchor=\"middle\" x=\"844.5\" y=\"-637.8\" font-family=\"Helvetica,sans-Serif\" font-size=\"14.00\">class = 0</text>\n</g>\n<!-- 11&#45;&gt;12 -->\n<g id=\"edge12\" class=\"edge\">\n<title>11&#45;&gt;12</title>\n<path fill=\"none\" stroke=\"black\" d=\"M756.04,-621.47C764.76,-625.71 773.76,-630.08 782.52,-634.35\"/>\n<polygon fill=\"black\" stroke=\"black\" points=\"781.02,-637.51 791.54,-638.73 784.08,-631.21 781.02,-637.51\"/>\n</g>\n<!-- 13 -->\n<g id=\"node14\" class=\"node\">\n<title>13</title>\n<path fill=\"#e6843e\" stroke=\"black\" d=\"M885,-612C885,-612 804,-612 804,-612 798,-612 792,-606 792,-600 792,-600 792,-556 792,-556 792,-550 798,-544 804,-544 804,-544 885,-544 885,-544 891,-544 897,-550 897,-556 897,-556 897,-600 897,-600 897,-606 891,-612 885,-612\"/>\n<text text-anchor=\"middle\" x=\"844.5\" y=\"-596.8\" font-family=\"Helvetica,sans-Serif\" font-size=\"14.00\">gini = 0.046</text>\n<text text-anchor=\"middle\" x=\"844.5\" y=\"-581.8\" font-family=\"Helvetica,sans-Serif\" font-size=\"14.00\">samples = 42</text>\n<text text-anchor=\"middle\" x=\"844.5\" y=\"-566.8\" font-family=\"Helvetica,sans-Serif\" font-size=\"14.00\">value = [41, 1]</text>\n<text text-anchor=\"middle\" x=\"844.5\" y=\"-551.8\" font-family=\"Helvetica,sans-Serif\" font-size=\"14.00\">class = 0</text>\n</g>\n<!-- 11&#45;&gt;13 -->\n<g id=\"edge13\" class=\"edge\">\n<title>11&#45;&gt;13</title>\n<path fill=\"none\" stroke=\"black\" d=\"M756.04,-586.99C764.39,-586.13 773,-585.24 781.41,-584.38\"/>\n<polygon fill=\"black\" stroke=\"black\" points=\"781.95,-587.84 791.54,-583.34 781.24,-580.88 781.95,-587.84\"/>\n</g>\n<!-- 15 -->\n<g id=\"node16\" class=\"node\">\n<title>15</title>\n<path fill=\"#e78d4c\" stroke=\"black\" d=\"M885,-526C885,-526 804,-526 804,-526 798,-526 792,-520 792,-514 792,-514 792,-470 792,-470 792,-464 798,-458 804,-458 804,-458 885,-458 885,-458 891,-458 897,-464 897,-470 897,-470 897,-514 897,-514 897,-520 891,-526 885,-526\"/>\n<text text-anchor=\"middle\" x=\"844.5\" y=\"-510.8\" font-family=\"Helvetica,sans-Serif\" font-size=\"14.00\">gini = 0.159</text>\n<text text-anchor=\"middle\" x=\"844.5\" y=\"-495.8\" font-family=\"Helvetica,sans-Serif\" font-size=\"14.00\">samples = 23</text>\n<text text-anchor=\"middle\" x=\"844.5\" y=\"-480.8\" font-family=\"Helvetica,sans-Serif\" font-size=\"14.00\">value = [21, 2]</text>\n<text text-anchor=\"middle\" x=\"844.5\" y=\"-465.8\" font-family=\"Helvetica,sans-Serif\" font-size=\"14.00\">class = 0</text>\n</g>\n<!-- 14&#45;&gt;15 -->\n<g id=\"edge15\" class=\"edge\">\n<title>14&#45;&gt;15</title>\n<path fill=\"none\" stroke=\"black\" d=\"M756.04,-492C764.39,-492 773,-492 781.41,-492\"/>\n<polygon fill=\"black\" stroke=\"black\" points=\"781.54,-495.5 791.54,-492 781.54,-488.5 781.54,-495.5\"/>\n</g>\n<!-- 16 -->\n<g id=\"node17\" class=\"node\">\n<title>16</title>\n<path fill=\"#e58139\" stroke=\"black\" d=\"M885,-440C885,-440 804,-440 804,-440 798,-440 792,-434 792,-428 792,-428 792,-384 792,-384 792,-378 798,-372 804,-372 804,-372 885,-372 885,-372 891,-372 897,-378 897,-384 897,-384 897,-428 897,-428 897,-434 891,-440 885,-440\"/>\n<text text-anchor=\"middle\" x=\"844.5\" y=\"-424.8\" font-family=\"Helvetica,sans-Serif\" font-size=\"14.00\">gini = 0.0</text>\n<text text-anchor=\"middle\" x=\"844.5\" y=\"-409.8\" font-family=\"Helvetica,sans-Serif\" font-size=\"14.00\">samples = 10</text>\n<text text-anchor=\"middle\" x=\"844.5\" y=\"-394.8\" font-family=\"Helvetica,sans-Serif\" font-size=\"14.00\">value = [10, 0]</text>\n<text text-anchor=\"middle\" x=\"844.5\" y=\"-379.8\" font-family=\"Helvetica,sans-Serif\" font-size=\"14.00\">class = 0</text>\n</g>\n<!-- 14&#45;&gt;16 -->\n<g id=\"edge16\" class=\"edge\">\n<title>14&#45;&gt;16</title>\n<path fill=\"none\" stroke=\"black\" d=\"M756.04,-457.52C764.85,-452.33 773.95,-446.97 782.8,-441.76\"/>\n<polygon fill=\"black\" stroke=\"black\" points=\"784.7,-444.7 791.54,-436.6 781.15,-438.66 784.7,-444.7\"/>\n</g>\n<!-- 19 -->\n<g id=\"node20\" class=\"node\">\n<title>19</title>\n<path fill=\"#f7fbfe\" stroke=\"black\" d=\"M429.5,-399.5C429.5,-399.5 340.5,-399.5 340.5,-399.5 334.5,-399.5 328.5,-393.5 328.5,-387.5 328.5,-387.5 328.5,-328.5 328.5,-328.5 328.5,-322.5 334.5,-316.5 340.5,-316.5 340.5,-316.5 429.5,-316.5 429.5,-316.5 435.5,-316.5 441.5,-322.5 441.5,-328.5 441.5,-328.5 441.5,-387.5 441.5,-387.5 441.5,-393.5 435.5,-399.5 429.5,-399.5\"/>\n<text text-anchor=\"middle\" x=\"385\" y=\"-384.3\" font-family=\"Helvetica,sans-Serif\" font-size=\"14.00\">клаcс &lt;= 2.5</text>\n<text text-anchor=\"middle\" x=\"385\" y=\"-369.3\" font-family=\"Helvetica,sans-Serif\" font-size=\"14.00\">gini = 0.5</text>\n<text text-anchor=\"middle\" x=\"385\" y=\"-354.3\" font-family=\"Helvetica,sans-Serif\" font-size=\"14.00\">samples = 49</text>\n<text text-anchor=\"middle\" x=\"385\" y=\"-339.3\" font-family=\"Helvetica,sans-Serif\" font-size=\"14.00\">value = [24, 25]</text>\n<text text-anchor=\"middle\" x=\"385\" y=\"-324.3\" font-family=\"Helvetica,sans-Serif\" font-size=\"14.00\">class = 1</text>\n</g>\n<!-- 18&#45;&gt;19 -->\n<g id=\"edge19\" class=\"edge\">\n<title>18&#45;&gt;19</title>\n<path fill=\"none\" stroke=\"black\" d=\"M288.31,-358C298.11,-358 308.31,-358 318.23,-358\"/>\n<polygon fill=\"black\" stroke=\"black\" points=\"318.44,-361.5 328.44,-358 318.44,-354.5 318.44,-361.5\"/>\n</g>\n<!-- 24 -->\n<g id=\"node25\" class=\"node\">\n<title>24</title>\n<path fill=\"#3b9ee5\" stroke=\"black\" d=\"M429.5,-259.5C429.5,-259.5 340.5,-259.5 340.5,-259.5 334.5,-259.5 328.5,-253.5 328.5,-247.5 328.5,-247.5 328.5,-188.5 328.5,-188.5 328.5,-182.5 334.5,-176.5 340.5,-176.5 340.5,-176.5 429.5,-176.5 429.5,-176.5 435.5,-176.5 441.5,-182.5 441.5,-188.5 441.5,-188.5 441.5,-247.5 441.5,-247.5 441.5,-253.5 435.5,-259.5 429.5,-259.5\"/>\n<text text-anchor=\"middle\" x=\"385\" y=\"-244.3\" font-family=\"Helvetica,sans-Serif\" font-size=\"14.00\">возраст &lt;= 2.5</text>\n<text text-anchor=\"middle\" x=\"385\" y=\"-229.3\" font-family=\"Helvetica,sans-Serif\" font-size=\"14.00\">gini = 0.018</text>\n<text text-anchor=\"middle\" x=\"385\" y=\"-214.3\" font-family=\"Helvetica,sans-Serif\" font-size=\"14.00\">samples = 109</text>\n<text text-anchor=\"middle\" x=\"385\" y=\"-199.3\" font-family=\"Helvetica,sans-Serif\" font-size=\"14.00\">value = [1, 108]</text>\n<text text-anchor=\"middle\" x=\"385\" y=\"-184.3\" font-family=\"Helvetica,sans-Serif\" font-size=\"14.00\">class = 1</text>\n</g>\n<!-- 18&#45;&gt;24 -->\n<g id=\"edge24\" class=\"edge\">\n<title>18&#45;&gt;24</title>\n<path fill=\"none\" stroke=\"black\" d=\"M274.38,-316.37C291.83,-300.72 311.82,-282.78 329.9,-266.55\"/>\n<polygon fill=\"black\" stroke=\"black\" points=\"332.42,-268.99 337.53,-259.71 327.75,-263.78 332.42,-268.99\"/>\n</g>\n<!-- 20 -->\n<g id=\"node21\" class=\"node\">\n<title>20</title>\n<path fill=\"#fae5d6\" stroke=\"black\" d=\"M589,-439.5C589,-439.5 494,-439.5 494,-439.5 488,-439.5 482,-433.5 482,-427.5 482,-427.5 482,-368.5 482,-368.5 482,-362.5 488,-356.5 494,-356.5 494,-356.5 589,-356.5 589,-356.5 595,-356.5 601,-362.5 601,-368.5 601,-368.5 601,-427.5 601,-427.5 601,-433.5 595,-439.5 589,-439.5\"/>\n<text text-anchor=\"middle\" x=\"541.5\" y=\"-424.3\" font-family=\"Helvetica,sans-Serif\" font-size=\"14.00\">кр_карта &lt;= 0.5</text>\n<text text-anchor=\"middle\" x=\"541.5\" y=\"-409.3\" font-family=\"Helvetica,sans-Serif\" font-size=\"14.00\">gini = 0.493</text>\n<text text-anchor=\"middle\" x=\"541.5\" y=\"-394.3\" font-family=\"Helvetica,sans-Serif\" font-size=\"14.00\">samples = 43</text>\n<text text-anchor=\"middle\" x=\"541.5\" y=\"-379.3\" font-family=\"Helvetica,sans-Serif\" font-size=\"14.00\">value = [24, 19]</text>\n<text text-anchor=\"middle\" x=\"541.5\" y=\"-364.3\" font-family=\"Helvetica,sans-Serif\" font-size=\"14.00\">class = 0</text>\n</g>\n<!-- 19&#45;&gt;20 -->\n<g id=\"edge20\" class=\"edge\">\n<title>19&#45;&gt;20</title>\n<path fill=\"none\" stroke=\"black\" d=\"M441.78,-372.44C451.57,-374.98 461.86,-377.64 471.94,-380.25\"/>\n<polygon fill=\"black\" stroke=\"black\" points=\"471.38,-383.72 481.94,-382.84 473.14,-376.94 471.38,-383.72\"/>\n</g>\n<!-- 23 -->\n<g id=\"node24\" class=\"node\">\n<title>23</title>\n<path fill=\"#399de5\" stroke=\"black\" d=\"M578,-338C578,-338 505,-338 505,-338 499,-338 493,-332 493,-326 493,-326 493,-282 493,-282 493,-276 499,-270 505,-270 505,-270 578,-270 578,-270 584,-270 590,-276 590,-282 590,-282 590,-326 590,-326 590,-332 584,-338 578,-338\"/>\n<text text-anchor=\"middle\" x=\"541.5\" y=\"-322.8\" font-family=\"Helvetica,sans-Serif\" font-size=\"14.00\">gini = 0.0</text>\n<text text-anchor=\"middle\" x=\"541.5\" y=\"-307.8\" font-family=\"Helvetica,sans-Serif\" font-size=\"14.00\">samples = 6</text>\n<text text-anchor=\"middle\" x=\"541.5\" y=\"-292.8\" font-family=\"Helvetica,sans-Serif\" font-size=\"14.00\">value = [0, 6]</text>\n<text text-anchor=\"middle\" x=\"541.5\" y=\"-277.8\" font-family=\"Helvetica,sans-Serif\" font-size=\"14.00\">class = 1</text>\n</g>\n<!-- 19&#45;&gt;23 -->\n<g id=\"edge23\" class=\"edge\">\n<title>19&#45;&gt;23</title>\n<path fill=\"none\" stroke=\"black\" d=\"M441.78,-338.5C455.27,-333.79 469.71,-328.74 483.27,-324\"/>\n<polygon fill=\"black\" stroke=\"black\" points=\"484.68,-327.22 492.96,-320.61 482.37,-320.61 484.68,-327.22\"/>\n</g>\n<!-- 21 -->\n<g id=\"node22\" class=\"node\">\n<title>21</title>\n<path fill=\"#fae6d7\" stroke=\"black\" d=\"M737,-432C737,-432 656,-432 656,-432 650,-432 644,-426 644,-420 644,-420 644,-376 644,-376 644,-370 650,-364 656,-364 656,-364 737,-364 737,-364 743,-364 749,-370 749,-376 749,-376 749,-420 749,-420 749,-426 743,-432 737,-432\"/>\n<text text-anchor=\"middle\" x=\"696.5\" y=\"-416.8\" font-family=\"Helvetica,sans-Serif\" font-size=\"14.00\">gini = 0.494</text>\n<text text-anchor=\"middle\" x=\"696.5\" y=\"-401.8\" font-family=\"Helvetica,sans-Serif\" font-size=\"14.00\">samples = 18</text>\n<text text-anchor=\"middle\" x=\"696.5\" y=\"-386.8\" font-family=\"Helvetica,sans-Serif\" font-size=\"14.00\">value = [10, 8]</text>\n<text text-anchor=\"middle\" x=\"696.5\" y=\"-371.8\" font-family=\"Helvetica,sans-Serif\" font-size=\"14.00\">class = 0</text>\n</g>\n<!-- 20&#45;&gt;21 -->\n<g id=\"edge21\" class=\"edge\">\n<title>20&#45;&gt;21</title>\n<path fill=\"none\" stroke=\"black\" d=\"M601.22,-398C611.82,-398 622.9,-398 633.59,-398\"/>\n<polygon fill=\"black\" stroke=\"black\" points=\"633.69,-401.5 643.69,-398 633.69,-394.5 633.69,-401.5\"/>\n</g>\n<!-- 22 -->\n<g id=\"node23\" class=\"node\">\n<title>22</title>\n<path fill=\"#f9e4d5\" stroke=\"black\" d=\"M741,-346C741,-346 652,-346 652,-346 646,-346 640,-340 640,-334 640,-334 640,-290 640,-290 640,-284 646,-278 652,-278 652,-278 741,-278 741,-278 747,-278 753,-284 753,-290 753,-290 753,-334 753,-334 753,-340 747,-346 741,-346\"/>\n<text text-anchor=\"middle\" x=\"696.5\" y=\"-330.8\" font-family=\"Helvetica,sans-Serif\" font-size=\"14.00\">gini = 0.493</text>\n<text text-anchor=\"middle\" x=\"696.5\" y=\"-315.8\" font-family=\"Helvetica,sans-Serif\" font-size=\"14.00\">samples = 25</text>\n<text text-anchor=\"middle\" x=\"696.5\" y=\"-300.8\" font-family=\"Helvetica,sans-Serif\" font-size=\"14.00\">value = [14, 11]</text>\n<text text-anchor=\"middle\" x=\"696.5\" y=\"-285.8\" font-family=\"Helvetica,sans-Serif\" font-size=\"14.00\">class = 0</text>\n</g>\n<!-- 20&#45;&gt;22 -->\n<g id=\"edge22\" class=\"edge\">\n<title>20&#45;&gt;22</title>\n<path fill=\"none\" stroke=\"black\" d=\"M601.22,-365C610.96,-359.52 621.11,-353.81 630.99,-348.26\"/>\n<polygon fill=\"black\" stroke=\"black\" points=\"632.96,-351.17 639.96,-343.22 629.53,-345.07 632.96,-351.17\"/>\n</g>\n<!-- 25 -->\n<g id=\"node26\" class=\"node\">\n<title>25</title>\n<path fill=\"#399de5\" stroke=\"black\" d=\"M582,-252C582,-252 501,-252 501,-252 495,-252 489,-246 489,-240 489,-240 489,-196 489,-196 489,-190 495,-184 501,-184 501,-184 582,-184 582,-184 588,-184 594,-190 594,-196 594,-196 594,-240 594,-240 594,-246 588,-252 582,-252\"/>\n<text text-anchor=\"middle\" x=\"541.5\" y=\"-236.8\" font-family=\"Helvetica,sans-Serif\" font-size=\"14.00\">gini = 0.0</text>\n<text text-anchor=\"middle\" x=\"541.5\" y=\"-221.8\" font-family=\"Helvetica,sans-Serif\" font-size=\"14.00\">samples = 59</text>\n<text text-anchor=\"middle\" x=\"541.5\" y=\"-206.8\" font-family=\"Helvetica,sans-Serif\" font-size=\"14.00\">value = [0, 59]</text>\n<text text-anchor=\"middle\" x=\"541.5\" y=\"-191.8\" font-family=\"Helvetica,sans-Serif\" font-size=\"14.00\">class = 1</text>\n</g>\n<!-- 24&#45;&gt;25 -->\n<g id=\"edge25\" class=\"edge\">\n<title>24&#45;&gt;25</title>\n<path fill=\"none\" stroke=\"black\" d=\"M441.78,-218C453.8,-218 466.57,-218 478.8,-218\"/>\n<polygon fill=\"black\" stroke=\"black\" points=\"478.92,-221.5 488.92,-218 478.92,-214.5 478.92,-221.5\"/>\n</g>\n<!-- 26 -->\n<g id=\"node27\" class=\"node\">\n<title>26</title>\n<path fill=\"#3d9fe6\" stroke=\"black\" d=\"M589,-165.5C589,-165.5 494,-165.5 494,-165.5 488,-165.5 482,-159.5 482,-153.5 482,-153.5 482,-94.5 482,-94.5 482,-88.5 488,-82.5 494,-82.5 494,-82.5 589,-82.5 589,-82.5 595,-82.5 601,-88.5 601,-94.5 601,-94.5 601,-153.5 601,-153.5 601,-159.5 595,-165.5 589,-165.5\"/>\n<text text-anchor=\"middle\" x=\"541.5\" y=\"-150.3\" font-family=\"Helvetica,sans-Serif\" font-size=\"14.00\">кр_карта &lt;= 0.5</text>\n<text text-anchor=\"middle\" x=\"541.5\" y=\"-135.3\" font-family=\"Helvetica,sans-Serif\" font-size=\"14.00\">gini = 0.039</text>\n<text text-anchor=\"middle\" x=\"541.5\" y=\"-120.3\" font-family=\"Helvetica,sans-Serif\" font-size=\"14.00\">samples = 50</text>\n<text text-anchor=\"middle\" x=\"541.5\" y=\"-105.3\" font-family=\"Helvetica,sans-Serif\" font-size=\"14.00\">value = [1, 49]</text>\n<text text-anchor=\"middle\" x=\"541.5\" y=\"-90.3\" font-family=\"Helvetica,sans-Serif\" font-size=\"14.00\">class = 1</text>\n</g>\n<!-- 24&#45;&gt;26 -->\n<g id=\"edge26\" class=\"edge\">\n<title>24&#45;&gt;26</title>\n<path fill=\"none\" stroke=\"black\" d=\"M441.78,-184.06C451.97,-177.86 462.71,-171.33 473.2,-164.94\"/>\n<polygon fill=\"black\" stroke=\"black\" points=\"475.21,-167.82 481.94,-159.63 471.58,-161.84 475.21,-167.82\"/>\n</g>\n<!-- 27 -->\n<g id=\"node28\" class=\"node\">\n<title>27</title>\n<path fill=\"#399de5\" stroke=\"black\" d=\"M737,-205C737,-205 656,-205 656,-205 650,-205 644,-199 644,-193 644,-193 644,-149 644,-149 644,-143 650,-137 656,-137 656,-137 737,-137 737,-137 743,-137 749,-143 749,-149 749,-149 749,-193 749,-193 749,-199 743,-205 737,-205\"/>\n<text text-anchor=\"middle\" x=\"696.5\" y=\"-189.8\" font-family=\"Helvetica,sans-Serif\" font-size=\"14.00\">gini = 0.0</text>\n<text text-anchor=\"middle\" x=\"696.5\" y=\"-174.8\" font-family=\"Helvetica,sans-Serif\" font-size=\"14.00\">samples = 28</text>\n<text text-anchor=\"middle\" x=\"696.5\" y=\"-159.8\" font-family=\"Helvetica,sans-Serif\" font-size=\"14.00\">value = [0, 28]</text>\n<text text-anchor=\"middle\" x=\"696.5\" y=\"-144.8\" font-family=\"Helvetica,sans-Serif\" font-size=\"14.00\">class = 1</text>\n</g>\n<!-- 26&#45;&gt;27 -->\n<g id=\"edge27\" class=\"edge\">\n<title>26&#45;&gt;27</title>\n<path fill=\"none\" stroke=\"black\" d=\"M601.22,-142.04C611.93,-145.33 623.13,-148.77 633.92,-152.08\"/>\n<polygon fill=\"black\" stroke=\"black\" points=\"633.1,-155.49 643.69,-155.08 635.16,-148.8 633.1,-155.49\"/>\n</g>\n<!-- 28 -->\n<g id=\"node29\" class=\"node\">\n<title>28</title>\n<path fill=\"#42a2e6\" stroke=\"black\" d=\"M737,-118.5C737,-118.5 656,-118.5 656,-118.5 650,-118.5 644,-112.5 644,-106.5 644,-106.5 644,-47.5 644,-47.5 644,-41.5 650,-35.5 656,-35.5 656,-35.5 737,-35.5 737,-35.5 743,-35.5 749,-41.5 749,-47.5 749,-47.5 749,-106.5 749,-106.5 749,-112.5 743,-118.5 737,-118.5\"/>\n<text text-anchor=\"middle\" x=\"696.5\" y=\"-103.3\" font-family=\"Helvetica,sans-Serif\" font-size=\"14.00\">клаcс &lt;= 1.5</text>\n<text text-anchor=\"middle\" x=\"696.5\" y=\"-88.3\" font-family=\"Helvetica,sans-Serif\" font-size=\"14.00\">gini = 0.087</text>\n<text text-anchor=\"middle\" x=\"696.5\" y=\"-73.3\" font-family=\"Helvetica,sans-Serif\" font-size=\"14.00\">samples = 22</text>\n<text text-anchor=\"middle\" x=\"696.5\" y=\"-58.3\" font-family=\"Helvetica,sans-Serif\" font-size=\"14.00\">value = [1, 21]</text>\n<text text-anchor=\"middle\" x=\"696.5\" y=\"-43.3\" font-family=\"Helvetica,sans-Serif\" font-size=\"14.00\">class = 1</text>\n</g>\n<!-- 26&#45;&gt;28 -->\n<g id=\"edge28\" class=\"edge\">\n<title>26&#45;&gt;28</title>\n<path fill=\"none\" stroke=\"black\" d=\"M601.22,-105.96C611.93,-102.67 623.13,-99.23 633.92,-95.92\"/>\n<polygon fill=\"black\" stroke=\"black\" points=\"635.16,-99.2 643.69,-92.92 633.1,-92.51 635.16,-99.2\"/>\n</g>\n<!-- 29 -->\n<g id=\"node30\" class=\"node\">\n<title>29</title>\n<path fill=\"#399de5\" stroke=\"black\" d=\"M885,-154C885,-154 804,-154 804,-154 798,-154 792,-148 792,-142 792,-142 792,-98 792,-98 792,-92 798,-86 804,-86 804,-86 885,-86 885,-86 891,-86 897,-92 897,-98 897,-98 897,-142 897,-142 897,-148 891,-154 885,-154\"/>\n<text text-anchor=\"middle\" x=\"844.5\" y=\"-138.8\" font-family=\"Helvetica,sans-Serif\" font-size=\"14.00\">gini = 0.0</text>\n<text text-anchor=\"middle\" x=\"844.5\" y=\"-123.8\" font-family=\"Helvetica,sans-Serif\" font-size=\"14.00\">samples = 10</text>\n<text text-anchor=\"middle\" x=\"844.5\" y=\"-108.8\" font-family=\"Helvetica,sans-Serif\" font-size=\"14.00\">value = [0, 10]</text>\n<text text-anchor=\"middle\" x=\"844.5\" y=\"-93.8\" font-family=\"Helvetica,sans-Serif\" font-size=\"14.00\">class = 1</text>\n</g>\n<!-- 28&#45;&gt;29 -->\n<g id=\"edge29\" class=\"edge\">\n<title>28&#45;&gt;29</title>\n<path fill=\"none\" stroke=\"black\" d=\"M749.39,-92.28C759.93,-95.39 771.11,-98.68 781.95,-101.87\"/>\n<polygon fill=\"black\" stroke=\"black\" points=\"781.2,-105.3 791.78,-104.77 783.18,-98.59 781.2,-105.3\"/>\n</g>\n<!-- 30 -->\n<g id=\"node31\" class=\"node\">\n<title>30</title>\n<path fill=\"#4ba6e7\" stroke=\"black\" d=\"M885,-68C885,-68 804,-68 804,-68 798,-68 792,-62 792,-56 792,-56 792,-12 792,-12 792,-6 798,0 804,0 804,0 885,0 885,0 891,0 897,-6 897,-12 897,-12 897,-56 897,-56 897,-62 891,-68 885,-68\"/>\n<text text-anchor=\"middle\" x=\"844.5\" y=\"-52.8\" font-family=\"Helvetica,sans-Serif\" font-size=\"14.00\">gini = 0.153</text>\n<text text-anchor=\"middle\" x=\"844.5\" y=\"-37.8\" font-family=\"Helvetica,sans-Serif\" font-size=\"14.00\">samples = 12</text>\n<text text-anchor=\"middle\" x=\"844.5\" y=\"-22.8\" font-family=\"Helvetica,sans-Serif\" font-size=\"14.00\">value = [1, 11]</text>\n<text text-anchor=\"middle\" x=\"844.5\" y=\"-7.8\" font-family=\"Helvetica,sans-Serif\" font-size=\"14.00\">class = 1</text>\n</g>\n<!-- 28&#45;&gt;30 -->\n<g id=\"edge30\" class=\"edge\">\n<title>28&#45;&gt;30</title>\n<path fill=\"none\" stroke=\"black\" d=\"M749.39,-61.72C759.93,-58.61 771.11,-55.32 781.95,-52.13\"/>\n<polygon fill=\"black\" stroke=\"black\" points=\"783.18,-55.41 791.78,-49.23 781.2,-48.7 783.18,-55.41\"/>\n</g>\n</g>\n</svg>\n",
      "text/plain": [
       "<graphviz.sources.Source at 0x1a1de2fad00>"
      ]
     },
     "execution_count": 14,
     "metadata": {},
     "output_type": "execute_result"
    }
   ],
   "source": [
    "from IPython.display import Image\n",
    "from sklearn.tree import export_graphviz\n",
    "from subprocess import CalledProcessError\n",
    "import graphviz\n",
    "\n",
    "dot_data=export_graphviz(model, \n",
    "                        feature_names=x.columns, \n",
    "                        class_names=list(map(str,y.index.to_list())),\n",
    "                        rounded=True,\n",
    "                        filled=True,\n",
    "                        rotate=True)\n",
    "graph = graphviz.Source(dot_data, format=\"png\")     \n",
    "graph\n"
   ]
  },
  {
   "cell_type": "markdown",
   "metadata": {},
   "source": [
    "Модель позволяет оценить ценность каждой фичи в смысле её эффективности для разбиения (Gini importance). Эта оценка считает для каждой из фич сумму дельт по impurity (нормированную), полученных при разбиениях по этой фиче. Для этого у модели есть метод ```feature_importances_```.\n",
    "'feature' преставляет собой заголовки столбцов, 'importance'- оценка эффективности разбиения (чему равна сумма?)"
   ]
  },
  {
   "cell_type": "code",
   "execution_count": 17,
   "metadata": {},
   "outputs": [
    {
     "data": {
      "text/html": [
       "<div>\n",
       "<style scoped>\n",
       "    .dataframe tbody tr th:only-of-type {\n",
       "        vertical-align: middle;\n",
       "    }\n",
       "\n",
       "    .dataframe tbody tr th {\n",
       "        vertical-align: top;\n",
       "    }\n",
       "\n",
       "    .dataframe thead th {\n",
       "        text-align: right;\n",
       "    }\n",
       "</style>\n",
       "<table border=\"1\" class=\"dataframe\">\n",
       "  <thead>\n",
       "    <tr style=\"text-align: right;\">\n",
       "      <th></th>\n",
       "      <th>feature</th>\n",
       "      <th>importance</th>\n",
       "    </tr>\n",
       "  </thead>\n",
       "  <tbody>\n",
       "    <tr>\n",
       "      <th>1</th>\n",
       "      <td>з_плата</td>\n",
       "      <td>0.706473</td>\n",
       "    </tr>\n",
       "    <tr>\n",
       "      <th>2</th>\n",
       "      <td>возраст</td>\n",
       "      <td>0.234163</td>\n",
       "    </tr>\n",
       "    <tr>\n",
       "      <th>0</th>\n",
       "      <td>клаcс</td>\n",
       "      <td>0.056472</td>\n",
       "    </tr>\n",
       "    <tr>\n",
       "      <th>3</th>\n",
       "      <td>кр_карта</td>\n",
       "      <td>0.002892</td>\n",
       "    </tr>\n",
       "  </tbody>\n",
       "</table>\n",
       "</div>"
      ],
      "text/plain": [
       "    feature  importance\n",
       "1   з_плата    0.706473\n",
       "2   возраст    0.234163\n",
       "0     клаcс    0.056472\n",
       "3  кр_карта    0.002892"
      ]
     },
     "execution_count": 17,
     "metadata": {},
     "output_type": "execute_result"
    }
   ],
   "source": [
    "\n",
    "pd.DataFrame({'feature':x.columns,\n",
    "'importance':model.feature_importances_}).sort_values('importance', ascending=False)"
   ]
  },
  {
   "cell_type": "markdown",
   "metadata": {},
   "source": [
    "Как и ранее, у данной модели реализован метод ```predict```, который позволяет получить предсказания классов для входного списка элементов, представленных в пространстве тех же самых признаков (то есть подаём на вход матрицу)."
   ]
  },
  {
   "cell_type": "code",
   "execution_count": 9,
   "metadata": {},
   "outputs": [
    {
     "data": {
      "text/plain": [
       "array([0])"
      ]
     },
     "execution_count": 9,
     "metadata": {},
     "output_type": "execute_result"
    }
   ],
   "source": []
  },
  {
   "cell_type": "markdown",
   "metadata": {},
   "source": [
    "## Разбиение на обучающую и тестовую выборку\n",
    "\n",
    "Данную модель мы обучили на всех имеющихся данных. С одной стороны это хорошо -- ведь мы использовали все имеющиеся данные, с другой стороны, это плохо с точки зрения оценки качества получившейся модели. Хорошо бы уметь его измерять. Оценка качества поможет нам улучшать текущую модель и сравнивать результаты с другими моделями. Хочется, чтобы у нас была отдельная тестовая выборка, на которой можно было бы проверять качество полученной модели. Ведь если взять любой пример из множества обучения, то модель даст на нём заведомо покажет себя хорошо -- она же его уже видела.\n",
    "\n",
    "Для этого в процессе обучения данные разбивают на два множества -- обучающее (learn, train) и тестовое (test). В ```sklearn.model_selection``` для этого предусмотрена функция ```train_test_split```, необходимо подключить."
   ]
  },
  {
   "cell_type": "code",
   "execution_count": 10,
   "metadata": {},
   "outputs": [
    {
     "data": {
      "text/plain": [
       "DecisionTreeClassifier(class_weight=None, criterion='gini', max_depth=5,\n",
       "            max_features=None, max_leaf_nodes=None,\n",
       "            min_impurity_decrease=0.0, min_impurity_split=None,\n",
       "            min_samples_leaf=5, min_samples_split=5,\n",
       "            min_weight_fraction_leaf=0.0, presort=False, random_state=42,\n",
       "            splitter='best')"
      ]
     },
     "execution_count": 10,
     "metadata": {},
     "output_type": "execute_result"
    }
   ],
   "source": [
    "from sklearn.model_selection import train_test_split\n",
    "\n",
    "\n",
    "\n",
    "# обучаем модель на тренировочных данных\n"
   ]
  },
  {
   "cell_type": "code",
   "execution_count": 11,
   "metadata": {
    "collapsed": true
   },
   "outputs": [],
   "source": [
    "# Строим предсказание модели на тестовом множестве\n",
    "\n"
   ]
  },
  {
   "cell_type": "markdown",
   "metadata": {},
   "source": [
    "## Оценка качества классификатора\n",
    "\n",
    "Теперь нужно измерить качество предсказания. Зачастую для этого достаточно просто посчитать долю совпавших ответов в ```y_pred``` и ```y_test```. Но обычная точность даёт искажённые результаты в случае, когда в распределении классов имеется смещение. Например, если в бинарной классификации отношение классов 0/1 равно 90/10 и если у нас есть классификатор, который всегда отвечает 0, то тогда точность такой модели будет равна 0.9, что неоправданно высоко.\n",
    "\n",
    "Чтобы избежать эти проблемы, надёжнее считать такие показатели как точность и полноту. Сначала построим матрицу ошибок $C = (c_{i,j})$, где $c_{i, j}$ -- количество элементов класса $i$, которым классификатор присвоил класс $j$. Для этого есть функция ```confusion_matrix``` в библиотеке ```sklearn.metrics```."
   ]
  },
  {
   "cell_type": "code",
   "execution_count": 12,
   "metadata": {},
   "outputs": [
    {
     "data": {
      "text/html": [
       "<div>\n",
       "<style>\n",
       "    .dataframe thead tr:only-child th {\n",
       "        text-align: right;\n",
       "    }\n",
       "\n",
       "    .dataframe thead th {\n",
       "        text-align: left;\n",
       "    }\n",
       "\n",
       "    .dataframe tbody tr th {\n",
       "        vertical-align: top;\n",
       "    }\n",
       "</style>\n",
       "<table border=\"1\" class=\"dataframe\">\n",
       "  <thead>\n",
       "    <tr style=\"text-align: right;\">\n",
       "      <th></th>\n",
       "      <th>0</th>\n",
       "      <th>1</th>\n",
       "    </tr>\n",
       "  </thead>\n",
       "  <tbody>\n",
       "    <tr>\n",
       "      <th>0</th>\n",
       "      <td>27</td>\n",
       "      <td>3</td>\n",
       "    </tr>\n",
       "    <tr>\n",
       "      <th>1</th>\n",
       "      <td>10</td>\n",
       "      <td>25</td>\n",
       "    </tr>\n",
       "  </tbody>\n",
       "</table>\n",
       "</div>"
      ],
      "text/plain": [
       "    0   1\n",
       "0  27   3\n",
       "1  10  25"
      ]
     },
     "execution_count": 12,
     "metadata": {},
     "output_type": "execute_result"
    }
   ],
   "source": [
    "\n"
   ]
  },
  {
   "cell_type": "markdown",
   "metadata": {},
   "source": [
    "Тогда по определению\n",
    "<center>\n",
    "```\n",
    "TP (True Positive) = 25\n",
    "TN (True Negative) = 27\n",
    "FP (False Positive) = 3\n",
    "FN (False Negative) = 10\n",
    "```\n",
    "</center>\n",
    "\n",
    "$$\n",
    "\\begin{array}{сс}\n",
    "Precision = \\frac{TP}{TP + FP} &\n",
    "Recall = \\frac{TP}{TP + FN}\\\\\n",
    "\\end{array}\n",
    "$$\n",
    "\n",
    "Физический смысл точности -- доля правильно классифицированных положительных объектов среди всех положительных объектов, _определённых классификатором_. Физический смысл полноты -- доля правильно классифицированных положительных объектов среди всех _истинных положительных объектов_.\n",
    "\n",
    "Но для полного счастья хочется иметь не два, а одно число, описывающее качество классификатора. Для этого используют функции семейства F-мер. Например, гармоническое среднее:\n",
    "\n",
    "$$F1 = \\frac{2\\cdot Precision \\cdot Recall}{Precision + Recall}.$$\n",
    "\n",
    "Но бывает, что точность и полнота важны для качества классификации не в равных степенях. Например, если мы определяем рак по фотоснимкам тканей, то нам гораздо важнее полнота: если классификатор сработает ложно, то в таком случае мы назначим лечение здоровому человеку. А вот если классификатор пропустит у пациента заболевание, то лечение мы не назначим, и это скорее всего приведёт к гораздо более тяжёлым последствиям. Наоборот, если мы классифицируем спам, то нам, вероятно, точность более важна, чем полнота. Если мы пропустим спамное сообщение и пользователь его прочитает, то это всего лишь мелкое недоразумение. А если мы ошибочно посчитаем важное сообщение спамом и удалим его, это уже криминал.\n",
    "\n",
    "Так вот, для балансировки между точностью и полнотой используется параметр $\\beta$:\n",
    "$$F = (\\beta^2 + 1)\\frac{Precision \\cdot Recall}{\\beta^2Precision + Recall}.$$\n",
    "Если мы отдаём приоритет точности, то нужно выбирать $\\beta\\in (0, 1)$, если полноте, то $\\beta > 1$. При $\\beta=1$ получаем определённую выше F1-меру.\n",
    "\n",
    "Точность, полноту и F1-меру можно посчитать при помощи встроенной функции ```sklearn.metrics.classification_report```."
   ]
  },
  {
   "cell_type": "code",
   "execution_count": 13,
   "metadata": {},
   "outputs": [
    {
     "name": "stdout",
     "output_type": "stream",
     "text": [
      "             precision    recall  f1-score   support\n",
      "\n",
      "          0       0.90      0.73      0.81        37\n",
      "          1       0.71      0.89      0.79        28\n",
      "\n",
      "avg / total       0.82      0.80      0.80        65\n",
      "\n"
     ]
    }
   ],
   "source": []
  },
  {
   "cell_type": "markdown",
   "metadata": {},
   "source": [
    "## Деревья решений для задач регрессии\n",
    "\n",
    "С помощью деревьев можно решать не только задачу классификации, но и задачу регрессии. То есть когда отклик не дискретный, а непрерывный. Для таких задач реализован класс ```sklearn.tree.DecisionTreeRegressor```, и все шаги по созданию модели точно так же переносятся и на этот класс (даже названия методов одни и те же)."
   ]
  },
  {
   "cell_type": "markdown",
   "metadata": {},
   "source": [
    "## Случайные леса\n",
    "\n",
    "Настроим модель случайных лесов для наших данных."
   ]
  },
  {
   "cell_type": "code",
   "execution_count": 14,
   "metadata": {
    "collapsed": true
   },
   "outputs": [],
   "source": [
    "from sklearn.ensemble import RandomForestClassifier\n",
    "model = \n"
   ]
  },
  {
   "cell_type": "code",
   "execution_count": 15,
   "metadata": {},
   "outputs": [
    {
     "data": {
      "text/plain": [
       "RandomForestClassifier(bootstrap=True, class_weight=None, criterion='gini',\n",
       "            max_depth=5, max_features='auto', max_leaf_nodes=None,\n",
       "            min_impurity_decrease=0.0, min_impurity_split=None,\n",
       "            min_samples_leaf=1, min_samples_split=2,\n",
       "            min_weight_fraction_leaf=0.0, n_estimators=30, n_jobs=1,\n",
       "            oob_score=True, random_state=42, verbose=0, warm_start=False)"
      ]
     },
     "execution_count": 15,
     "metadata": {},
     "output_type": "execute_result"
    }
   ],
   "source": []
  },
  {
   "cell_type": "code",
   "execution_count": 16,
   "metadata": {},
   "outputs": [
    {
     "name": "stdout",
     "output_type": "stream",
     "text": [
      "             precision    recall  f1-score   support\n",
      "\n",
      "          0       1.00      0.77      0.87        39\n",
      "          1       0.74      1.00      0.85        26\n",
      "\n",
      "avg / total       0.90      0.86      0.86        65\n",
      "\n"
     ]
    }
   ],
   "source": []
  },
  {
   "cell_type": "markdown",
   "metadata": {},
   "source": [
    "Видим, что по f1-скору случаный лес дал прирост в качестве с 0.80 до 0.86 по сравнению с одним решающим деревом."
   ]
  },
  {
   "cell_type": "code",
   "execution_count": 21,
   "metadata": {},
   "outputs": [
    {
     "name": "stdout",
     "output_type": "stream",
     "text": [
      "Out-of-bag score: 0.875968992248\n"
     ]
    }
   ],
   "source": []
  },
  {
   "cell_type": "code",
   "execution_count": 17,
   "metadata": {},
   "outputs": [
    {
     "data": {
      "text/html": [
       "<div>\n",
       "<style>\n",
       "    .dataframe thead tr:only-child th {\n",
       "        text-align: right;\n",
       "    }\n",
       "\n",
       "    .dataframe thead th {\n",
       "        text-align: left;\n",
       "    }\n",
       "\n",
       "    .dataframe tbody tr th {\n",
       "        vertical-align: top;\n",
       "    }\n",
       "</style>\n",
       "<table border=\"1\" class=\"dataframe\">\n",
       "  <thead>\n",
       "    <tr style=\"text-align: right;\">\n",
       "      <th></th>\n",
       "      <th>feature</th>\n",
       "      <th>importance</th>\n",
       "    </tr>\n",
       "  </thead>\n",
       "  <tbody>\n",
       "    <tr>\n",
       "      <th>1</th>\n",
       "      <td>з_плата</td>\n",
       "      <td>0.451255</td>\n",
       "    </tr>\n",
       "    <tr>\n",
       "      <th>2</th>\n",
       "      <td>возраст</td>\n",
       "      <td>0.421994</td>\n",
       "    </tr>\n",
       "    <tr>\n",
       "      <th>0</th>\n",
       "      <td>клаcс</td>\n",
       "      <td>0.109135</td>\n",
       "    </tr>\n",
       "    <tr>\n",
       "      <th>3</th>\n",
       "      <td>кр_карта</td>\n",
       "      <td>0.017616</td>\n",
       "    </tr>\n",
       "  </tbody>\n",
       "</table>\n",
       "</div>"
      ],
      "text/plain": [
       "    feature  importance\n",
       "1   з_плата    0.451255\n",
       "2   возраст    0.421994\n",
       "0     клаcс    0.109135\n",
       "3  кр_карта    0.017616"
      ]
     },
     "execution_count": 17,
     "metadata": {},
     "output_type": "execute_result"
    }
   ],
   "source": []
  }
 ],
 "metadata": {
  "kernelspec": {
   "display_name": "Python 3",
   "language": "python",
   "name": "python3"
  },
  "language_info": {
   "codemirror_mode": {
    "name": "ipython",
    "version": 3
   },
   "file_extension": ".py",
   "mimetype": "text/x-python",
   "name": "python",
   "nbconvert_exporter": "python",
   "pygments_lexer": "ipython3",
   "version": "3.8.8"
  }
 },
 "nbformat": 4,
 "nbformat_minor": 2
}
